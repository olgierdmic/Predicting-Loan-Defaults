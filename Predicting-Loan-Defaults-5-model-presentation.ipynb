{
 "cells": [
  {
   "cell_type": "markdown",
   "metadata": {},
   "source": [
    "Notes\n",
    "-------\n",
    "This notebook prepares figures for the model presentation"
   ]
  },
  {
   "cell_type": "code",
   "execution_count": 1,
   "metadata": {
    "extensions": {
     "jupyter_dashboards": {
      "version": 1,
      "views": {
       "grid_default": {},
       "report_default": {
        "hidden": true
       }
      }
     }
    },
    "slideshow": {
     "slide_type": "skip"
    }
   },
   "outputs": [],
   "source": [
    "# common imports\n",
    "\n",
    "from IPython.display import display, HTML\n",
    "from ipywidgets import *\n",
    "\n",
    "import seaborn as sns\n",
    "\n",
    "from sklearn.metrics import confusion_matrix\n",
    "\n",
    "from LC_MMS import MMS, plot_ROCs, plot_PRCs\n",
    "from LC_data_prep import load_and_prep_data, load_raw_rows"
   ]
  },
  {
   "cell_type": "code",
   "execution_count": 2,
   "metadata": {
    "extensions": {
     "jupyter_dashboards": {
      "version": 1,
      "views": {
       "grid_default": {
        "hidden": true
       },
       "report_default": {
        "hidden": true
       }
      }
     }
    },
    "slideshow": {
     "slide_type": "skip"
    }
   },
   "outputs": [],
   "source": [
    "# adjust settings to show all cols and rows\n",
    "pd.options.display.max_columns = 80\n",
    "pd.options.display.max_rows = 20"
   ]
  },
  {
   "cell_type": "code",
   "execution_count": 3,
   "metadata": {
    "extensions": {
     "jupyter_dashboards": {
      "version": 1,
      "views": {
       "grid_default": {
        "hidden": true
       },
       "report_default": {
        "hidden": true
       }
      }
     }
    },
    "slideshow": {
     "slide_type": "skip"
    }
   },
   "outputs": [],
   "source": [
    "# to supress Warnings (if you've gotten tired of them) run this cell\n",
    "import warnings\n",
    "warnings.filterwarnings(\"ignore\")"
   ]
  },
  {
   "cell_type": "code",
   "execution_count": 4,
   "metadata": {
    "extensions": {
     "jupyter_dashboards": {
      "version": 1,
      "views": {
       "grid_default": {},
       "report_default": {
        "hidden": true
       }
      }
     }
    },
    "slideshow": {
     "slide_type": "skip"
    }
   },
   "outputs": [
    {
     "data": {
      "text/html": [
       "<style>\n",
       "h1, h2, h3, h4 {\n",
       "    font-family:serif;\n",
       "    font-weight:bold;  \n",
       "}\n",
       "</style>"
      ],
      "text/plain": [
       "<IPython.core.display.HTML object>"
      ]
     },
     "metadata": {},
     "output_type": "display_data"
    }
   ],
   "source": [
    "%%html\n",
    "<style>\n",
    "h1, h2, h3, h4 {\n",
    "    font-family:serif;\n",
    "    font-weight:bold;  \n",
    "}\n",
    "</style>"
   ]
  },
  {
   "cell_type": "code",
   "execution_count": 5,
   "metadata": {
    "extensions": {
     "jupyter_dashboards": {
      "version": 1,
      "views": {
       "grid_default": {},
       "report_default": {
        "hidden": false
       }
      }
     }
    },
    "slideshow": {
     "slide_type": "-"
    }
   },
   "outputs": [
    {
     "data": {
      "application/vnd.jupyter.widget-view+json": {
       "model_id": "a7947b5458454f7f8a7a8f5646421763",
       "version_major": 2,
       "version_minor": 0
      },
      "text/html": [
       "<p>Failed to display Jupyter Widget of type <code>HTML</code>.</p>\n",
       "<p>\n",
       "  If you're reading this message in the Jupyter Notebook or JupyterLab Notebook, it may mean\n",
       "  that the widgets JavaScript is still loading. If this message persists, it\n",
       "  likely means that the widgets JavaScript library is either not installed or\n",
       "  not enabled. See the <a href=\"https://ipywidgets.readthedocs.io/en/stable/user_install.html\">Jupyter\n",
       "  Widgets Documentation</a> for setup instructions.\n",
       "</p>\n",
       "<p>\n",
       "  If you're reading this message in another frontend (for example, a static\n",
       "  rendering on GitHub or <a href=\"https://nbviewer.jupyter.org/\">NBViewer</a>),\n",
       "  it may mean that your frontend doesn't currently support widgets.\n",
       "</p>\n"
      ],
      "text/plain": [
       "HTML(value='<h1>LC bad loans and how to reduce them.</h1>')"
      ]
     },
     "metadata": {},
     "output_type": "display_data"
    }
   ],
   "source": [
    "display(HTML(\"<h1>LC bad loans and how to reduce them.</h1>\"))"
   ]
  },
  {
   "cell_type": "code",
   "execution_count": 6,
   "metadata": {
    "extensions": {
     "jupyter_dashboards": {
      "version": 1,
      "views": {
       "grid_default": {},
       "report_default": {
        "hidden": true
       }
      }
     }
    },
    "slideshow": {
     "slide_type": "skip"
    }
   },
   "outputs": [],
   "source": [
    "#load the test data\n",
    "test_df = load_and_prep_data(load_test_data=True)\n",
    "X = test_df.iloc[:,1:] # predictor variables\n",
    "y = test_df[\"DEFAULT\"] # response/target variable "
   ]
  },
  {
   "cell_type": "code",
   "execution_count": 7,
   "metadata": {
    "extensions": {
     "jupyter_dashboards": {
      "version": 1,
      "views": {
       "grid_default": {},
       "report_default": {
        "hidden": true
       }
      }
     }
    },
    "slideshow": {
     "slide_type": "skip"
    }
   },
   "outputs": [],
   "source": [
    "# compute biz metrics\n",
    "test_bad_vs_good_loans = test_df.DEFAULT.value_counts()\n",
    "\n",
    "raw_df = load_raw_rows(load_test_data=True)\n",
    "raw_df_with_labels = test_df[[\"DEFAULT\"]].join(raw_df, lsuffix='_test').reset_index()\n",
    "\n",
    "total_loan_num = raw_df_with_labels.loan_amnt.count()\n",
    "total_loan_amt = raw_df_with_labels.loan_amnt.sum()\n",
    "\n",
    "bad_loans_df = raw_df_with_labels.query(\"DEFAULT==1\")\n",
    "bad_loan_loss = bad_loans_df.loan_amnt.sum()\n",
    "\n",
    "good_loans_df = raw_df_with_labels.query(\"DEFAULT==0\")\n",
    "intrest_earned = (good_loans_df.loan_amnt * ( 1 + good_loans_df.int_rate/12 )**good_loans_df.term \n",
    "                 - good_loans_df.loan_amnt).sum()\n",
    "\n",
    "gross_profit_or_loss = (intrest_earned-bad_loan_loss)\n",
    "gross_roi = gross_profit_or_loss/total_loan_amt"
   ]
  },
  {
   "cell_type": "code",
   "execution_count": 8,
   "metadata": {
    "extensions": {
     "jupyter_dashboards": {
      "version": 1,
      "views": {
       "grid_default": {},
       "report_default": {
        "hidden": false
       }
      }
     }
    },
    "slideshow": {
     "slide_type": "-"
    }
   },
   "outputs": [
    {
     "data": {
      "application/vnd.jupyter.widget-view+json": {
       "model_id": "09f8af111b1c4b9db0042957c8c7c18e",
       "version_major": 2,
       "version_minor": 0
      },
      "text/html": [
       "<p>Failed to display Jupyter Widget of type <code>HTML</code>.</p>\n",
       "<p>\n",
       "  If you're reading this message in the Jupyter Notebook or JupyterLab Notebook, it may mean\n",
       "  that the widgets JavaScript is still loading. If this message persists, it\n",
       "  likely means that the widgets JavaScript library is either not installed or\n",
       "  not enabled. See the <a href=\"https://ipywidgets.readthedocs.io/en/stable/user_install.html\">Jupyter\n",
       "  Widgets Documentation</a> for setup instructions.\n",
       "</p>\n",
       "<p>\n",
       "  If you're reading this message in another frontend (for example, a static\n",
       "  rendering on GitHub or <a href=\"https://nbviewer.jupyter.org/\">NBViewer</a>),\n",
       "  it may mean that your frontend doesn't currently support widgets.\n",
       "</p>\n"
      ],
      "text/plain": [
       "HTML(value='<h4>The number of loans issued <sup>*)</sup></h4> <h6><sup>*)</sup> by a test data set</h6>')"
      ]
     },
     "metadata": {},
     "output_type": "display_data"
    },
    {
     "data": {
      "application/vnd.jupyter.widget-view+json": {
       "model_id": "3eb2765502d1420a87fd8797b4cd06bd",
       "version_major": 2,
       "version_minor": 0
      },
      "text/html": [
       "<p>Failed to display Jupyter Widget of type <code>HTML</code>.</p>\n",
       "<p>\n",
       "  If you're reading this message in the Jupyter Notebook or JupyterLab Notebook, it may mean\n",
       "  that the widgets JavaScript is still loading. If this message persists, it\n",
       "  likely means that the widgets JavaScript library is either not installed or\n",
       "  not enabled. See the <a href=\"https://ipywidgets.readthedocs.io/en/stable/user_install.html\">Jupyter\n",
       "  Widgets Documentation</a> for setup instructions.\n",
       "</p>\n",
       "<p>\n",
       "  If you're reading this message in another frontend (for example, a static\n",
       "  rendering on GitHub or <a href=\"https://nbviewer.jupyter.org/\">NBViewer</a>),\n",
       "  it may mean that your frontend doesn't currently support widgets.\n",
       "</p>\n"
      ],
      "text/plain": [
       "HTML(value='<h5>Total number of loans: <b>266215</b></h5>')"
      ]
     },
     "metadata": {},
     "output_type": "display_data"
    },
    {
     "data": {
      "image/png": "[encoded data removed]",
      "text/plain": [
       "<Figure size 432x288 with 1 Axes>"
      ]
     },
     "metadata": {},
     "output_type": "display_data"
    }
   ],
   "source": [
    "# show the current situation in quantities\n",
    "display(HTML(\"<h4>The number of loans issued <sup>*)</sup></h4> <h6><sup>*)</sup> by a test data set</h6>\"))\n",
    "display(HTML(\"<h5>Total number of loans: <b>{:d}</b></h5>\"\n",
    "             .format(total_loan_num)))\n",
    "\n",
    "sns.heatmap( test_bad_vs_good_loans[::-1,None],\n",
    "             cbar=False,\n",
    "             cmap='Spectral', \n",
    "             annot=True,\n",
    "             fmt=',.0f',\n",
    "             annot_kws={'size': 15},\n",
    "             yticklabels=['   TRULY BAD LOANS   ','   TRULY GOOD LOANS   '],\n",
    "             xticklabels=[]\n",
    "            );\n",
    "plt.show()"
   ]
  },
  {
   "cell_type": "code",
   "execution_count": 9,
   "metadata": {
    "extensions": {
     "jupyter_dashboards": {
      "version": 1,
      "views": {
       "grid_default": {},
       "report_default": {
        "hidden": false
       }
      }
     }
    },
    "slideshow": {
     "slide_type": "subslide"
    }
   },
   "outputs": [
    {
     "data": {
      "application/vnd.jupyter.widget-view+json": {
       "model_id": "88e7944ad9284342838628397e767d21",
       "version_major": 2,
       "version_minor": 0
      },
      "text/html": [
       "<p>Failed to display Jupyter Widget of type <code>HTML</code>.</p>\n",
       "<p>\n",
       "  If you're reading this message in the Jupyter Notebook or JupyterLab Notebook, it may mean\n",
       "  that the widgets JavaScript is still loading. If this message persists, it\n",
       "  likely means that the widgets JavaScript library is either not installed or\n",
       "  not enabled. See the <a href=\"https://ipywidgets.readthedocs.io/en/stable/user_install.html\">Jupyter\n",
       "  Widgets Documentation</a> for setup instructions.\n",
       "</p>\n",
       "<p>\n",
       "  If you're reading this message in another frontend (for example, a static\n",
       "  rendering on GitHub or <a href=\"https://nbviewer.jupyter.org/\">NBViewer</a>),\n",
       "  it may mean that your frontend doesn't currently support widgets.\n",
       "</p>\n"
      ],
      "text/plain": [
       "HTML(value='<h3>In monetary terms</h3>')"
      ]
     },
     "metadata": {},
     "output_type": "display_data"
    },
    {
     "data": {
      "application/vnd.jupyter.widget-view+json": {
       "model_id": "2555f35e8f304bafbf3bb671348065c1",
       "version_major": 2,
       "version_minor": 0
      },
      "text/html": [
       "<p>Failed to display Jupyter Widget of type <code>HTML</code>.</p>\n",
       "<p>\n",
       "  If you're reading this message in the Jupyter Notebook or JupyterLab Notebook, it may mean\n",
       "  that the widgets JavaScript is still loading. If this message persists, it\n",
       "  likely means that the widgets JavaScript library is either not installed or\n",
       "  not enabled. See the <a href=\"https://ipywidgets.readthedocs.io/en/stable/user_install.html\">Jupyter\n",
       "  Widgets Documentation</a> for setup instructions.\n",
       "</p>\n",
       "<p>\n",
       "  If you're reading this message in another frontend (for example, a static\n",
       "  rendering on GitHub or <a href=\"https://nbviewer.jupyter.org/\">NBViewer</a>),\n",
       "  it may mean that your frontend doesn't currently support widgets.\n",
       "</p>\n"
      ],
      "text/plain": [
       "HTML(value='<h5>Loans Issued <b>$3,925,567,475</b><br/>Gross Profit/Loss: <b>\\\\$2,531,370,199</b><br/>Gross ROI: <b>0.645%</b></h5>')"
      ]
     },
     "metadata": {},
     "output_type": "display_data"
    },
    {
     "data": {
      "image/png": "[encoded data removed]",
      "text/plain": [
       "<Figure size 432x288 with 1 Axes>"
      ]
     },
     "metadata": {},
     "output_type": "display_data"
    }
   ],
   "source": [
    "# show the current situation in monetary values\n",
    "display(HTML(\"<h3>In monetary terms</h3>\"))\n",
    "display(HTML(\"<h5>Loans Issued <b>${:,.0f}</b><br/>\"\n",
    "             \"Gross Profit/Loss: <b>\\${:,.0f}</b><br/>\"\n",
    "             \"Gross ROI: <b>{:.3f}%</b></h5>\"\n",
    "             .format(total_loan_amt,\n",
    "                     gross_profit_or_loss,\n",
    "                     gross_roi)))\n",
    "\n",
    "sns.heatmap( [[bad_loan_loss],[intrest_earned]],\n",
    "             cbar=False,\n",
    "             cmap='Spectral', \n",
    "             annot=True,\n",
    "             fmt=',.0f',\n",
    "             annot_kws={'size': 15},\n",
    "             yticklabels=['BAD LOANS LOSS','GOOD LOANS INTREST EARNED'],\n",
    "             xticklabels=[],\n",
    "            );"
   ]
  },
  {
   "cell_type": "code",
   "execution_count": 10,
   "metadata": {
    "extensions": {
     "jupyter_dashboards": {
      "version": 1,
      "views": {
       "grid_default": {},
       "report_default": {
        "hidden": false
       }
      }
     }
    }
   },
   "outputs": [
    {
     "data": {
      "application/vnd.jupyter.widget-view+json": {
       "model_id": "6d914a78b88b407cafa29a0f21324e83",
       "version_major": 2,
       "version_minor": 0
      },
      "text/html": [
       "<p>Failed to display Jupyter Widget of type <code>HTML</code>.</p>\n",
       "<p>\n",
       "  If you're reading this message in the Jupyter Notebook or JupyterLab Notebook, it may mean\n",
       "  that the widgets JavaScript is still loading. If this message persists, it\n",
       "  likely means that the widgets JavaScript library is either not installed or\n",
       "  not enabled. See the <a href=\"https://ipywidgets.readthedocs.io/en/stable/user_install.html\">Jupyter\n",
       "  Widgets Documentation</a> for setup instructions.\n",
       "</p>\n",
       "<p>\n",
       "  If you're reading this message in another frontend (for example, a static\n",
       "  rendering on GitHub or <a href=\"https://nbviewer.jupyter.org/\">NBViewer</a>),\n",
       "  it may mean that your frontend doesn't currently support widgets.\n",
       "</p>\n"
      ],
      "text/plain": [
       "HTML(value='<h3>Can we reduce the losses?</h3>')"
      ]
     },
     "metadata": {},
     "output_type": "display_data"
    },
    {
     "data": {
      "application/vnd.jupyter.widget-view+json": {
       "model_id": "60491d69c9ec4c4c90d3fb488fab424e",
       "version_major": 2,
       "version_minor": 0
      },
      "text/html": [
       "<p>Failed to display Jupyter Widget of type <code>HTML</code>.</p>\n",
       "<p>\n",
       "  If you're reading this message in the Jupyter Notebook or JupyterLab Notebook, it may mean\n",
       "  that the widgets JavaScript is still loading. If this message persists, it\n",
       "  likely means that the widgets JavaScript library is either not installed or\n",
       "  not enabled. See the <a href=\"https://ipywidgets.readthedocs.io/en/stable/user_install.html\">Jupyter\n",
       "  Widgets Documentation</a> for setup instructions.\n",
       "</p>\n",
       "<p>\n",
       "  If you're reading this message in another frontend (for example, a static\n",
       "  rendering on GitHub or <a href=\"https://nbviewer.jupyter.org/\">NBViewer</a>),\n",
       "  it may mean that your frontend doesn't currently support widgets.\n",
       "</p>\n"
      ],
      "text/plain": [
       "HTML(value='<h4>If only we could predict which ones will wind up bad ...</h4>')"
      ]
     },
     "metadata": {},
     "output_type": "display_data"
    },
    {
     "data": {
      "application/vnd.jupyter.widget-view+json": {
       "model_id": "67b4e6b9864f4ca19d88fdfa1b180870",
       "version_major": 2,
       "version_minor": 0
      },
      "text/html": [
       "<p>Failed to display Jupyter Widget of type <code>HTML</code>.</p>\n",
       "<p>\n",
       "  If you're reading this message in the Jupyter Notebook or JupyterLab Notebook, it may mean\n",
       "  that the widgets JavaScript is still loading. If this message persists, it\n",
       "  likely means that the widgets JavaScript library is either not installed or\n",
       "  not enabled. See the <a href=\"https://ipywidgets.readthedocs.io/en/stable/user_install.html\">Jupyter\n",
       "  Widgets Documentation</a> for setup instructions.\n",
       "</p>\n",
       "<p>\n",
       "  If you're reading this message in another frontend (for example, a static\n",
       "  rendering on GitHub or <a href=\"https://nbviewer.jupyter.org/\">NBViewer</a>),\n",
       "  it may mean that your frontend doesn't currently support widgets.\n",
       "</p>\n"
      ],
      "text/plain": [
       "HTML(value=\"<h4>Let's use computers to build a predictive model.</h4>\")"
      ]
     },
     "metadata": {},
     "output_type": "display_data"
    }
   ],
   "source": [
    "display(HTML(\"<h3>Can we reduce the losses?</h3>\"))\n",
    "display(HTML(\"<h4>If only we could predict which ones will wind up bad ...</h4>\"))\n",
    "display(HTML(\"<h4>Let's use computers to build a predictive model.</h4>\"))"
   ]
  },
  {
   "cell_type": "code",
   "execution_count": 11,
   "metadata": {
    "extensions": {
     "jupyter_dashboards": {
      "version": 1,
      "views": {
       "grid_default": {},
       "report_default": {
        "hidden": true
       }
      }
     }
    },
    "slideshow": {
     "slide_type": "slide"
    }
   },
   "outputs": [],
   "source": [
    "# load the pre-tained models\n",
    "mms = MMS()\n",
    "\n",
    "best_model_list = mms.list_models()\n",
    "model_df = pd.DataFrame( best_model_list, \n",
    "                        columns=['model_name', 'accuracy', 'precision', 'recall', 'f1', 'neg_log_loss', 'roc_auc'])\n",
    "model_df = model_df.sort_values(by='roc_auc', ascending=False)"
   ]
  },
  {
   "cell_type": "code",
   "execution_count": 12,
   "metadata": {
    "extensions": {
     "jupyter_dashboards": {
      "version": 1,
      "views": {
       "grid_default": {},
       "report_default": {
        "hidden": false
       }
      }
     }
    },
    "slideshow": {
     "slide_type": "slide"
    }
   },
   "outputs": [
    {
     "data": {
      "application/vnd.jupyter.widget-view+json": {
       "model_id": "e35941b0a0ae42f6bd6011399f968afe",
       "version_major": 2,
       "version_minor": 0
      },
      "text/html": [
       "<p>Failed to display Jupyter Widget of type <code>HTML</code>.</p>\n",
       "<p>\n",
       "  If you're reading this message in the Jupyter Notebook or JupyterLab Notebook, it may mean\n",
       "  that the widgets JavaScript is still loading. If this message persists, it\n",
       "  likely means that the widgets JavaScript library is either not installed or\n",
       "  not enabled. See the <a href=\"https://ipywidgets.readthedocs.io/en/stable/user_install.html\">Jupyter\n",
       "  Widgets Documentation</a> for setup instructions.\n",
       "</p>\n",
       "<p>\n",
       "  If you're reading this message in another frontend (for example, a static\n",
       "  rendering on GitHub or <a href=\"https://nbviewer.jupyter.org/\">NBViewer</a>),\n",
       "  it may mean that your frontend doesn't currently support widgets.\n",
       "</p>\n"
      ],
      "text/plain": [
       "HTML(value='<h3>Computer models and their test characteristics<sup>*)</sup></h3>')"
      ]
     },
     "metadata": {},
     "output_type": "display_data"
    },
    {
     "data": {
      "application/vnd.jupyter.widget-view+json": {
       "model_id": "a886156bd7a341a9b404b55a49d9f5b9",
       "version_major": 2,
       "version_minor": 0
      },
      "text/html": [
       "<p>Failed to display Jupyter Widget of type <code>HTML</code>.</p>\n",
       "<p>\n",
       "  If you're reading this message in the Jupyter Notebook or JupyterLab Notebook, it may mean\n",
       "  that the widgets JavaScript is still loading. If this message persists, it\n",
       "  likely means that the widgets JavaScript library is either not installed or\n",
       "  not enabled. See the <a href=\"https://ipywidgets.readthedocs.io/en/stable/user_install.html\">Jupyter\n",
       "  Widgets Documentation</a> for setup instructions.\n",
       "</p>\n",
       "<p>\n",
       "  If you're reading this message in another frontend (for example, a static\n",
       "  rendering on GitHub or <a href=\"https://nbviewer.jupyter.org/\">NBViewer</a>),\n",
       "  it may mean that your frontend doesn't currently support widgets.\n",
       "</p>\n"
      ],
      "text/plain": [
       "HTML(value='<h6><sup>*)</sup> developed based on a training data set</h6>')"
      ]
     },
     "metadata": {},
     "output_type": "display_data"
    },
    {
     "data": {
      "text/html": [
       "<div>\n",
       "<style scoped>\n",
       "    .dataframe tbody tr th:only-of-type {\n",
       "        vertical-align: middle;\n",
       "    }\n",
       "\n",
       "    .dataframe tbody tr th {\n",
       "        vertical-align: top;\n",
       "    }\n",
       "\n",
       "    .dataframe thead th {\n",
       "        text-align: right;\n",
       "    }\n",
       "</style>\n",
       "<table border=\"1\" class=\"dataframe\">\n",
       "  <thead>\n",
       "    <tr style=\"text-align: right;\">\n",
       "      <th></th>\n",
       "      <th>model_name</th>\n",
       "      <th>accuracy</th>\n",
       "      <th>precision</th>\n",
       "      <th>recall</th>\n",
       "      <th>f1</th>\n",
       "      <th>neg_log_loss</th>\n",
       "      <th>roc_auc</th>\n",
       "    </tr>\n",
       "  </thead>\n",
       "  <tbody>\n",
       "    <tr>\n",
       "      <th>0</th>\n",
       "      <td>LGBMClassifier</td>\n",
       "      <td>0.988359</td>\n",
       "      <td>0.994017</td>\n",
       "      <td>0.827837</td>\n",
       "      <td>0.903512</td>\n",
       "      <td>-0.045308</td>\n",
       "      <td>0.982908</td>\n",
       "    </tr>\n",
       "    <tr>\n",
       "      <th>1</th>\n",
       "      <td>StandardScaler-MLPClassifier</td>\n",
       "      <td>0.987412</td>\n",
       "      <td>0.972324</td>\n",
       "      <td>0.828082</td>\n",
       "      <td>0.901095</td>\n",
       "      <td>-0.047627</td>\n",
       "      <td>0.980949</td>\n",
       "    </tr>\n",
       "    <tr>\n",
       "      <th>2</th>\n",
       "      <td>GradientBoostingClassifier</td>\n",
       "      <td>0.985423</td>\n",
       "      <td>0.996757</td>\n",
       "      <td>0.780977</td>\n",
       "      <td>0.876857</td>\n",
       "      <td>-0.052836</td>\n",
       "      <td>0.980631</td>\n",
       "    </tr>\n",
       "    <tr>\n",
       "      <th>3</th>\n",
       "      <td>RandomForestClassifier</td>\n",
       "      <td>0.985271</td>\n",
       "      <td>0.999245</td>\n",
       "      <td>0.776871</td>\n",
       "      <td>0.873857</td>\n",
       "      <td>-0.084361</td>\n",
       "      <td>0.973064</td>\n",
       "    </tr>\n",
       "    <tr>\n",
       "      <th>4</th>\n",
       "      <td>ExtraTreesClassifier</td>\n",
       "      <td>0.984587</td>\n",
       "      <td>0.999299</td>\n",
       "      <td>0.766922</td>\n",
       "      <td>0.867720</td>\n",
       "      <td>-0.089022</td>\n",
       "      <td>0.971741</td>\n",
       "    </tr>\n",
       "    <tr>\n",
       "      <th>5</th>\n",
       "      <td>StackingEstimator-StackingEstimator-StackingEs...</td>\n",
       "      <td>0.985255</td>\n",
       "      <td>0.982446</td>\n",
       "      <td>0.787989</td>\n",
       "      <td>0.877260</td>\n",
       "      <td>-0.082770</td>\n",
       "      <td>0.962697</td>\n",
       "    </tr>\n",
       "    <tr>\n",
       "      <th>6</th>\n",
       "      <td>DecisionTreeClassifier</td>\n",
       "      <td>0.984827</td>\n",
       "      <td>0.988603</td>\n",
       "      <td>0.783118</td>\n",
       "      <td>0.872868</td>\n",
       "      <td>-0.076041</td>\n",
       "      <td>0.961619</td>\n",
       "    </tr>\n",
       "    <tr>\n",
       "      <th>7</th>\n",
       "      <td>LogisticRegression</td>\n",
       "      <td>0.959241</td>\n",
       "      <td>0.596396</td>\n",
       "      <td>0.815029</td>\n",
       "      <td>0.727060</td>\n",
       "      <td>-0.219045</td>\n",
       "      <td>0.952416</td>\n",
       "    </tr>\n",
       "  </tbody>\n",
       "</table>\n",
       "</div>"
      ],
      "text/plain": [
       "                                          model_name  accuracy  precision  \\\n",
       "0                                     LGBMClassifier  0.988359   0.994017   \n",
       "1                       StandardScaler-MLPClassifier  0.987412   0.972324   \n",
       "2                         GradientBoostingClassifier  0.985423   0.996757   \n",
       "3                             RandomForestClassifier  0.985271   0.999245   \n",
       "4                               ExtraTreesClassifier  0.984587   0.999299   \n",
       "5  StackingEstimator-StackingEstimator-StackingEs...  0.985255   0.982446   \n",
       "6                             DecisionTreeClassifier  0.984827   0.988603   \n",
       "7                                 LogisticRegression  0.959241   0.596396   \n",
       "\n",
       "     recall        f1  neg_log_loss   roc_auc  \n",
       "0  0.827837  0.903512     -0.045308  0.982908  \n",
       "1  0.828082  0.901095     -0.047627  0.980949  \n",
       "2  0.780977  0.876857     -0.052836  0.980631  \n",
       "3  0.776871  0.873857     -0.084361  0.973064  \n",
       "4  0.766922  0.867720     -0.089022  0.971741  \n",
       "5  0.787989  0.877260     -0.082770  0.962697  \n",
       "6  0.783118  0.872868     -0.076041  0.961619  \n",
       "7  0.815029  0.727060     -0.219045  0.952416  "
      ]
     },
     "metadata": {},
     "output_type": "display_data"
    }
   ],
   "source": [
    "display(HTML(\"<h3>Computer models and their test characteristics<sup>*)</sup></h3>\"))\n",
    "display(HTML(\"<h6><sup>*)</sup> developed based on a training data set</h6>\"))\n",
    "display(model_df)"
   ]
  },
  {
   "cell_type": "code",
   "execution_count": 13,
   "metadata": {
    "extensions": {
     "jupyter_dashboards": {
      "version": 1,
      "views": {
       "grid_default": {},
       "report_default": {
        "hidden": false
       }
      }
     }
    }
   },
   "outputs": [
    {
     "data": {
      "application/vnd.jupyter.widget-view+json": {
       "model_id": "da87b450e9d14a15b68650cc5816db7d",
       "version_major": 2,
       "version_minor": 0
      },
      "text/html": [
       "<p>Failed to display Jupyter Widget of type <code>HTML</code>.</p>\n",
       "<p>\n",
       "  If you're reading this message in the Jupyter Notebook or JupyterLab Notebook, it may mean\n",
       "  that the widgets JavaScript is still loading. If this message persists, it\n",
       "  likely means that the widgets JavaScript library is either not installed or\n",
       "  not enabled. See the <a href=\"https://ipywidgets.readthedocs.io/en/stable/user_install.html\">Jupyter\n",
       "  Widgets Documentation</a> for setup instructions.\n",
       "</p>\n",
       "<p>\n",
       "  If you're reading this message in another frontend (for example, a static\n",
       "  rendering on GitHub or <a href=\"https://nbviewer.jupyter.org/\">NBViewer</a>),\n",
       "  it may mean that your frontend doesn't currently support widgets.\n",
       "</p>\n"
      ],
      "text/plain": [
       "HTML(value=\"<h4>Let's put the best model to the test</h4>\")"
      ]
     },
     "metadata": {},
     "output_type": "display_data"
    },
    {
     "data": {
      "application/vnd.jupyter.widget-view+json": {
       "model_id": "f3e2cb62fc26459c865bc7537e04ec0a",
       "version_major": 2,
       "version_minor": 0
      },
      "text/html": [
       "<p>Failed to display Jupyter Widget of type <code>HTML</code>.</p>\n",
       "<p>\n",
       "  If you're reading this message in the Jupyter Notebook or JupyterLab Notebook, it may mean\n",
       "  that the widgets JavaScript is still loading. If this message persists, it\n",
       "  likely means that the widgets JavaScript library is either not installed or\n",
       "  not enabled. See the <a href=\"https://ipywidgets.readthedocs.io/en/stable/user_install.html\">Jupyter\n",
       "  Widgets Documentation</a> for setup instructions.\n",
       "</p>\n",
       "<p>\n",
       "  If you're reading this message in another frontend (for example, a static\n",
       "  rendering on GitHub or <a href=\"https://nbviewer.jupyter.org/\">NBViewer</a>),\n",
       "  it may mean that your frontend doesn't currently support widgets.\n",
       "</p>\n"
      ],
      "text/plain": [
       "HTML(value=\"<h5>The best model by 'ROC AUC' is LGBMClassifier</h5>\")"
      ]
     },
     "metadata": {},
     "output_type": "display_data"
    }
   ],
   "source": [
    "display(HTML(\"<h4>Let's put the best model to the test</h4>\"))\n",
    "\n",
    "# get the best model to predict outcomes\n",
    "the_best = mms.get_model(by_best_score='roc_auc')\n",
    "predicted = the_best.predict(X)\n",
    "expected = y\n",
    "display(HTML(\"<h5>The best model by 'ROC AUC' is {:s}</h5>\".format(the_best.__class__.__name__)))"
   ]
  },
  {
   "cell_type": "code",
   "execution_count": 14,
   "metadata": {
    "extensions": {
     "jupyter_dashboards": {
      "version": 1,
      "views": {
       "grid_default": {},
       "report_default": {
        "hidden": false
       }
      }
     }
    }
   },
   "outputs": [
    {
     "data": {
      "application/vnd.jupyter.widget-view+json": {
       "model_id": "07ad0a33b311436d97e32f3238211271",
       "version_major": 2,
       "version_minor": 0
      },
      "text/html": [
       "<p>Failed to display Jupyter Widget of type <code>HTML</code>.</p>\n",
       "<p>\n",
       "  If you're reading this message in the Jupyter Notebook or JupyterLab Notebook, it may mean\n",
       "  that the widgets JavaScript is still loading. If this message persists, it\n",
       "  likely means that the widgets JavaScript library is either not installed or\n",
       "  not enabled. See the <a href=\"https://ipywidgets.readthedocs.io/en/stable/user_install.html\">Jupyter\n",
       "  Widgets Documentation</a> for setup instructions.\n",
       "</p>\n",
       "<p>\n",
       "  If you're reading this message in another frontend (for example, a static\n",
       "  rendering on GitHub or <a href=\"https://nbviewer.jupyter.org/\">NBViewer</a>),\n",
       "  it may mean that your frontend doesn't currently support widgets.\n",
       "</p>\n"
      ],
      "text/plain": [
       "HTML(value='<h4>In mumbers</h6>')"
      ]
     },
     "metadata": {},
     "output_type": "display_data"
    },
    {
     "data": {
      "image/png": "[encoded data removed]",
      "text/plain": [
       "<Figure size 432x288 with 1 Axes>"
      ]
     },
     "metadata": {},
     "output_type": "display_data"
    }
   ],
   "source": [
    "# show the numbers\n",
    "display(HTML(\"<h4>In mumbers</h6>\"))\n",
    "\n",
    "cm = confusion_matrix(expected, predicted)\n",
    "cm = cm[::-1,::-1] # reversed because of habit\n",
    "sns.heatmap( cm,\n",
    "             cbar=False,\n",
    "             cmap='Spectral', \n",
    "             annot=True,\n",
    "             square=True,\n",
    "             fmt=',d',\n",
    "             annot_kws={'size': 15},\n",
    "             yticklabels=['   TRULY DEFAULT   ','   TRULY GOOD LOAN   '],\n",
    "             xticklabels=['PRED DEFAULT', 'PRED GOOD LOAN']\n",
    "            );"
   ]
  },
  {
   "cell_type": "code",
   "execution_count": 15,
   "metadata": {
    "extensions": {
     "jupyter_dashboards": {
      "version": 1,
      "views": {
       "grid_default": {},
       "report_default": {
        "hidden": true
       }
      }
     }
    }
   },
   "outputs": [],
   "source": [
    "# compute the $$$\n",
    "\n",
    "f = pd.DataFrame( np.c_[expected,pd.Series(predicted)], columns=['e','p'] )\n",
    "\n",
    "P = f[ f.e == 1 ].e.count()\n",
    "N = f[ f.e == 0 ].e.count()\n",
    "TP = f [ (f.e == 1) & (f.p == 1) ].p.count()\n",
    "FP = f [ (f.e == 0) & (f.p == 1) ].p.count()\n",
    "FN = f [ (f.e == 1) & (f.p == 0) ].p.count()\n",
    "TN = f [ (f.e == 0) & (f.p == 0) ].p.count()\n",
    "\n",
    "pred_s = pd.Series(predicted)\n",
    "pred_s.name = 'PRED'\n",
    "assert len(pred_s) == len(raw_df_with_labels)\n",
    "\n",
    "predictions_and_raw_df = pd.concat((pred_s,raw_df_with_labels), axis=1, ignore_index=False).set_index(\"id\")\n",
    "total_loan_amt = predictions_and_raw_df.loan_amnt.sum()\n",
    "\n",
    "P_df = predictions_and_raw_df.query(\"DEFAULT==1\")\n",
    "bad_loan_loss = -1 * P_df.loan_amnt.sum()\n",
    "\n",
    "N_df = predictions_and_raw_df.query(\"DEFAULT==0\")\n",
    "good_loan_intrest_earned = (N_df.loan_amnt * ( 1 + N_df.int_rate/12 )**N_df.term - N_df.loan_amnt).sum()\n",
    "\n",
    "Pred_N_df = predictions_and_raw_df.query(\"PRED==0\")\n",
    "pred_good_loan_amt = Pred_N_df.loan_amnt.sum()\n",
    "working_capital_increase = total_loan_amt - pred_good_loan_amt\n",
    "\n",
    "TP_df = predictions_and_raw_df.query(\"PRED==1 & DEFAULT==1\")\n",
    "bad_loan_loss_avoided_due_to_TP = (-1 * TP_df.loan_amnt).sum()\n",
    "\n",
    "FP_df = predictions_and_raw_df.query(\"PRED==1 & DEFAULT==0\")\n",
    "good_loan_intrest_forfeited_due_to_FP = (FP_df.loan_amnt * ( 1 + FP_df.int_rate/12 )**FP_df.term - FP_df.loan_amnt).sum()\n",
    "\n",
    "FN_df = predictions_and_raw_df.query(\"PRED==0 & DEFAULT==1\")\n",
    "bad_loan_loss_due_to_FN = (-1 * FN_df.loan_amnt).sum()\n",
    "\n",
    "TN_df = predictions_and_raw_df.query(\"PRED==0 & DEFAULT==0\")\n",
    "good_loan_intrest_earned_due_to_TN = (TN_df.loan_amnt * ( 1 + TN_df.int_rate/12 )**TN_df.term - TN_df.loan_amnt).sum()\n",
    "\n",
    "gross_profit = intrest_earned + bad_loan_loss\n",
    "gross_profit_with_the_pred_model = good_loan_intrest_earned_due_to_TN + bad_loan_loss_due_to_FN\n",
    "gross_profit_increase = gross_profit_with_the_pred_model - gross_profit\n",
    "\n",
    "gross_roi = gross_profit/predictions_and_raw_df.loan_amnt.sum()\n",
    "gross_roi_with_the_pred_model = gross_profit_with_the_pred_model/(FN_df.loan_amnt.sum()+TN_df.loan_amnt.sum())\n",
    "gross_roi_lift = gross_roi_with_the_pred_model - gross_roi"
   ]
  },
  {
   "cell_type": "code",
   "execution_count": 16,
   "metadata": {
    "extensions": {
     "jupyter_dashboards": {
      "version": 1,
      "views": {
       "grid_default": {},
       "report_default": {
        "hidden": false
       }
      }
     }
    }
   },
   "outputs": [
    {
     "data": {
      "application/vnd.jupyter.widget-view+json": {
       "model_id": "d6ab85467935437081d5297e2a4a4d02",
       "version_major": 2,
       "version_minor": 0
      },
      "text/html": [
       "<p>Failed to display Jupyter Widget of type <code>HTML</code>.</p>\n",
       "<p>\n",
       "  If you're reading this message in the Jupyter Notebook or JupyterLab Notebook, it may mean\n",
       "  that the widgets JavaScript is still loading. If this message persists, it\n",
       "  likely means that the widgets JavaScript library is either not installed or\n",
       "  not enabled. See the <a href=\"https://ipywidgets.readthedocs.io/en/stable/user_install.html\">Jupyter\n",
       "  Widgets Documentation</a> for setup instructions.\n",
       "</p>\n",
       "<p>\n",
       "  If you're reading this message in another frontend (for example, a static\n",
       "  rendering on GitHub or <a href=\"https://nbviewer.jupyter.org/\">NBViewer</a>),\n",
       "  it may mean that your frontend doesn't currently support widgets.\n",
       "</p>\n"
      ],
      "text/plain": [
       "HTML(value='<h4>In monetary terms</h4>')"
      ]
     },
     "metadata": {},
     "output_type": "display_data"
    },
    {
     "data": {
      "application/vnd.jupyter.widget-view+json": {
       "model_id": "703b9d9d4f1442c3abcd399c9babfe0b",
       "version_major": 2,
       "version_minor": 0
      },
      "text/html": [
       "<p>Failed to display Jupyter Widget of type <code>HTML</code>.</p>\n",
       "<p>\n",
       "  If you're reading this message in the Jupyter Notebook or JupyterLab Notebook, it may mean\n",
       "  that the widgets JavaScript is still loading. If this message persists, it\n",
       "  likely means that the widgets JavaScript library is either not installed or\n",
       "  not enabled. See the <a href=\"https://ipywidgets.readthedocs.io/en/stable/user_install.html\">Jupyter\n",
       "  Widgets Documentation</a> for setup instructions.\n",
       "</p>\n",
       "<p>\n",
       "  If you're reading this message in another frontend (for example, a static\n",
       "  rendering on GitHub or <a href=\"https://nbviewer.jupyter.org/\">NBViewer</a>),\n",
       "  it may mean that your frontend doesn't currently support widgets.\n",
       "</p>\n"
      ],
      "text/plain": [
       "HTML(value='<h5>Total Loans Issued <b>$3,706,710,600</b> (Working Capital Increase: <b>\\\\$218,856,875</b>)<br/>Gross Profit with the model: <b>\\\\$2,747,183,409</b> (Gross Profit Increase: <b>\\\\$215,813,210</b>)<br/>Gross ROI with the model: <b>0.741%</b> (Lift:<b>0.096%</b>) </h5>')"
      ]
     },
     "metadata": {},
     "output_type": "display_data"
    },
    {
     "data": {
      "application/vnd.jupyter.widget-view+json": {
       "model_id": "5da689b5c7ac4461a08b03ebf8df9287",
       "version_major": 2,
       "version_minor": 0
      },
      "text/html": [
       "<p>Failed to display Jupyter Widget of type <code>HTML</code>.</p>\n",
       "<p>\n",
       "  If you're reading this message in the Jupyter Notebook or JupyterLab Notebook, it may mean\n",
       "  that the widgets JavaScript is still loading. If this message persists, it\n",
       "  likely means that the widgets JavaScript library is either not installed or\n",
       "  not enabled. See the <a href=\"https://ipywidgets.readthedocs.io/en/stable/user_install.html\">Jupyter\n",
       "  Widgets Documentation</a> for setup instructions.\n",
       "</p>\n",
       "<p>\n",
       "  If you're reading this message in another frontend (for example, a static\n",
       "  rendering on GitHub or <a href=\"https://nbviewer.jupyter.org/\">NBViewer</a>),\n",
       "  it may mean that your frontend doesn't currently support widgets.\n",
       "</p>\n"
      ],
      "text/plain": [
       "HTML(value='<h6><sup>*)</sup> the figures represent the avoided losses and opportunity cost</h6><h6><sup>**)</sup> the figures represent the bad loan losses and good loan interest earned</h6>')"
      ]
     },
     "metadata": {},
     "output_type": "display_data"
    },
    {
     "data": {
      "image/png": "[encoded data removed]",
      "text/plain": [
       "<Figure size 432x288 with 1 Axes>"
      ]
     },
     "metadata": {},
     "output_type": "display_data"
    }
   ],
   "source": [
    "# show me the $$$\n",
    "display(HTML(\"<h4>In monetary terms</h4>\"))\n",
    "display(HTML(\"<h5>Total Loans Issued <b>${:,.0f}</b> (Working Capital Increase: <b>\\${:,.0f}</b>)<br/>\"\n",
    "             \"Gross Profit with the model: <b>\\${:,.0f}</b> (Gross Profit Increase: <b>\\${:,.0f}</b>)<br/>\"\n",
    "             \"Gross ROI with the model: <b>{:.3f}%</b> (Lift:<b>{:.3f}%</b>) </h5>\"\n",
    "             .format(pred_good_loan_amt, working_capital_increase,\n",
    "                     gross_profit_with_the_pred_model, gross_profit_increase,\n",
    "                     gross_roi_with_the_pred_model, gross_roi_lift)))\n",
    "\n",
    "cm = [\n",
    "    [bad_loan_loss_avoided_due_to_TP,       bad_loan_loss_due_to_FN],\n",
    "    [good_loan_intrest_forfeited_due_to_FP, good_loan_intrest_earned_due_to_TN]\n",
    "]\n",
    "sns.heatmap( cm,\n",
    "             cbar=False,\n",
    "             cmap='Spectral', \n",
    "             annot=True,\n",
    "             fmt=',.0f',\n",
    "             annot_kws={'size': 15},\n",
    "             yticklabels=['   TRULY DEFAULT   ','   TRULY GOOD LOAN   '],\n",
    "             xticklabels=['PRED DEFAULT*)', 'PRED GOOD LOAN**)']\n",
    "            )\n",
    "\n",
    "display(HTML(\"<h6><sup>*)</sup> the figures represent the avoided losses and opportunity cost</h6>\"\n",
    "             \"<h6><sup>**)</sup> the figures represent the bad loan losses and good loan interest earned</h6>\"))"
   ]
  },
  {
   "cell_type": "code",
   "execution_count": 17,
   "metadata": {
    "extensions": {
     "jupyter_dashboards": {
      "version": 1,
      "views": {
       "grid_default": {},
       "report_default": {
        "hidden": false
       }
      }
     }
    }
   },
   "outputs": [
    {
     "data": {
      "application/vnd.jupyter.widget-view+json": {
       "model_id": "3e4f1496fabe45cfbd3a2ca31dea3d96",
       "version_major": 2,
       "version_minor": 0
      },
      "text/html": [
       "<p>Failed to display Jupyter Widget of type <code>HTML</code>.</p>\n",
       "<p>\n",
       "  If you're reading this message in the Jupyter Notebook or JupyterLab Notebook, it may mean\n",
       "  that the widgets JavaScript is still loading. If this message persists, it\n",
       "  likely means that the widgets JavaScript library is either not installed or\n",
       "  not enabled. See the <a href=\"https://ipywidgets.readthedocs.io/en/stable/user_install.html\">Jupyter\n",
       "  Widgets Documentation</a> for setup instructions.\n",
       "</p>\n",
       "<p>\n",
       "  If you're reading this message in another frontend (for example, a static\n",
       "  rendering on GitHub or <a href=\"https://nbviewer.jupyter.org/\">NBViewer</a>),\n",
       "  it may mean that your frontend doesn't currently support widgets.\n",
       "</p>\n"
      ],
      "text/plain": [
       "HTML(value='<h4>Can we do better?</h4>')"
      ]
     },
     "metadata": {},
     "output_type": "display_data"
    },
    {
     "data": {
      "application/vnd.jupyter.widget-view+json": {
       "model_id": "111f1cd553b4452d9b8b011707a63239",
       "version_major": 2,
       "version_minor": 0
      },
      "text/html": [
       "<p>Failed to display Jupyter Widget of type <code>HTML</code>.</p>\n",
       "<p>\n",
       "  If you're reading this message in the Jupyter Notebook or JupyterLab Notebook, it may mean\n",
       "  that the widgets JavaScript is still loading. If this message persists, it\n",
       "  likely means that the widgets JavaScript library is either not installed or\n",
       "  not enabled. See the <a href=\"https://ipywidgets.readthedocs.io/en/stable/user_install.html\">Jupyter\n",
       "  Widgets Documentation</a> for setup instructions.\n",
       "</p>\n",
       "<p>\n",
       "  If you're reading this message in another frontend (for example, a static\n",
       "  rendering on GitHub or <a href=\"https://nbviewer.jupyter.org/\">NBViewer</a>),\n",
       "  it may mean that your frontend doesn't currently support widgets.\n",
       "</p>\n"
      ],
      "text/plain": [
       "HTML(value='<h4>What if we can change the probability threshold for accepting/denying loans?</h4>')"
      ]
     },
     "metadata": {},
     "output_type": "display_data"
    }
   ],
   "source": [
    "display(HTML(\"<h4>Can we do better?</h4>\"))\n",
    "display(HTML(\"<h4>What if we can change the probability threshold for accepting/denying loans?</h4>\"))"
   ]
  },
  {
   "cell_type": "code",
   "execution_count": 18,
   "metadata": {
    "extensions": {
     "jupyter_dashboards": {
      "version": 1,
      "views": {
       "grid_default": {},
       "report_default": {
        "hidden": false
       }
      }
     }
    }
   },
   "outputs": [
    {
     "data": {
      "application/vnd.jupyter.widget-view+json": {
       "model_id": "13d0211ce0004df79008a96001391b1c",
       "version_major": 2,
       "version_minor": 0
      },
      "text/html": [
       "<p>Failed to display Jupyter Widget of type <code>HTML</code>.</p>\n",
       "<p>\n",
       "  If you're reading this message in the Jupyter Notebook or JupyterLab Notebook, it may mean\n",
       "  that the widgets JavaScript is still loading. If this message persists, it\n",
       "  likely means that the widgets JavaScript library is either not installed or\n",
       "  not enabled. See the <a href=\"https://ipywidgets.readthedocs.io/en/stable/user_install.html\">Jupyter\n",
       "  Widgets Documentation</a> for setup instructions.\n",
       "</p>\n",
       "<p>\n",
       "  If you're reading this message in another frontend (for example, a static\n",
       "  rendering on GitHub or <a href=\"https://nbviewer.jupyter.org/\">NBViewer</a>),\n",
       "  it may mean that your frontend doesn't currently support widgets.\n",
       "</p>\n"
      ],
      "text/plain": [
       "HTML(value='<h4>Interactive confusion matrix as a function of threshold</h4>')"
      ]
     },
     "metadata": {},
     "output_type": "display_data"
    },
    {
     "data": {
      "application/vnd.jupyter.widget-view+json": {
       "model_id": "a7628ea63d0f4b1ea68c342754dbaea3",
       "version_major": 2,
       "version_minor": 0
      },
      "text/html": [
       "<p>Failed to display Jupyter Widget of type <code>interactive</code>.</p>\n",
       "<p>\n",
       "  If you're reading this message in the Jupyter Notebook or JupyterLab Notebook, it may mean\n",
       "  that the widgets JavaScript is still loading. If this message persists, it\n",
       "  likely means that the widgets JavaScript library is either not installed or\n",
       "  not enabled. See the <a href=\"https://ipywidgets.readthedocs.io/en/stable/user_install.html\">Jupyter\n",
       "  Widgets Documentation</a> for setup instructions.\n",
       "</p>\n",
       "<p>\n",
       "  If you're reading this message in another frontend (for example, a static\n",
       "  rendering on GitHub or <a href=\"https://nbviewer.jupyter.org/\">NBViewer</a>),\n",
       "  it may mean that your frontend doesn't currently support widgets.\n",
       "</p>\n"
      ],
      "text/plain": [
       "interactive(children=(FloatSlider(value=0.5, description='Threshold', max=1.0, step=0.01), Checkbox(value=False, description='Cross tab data as %'), Output()), _dom_classes=('widget-interact',))"
      ]
     },
     "metadata": {},
     "output_type": "display_data"
    }
   ],
   "source": [
    "# show interactive confucion matrix\n",
    "display(HTML(\"<h4>Interactive confusion matrix as a function of threshold</h4>\"))\n",
    "\n",
    "raw_df = load_raw_rows(load_test_data=True)\n",
    "expected = y\n",
    "raw_df_with_labels = pd.DataFrame(expected).join(raw_df, lsuffix='_test').reset_index()\n",
    "\n",
    "predict_default_proba = the_best.predict_proba(X)[:,1]\n",
    "\n",
    "\n",
    "@interact(Threshold=FloatSlider(value=.5,min=0,max=1,step=0.01),\n",
    "          Pct=Checkbox(value=False,description='Cross tab data as %'))\n",
    "def plot_confusion_matrix(Threshold,Pct):\n",
    "    \n",
    "    if Threshold == 1:\n",
    "        predicted_t = np.zeros( len(predict_default_proba) )\n",
    "    elif Threshold == 0:\n",
    "        predicted_t = np.ones( len(predict_default_proba) )\n",
    "    else:\n",
    "        predicted_t = np.where( predict_default_proba >= Threshold, 1, 0) \n",
    "\n",
    "    ct = pd.crosstab(expected, predicted_t, \n",
    "                     rownames=['Expected'], colnames=['Predicted'], \n",
    "                     margins=True, normalize=Pct)\n",
    "    ct = ct.reindex(index=(1,0,'All'),columns=(1,0,'All'))\n",
    "    ct.fillna(0,inplace=True)\n",
    "    \n",
    "    if Pct:\n",
    "        ct = ct.applymap( lambda v: '{:.2f}%'.format(100*v) )\n",
    "\n",
    "    ct.index = ['Truly Bad Loan', 'Truly Good Loan', 'Pred All']\n",
    "    ct.columns = ['Pred Bad Loan', 'Pred Good Loan', 'Truly All']\n",
    "    \n",
    "    pred_t_s = pd.Series(predicted_t)\n",
    "    pred_t_s.name = 'PRED'\n",
    "    assert len(pred_t_s) == len(raw_df_with_labels)\n",
    "    predictions_and_raw_df = pd.concat((pred_t_s,raw_df_with_labels), axis=1, ignore_index=False).set_index(\"id\")\n",
    "    \n",
    "    # bad loan losses\n",
    "    FN_df = predictions_and_raw_df.query(\"PRED==0 & DEFAULT==1\")\n",
    "    bad_loan_loss_with_the_model = -1 * FN_df.loan_amnt.sum()\n",
    "    print(\"The threshold for probability of default above which loans are denied: {:d}%\".format(int(100*Threshold)))\n",
    "    print(\"Bad Loan Losses: {:,.2f}\".format(bad_loan_loss_with_the_model))\n",
    "    \n",
    "    # interest earned\n",
    "    TN_df = predictions_and_raw_df.query(\"PRED==0 & DEFAULT==0\")\n",
    "    intrest_earned_with_the_model_s = TN_df.loan_amnt * ( 1 + TN_df.int_rate/12 )**TN_df.term - TN_df.loan_amnt\n",
    "    intrest_earned_with_the_model = intrest_earned_with_the_model_s.sum()\n",
    "    print(\"Interest Earned: {:,.2f}\".format(intrest_earned_with_the_model))\n",
    "    \n",
    "    # gross profit, ROI\n",
    "    gross_profit_with_the_model = intrest_earned_with_the_model + bad_loan_loss_with_the_model\n",
    "    roi_with_the_model = gross_profit_with_the_model/(FN_df.loan_amnt.sum()+TN_df.loan_amnt.sum())\n",
    "    print(\"Gross Profit/Loss: {:,.2f}\".format(gross_profit_with_the_model))\n",
    "    print(\"Gross ROI: {:,.3f}%\".format(roi_with_the_model))\n",
    "    \n",
    "    return ct\n",
    "\n"
   ]
  },
  {
   "cell_type": "code",
   "execution_count": 19,
   "metadata": {
    "extensions": {
     "jupyter_dashboards": {
      "version": 1,
      "views": {
       "grid_default": {},
       "report_default": {
        "hidden": false
       }
      }
     }
    }
   },
   "outputs": [
    {
     "data": {
      "application/vnd.jupyter.widget-view+json": {
       "model_id": "38fb81134e2d49ed8eaf8b13d14a43e3",
       "version_major": 2,
       "version_minor": 0
      },
      "text/html": [
       "<p>Failed to display Jupyter Widget of type <code>HTML</code>.</p>\n",
       "<p>\n",
       "  If you're reading this message in the Jupyter Notebook or JupyterLab Notebook, it may mean\n",
       "  that the widgets JavaScript is still loading. If this message persists, it\n",
       "  likely means that the widgets JavaScript library is either not installed or\n",
       "  not enabled. See the <a href=\"https://ipywidgets.readthedocs.io/en/stable/user_install.html\">Jupyter\n",
       "  Widgets Documentation</a> for setup instructions.\n",
       "</p>\n",
       "<p>\n",
       "  If you're reading this message in another frontend (for example, a static\n",
       "  rendering on GitHub or <a href=\"https://nbviewer.jupyter.org/\">NBViewer</a>),\n",
       "  it may mean that your frontend doesn't currently support widgets.\n",
       "</p>\n"
      ],
      "text/plain": [
       "HTML(value='<h4>Can we somehow automate the selection of the optimal threshold?</h4>')"
      ]
     },
     "metadata": {},
     "output_type": "display_data"
    },
    {
     "data": {
      "application/vnd.jupyter.widget-view+json": {
       "model_id": "ae022ace84f447b0a13f2927f50794d4",
       "version_major": 2,
       "version_minor": 0
      },
      "text/html": [
       "<p>Failed to display Jupyter Widget of type <code>HTML</code>.</p>\n",
       "<p>\n",
       "  If you're reading this message in the Jupyter Notebook or JupyterLab Notebook, it may mean\n",
       "  that the widgets JavaScript is still loading. If this message persists, it\n",
       "  likely means that the widgets JavaScript library is either not installed or\n",
       "  not enabled. See the <a href=\"https://ipywidgets.readthedocs.io/en/stable/user_install.html\">Jupyter\n",
       "  Widgets Documentation</a> for setup instructions.\n",
       "</p>\n",
       "<p>\n",
       "  If you're reading this message in another frontend (for example, a static\n",
       "  rendering on GitHub or <a href=\"https://nbviewer.jupyter.org/\">NBViewer</a>),\n",
       "  it may mean that your frontend doesn't currently support widgets.\n",
       "</p>\n"
      ],
      "text/plain": [
       "HTML(value=\"<h4>Let's try</h4>\")"
      ]
     },
     "metadata": {},
     "output_type": "display_data"
    }
   ],
   "source": [
    "display(HTML(\"<h4>Can we somehow automate the selection of the optimal threshold?</h4>\"))\n",
    "display(HTML(\"<h4>Let's try</h4>\"))"
   ]
  },
  {
   "cell_type": "code",
   "execution_count": 22,
   "metadata": {
    "extensions": {
     "jupyter_dashboards": {
      "version": 1,
      "views": {
       "grid_default": {},
       "report_default": {
        "hidden": false
       }
      }
     }
    },
    "scrolled": false
   },
   "outputs": [
    {
     "data": {
      "application/vnd.jupyter.widget-view+json": {
       "model_id": "ce448d5212a74fa28f4fb9c332f8c52f",
       "version_major": 2,
       "version_minor": 0
      },
      "text/html": [
       "<p>Failed to display Jupyter Widget of type <code>HTML</code>.</p>\n",
       "<p>\n",
       "  If you're reading this message in the Jupyter Notebook or JupyterLab Notebook, it may mean\n",
       "  that the widgets JavaScript is still loading. If this message persists, it\n",
       "  likely means that the widgets JavaScript library is either not installed or\n",
       "  not enabled. See the <a href=\"https://ipywidgets.readthedocs.io/en/stable/user_install.html\">Jupyter\n",
       "  Widgets Documentation</a> for setup instructions.\n",
       "</p>\n",
       "<p>\n",
       "  If you're reading this message in another frontend (for example, a static\n",
       "  rendering on GitHub or <a href=\"https://nbviewer.jupyter.org/\">NBViewer</a>),\n",
       "  it may mean that your frontend doesn't currently support widgets.\n",
       "</p>\n"
      ],
      "text/plain": [
       "HTML(value='<h4>Gross Profit and ROI as a function of threshold</h4>')"
      ]
     },
     "metadata": {},
     "output_type": "display_data"
    },
    {
     "data": {
      "application/javascript": [
       "/* Put everything inside the global mpl namespace */\n",
       "window.mpl = {};\n",
       "\n",
       "\n",
       "mpl.get_websocket_type = function() {\n",
       "    if (typeof(WebSocket) !== 'undefined') {\n",
       "        return WebSocket;\n",
       "    } else if (typeof(MozWebSocket) !== 'undefined') {\n",
       "        return MozWebSocket;\n",
       "    } else {\n",
       "        alert('Your browser does not have WebSocket support.' +\n",
       "              'Please try Chrome, Safari or Firefox ≥ 6. ' +\n",
       "              'Firefox 4 and 5 are also supported but you ' +\n",
       "              'have to enable WebSockets in about:config.');\n",
       "    };\n",
       "}\n",
       "\n",
       "mpl.figure = function(figure_id, websocket, ondownload, parent_element) {\n",
       "    this.id = figure_id;\n",
       "\n",
       "    this.ws = websocket;\n",
       "\n",
       "    this.supports_binary = (this.ws.binaryType != undefined);\n",
       "\n",
       "    if (!this.supports_binary) {\n",
       "        var warnings = document.getElementById(\"mpl-warnings\");\n",
       "        if (warnings) {\n",
       "            warnings.style.display = 'block';\n",
       "            warnings.textContent = (\n",
       "                \"This browser does not support binary websocket messages. \" +\n",
       "                    \"Performance may be slow.\");\n",
       "        }\n",
       "    }\n",
       "\n",
       "    this.imageObj = new Image();\n",
       "\n",
       "    this.context = undefined;\n",
       "    this.message = undefined;\n",
       "    this.canvas = undefined;\n",
       "    this.rubberband_canvas = undefined;\n",
       "    this.rubberband_context = undefined;\n",
       "    this.format_dropdown = undefined;\n",
       "\n",
       "    this.image_mode = 'full';\n",
       "\n",
       "    this.root = $('<div/>');\n",
       "    this._root_extra_style(this.root)\n",
       "    this.root.attr('style', 'display: inline-block');\n",
       "\n",
       "    $(parent_element).append(this.root);\n",
       "\n",
       "    this._init_header(this);\n",
       "    this._init_canvas(this);\n",
       "    this._init_toolbar(this);\n",
       "\n",
       "    var fig = this;\n",
       "\n",
       "    this.waiting = false;\n",
       "\n",
       "    this.ws.onopen =  function () {\n",
       "            fig.send_message(\"supports_binary\", {value: fig.supports_binary});\n",
       "            fig.send_message(\"send_image_mode\", {});\n",
       "            if (mpl.ratio != 1) {\n",
       "                fig.send_message(\"set_dpi_ratio\", {'dpi_ratio': mpl.ratio});\n",
       "            }\n",
       "            fig.send_message(\"refresh\", {});\n",
       "        }\n",
       "\n",
       "    this.imageObj.onload = function() {\n",
       "            if (fig.image_mode == 'full') {\n",
       "                // Full images could contain transparency (where diff images\n",
       "                // almost always do), so we need to clear the canvas so that\n",
       "                // there is no ghosting.\n",
       "                fig.context.clearRect(0, 0, fig.canvas.width, fig.canvas.height);\n",
       "            }\n",
       "            fig.context.drawImage(fig.imageObj, 0, 0);\n",
       "        };\n",
       "\n",
       "    this.imageObj.onunload = function() {\n",
       "        fig.ws.close();\n",
       "    }\n",
       "\n",
       "    this.ws.onmessage = this._make_on_message_function(this);\n",
       "\n",
       "    this.ondownload = ondownload;\n",
       "}\n",
       "\n",
       "mpl.figure.prototype._init_header = function() {\n",
       "    var titlebar = $(\n",
       "        '<div class=\"ui-dialog-titlebar ui-widget-header ui-corner-all ' +\n",
       "        'ui-helper-clearfix\"/>');\n",
       "    var titletext = $(\n",
       "        '<div class=\"ui-dialog-title\" style=\"width: 100%; ' +\n",
       "        'text-align: center; padding: 3px;\"/>');\n",
       "    titlebar.append(titletext)\n",
       "    this.root.append(titlebar);\n",
       "    this.header = titletext[0];\n",
       "}\n",
       "\n",
       "\n",
       "\n",
       "mpl.figure.prototype._canvas_extra_style = function(canvas_div) {\n",
       "\n",
       "}\n",
       "\n",
       "\n",
       "mpl.figure.prototype._root_extra_style = function(canvas_div) {\n",
       "\n",
       "}\n",
       "\n",
       "mpl.figure.prototype._init_canvas = function() {\n",
       "    var fig = this;\n",
       "\n",
       "    var canvas_div = $('<div/>');\n",
       "\n",
       "    canvas_div.attr('style', 'position: relative; clear: both; outline: 0');\n",
       "\n",
       "    function canvas_keyboard_event(event) {\n",
       "        return fig.key_event(event, event['data']);\n",
       "    }\n",
       "\n",
       "    canvas_div.keydown('key_press', canvas_keyboard_event);\n",
       "    canvas_div.keyup('key_release', canvas_keyboard_event);\n",
       "    this.canvas_div = canvas_div\n",
       "    this._canvas_extra_style(canvas_div)\n",
       "    this.root.append(canvas_div);\n",
       "\n",
       "    var canvas = $('<canvas/>');\n",
       "    canvas.addClass('mpl-canvas');\n",
       "    canvas.attr('style', \"left: 0; top: 0; z-index: 0; outline: 0\")\n",
       "\n",
       "    this.canvas = canvas[0];\n",
       "    this.context = canvas[0].getContext(\"2d\");\n",
       "\n",
       "    var backingStore = this.context.backingStorePixelRatio ||\n",
       "\tthis.context.webkitBackingStorePixelRatio ||\n",
       "\tthis.context.mozBackingStorePixelRatio ||\n",
       "\tthis.context.msBackingStorePixelRatio ||\n",
       "\tthis.context.oBackingStorePixelRatio ||\n",
       "\tthis.context.backingStorePixelRatio || 1;\n",
       "\n",
       "    mpl.ratio = (window.devicePixelRatio || 1) / backingStore;\n",
       "\n",
       "    var rubberband = $('<canvas/>');\n",
       "    rubberband.attr('style', \"position: absolute; left: 0; top: 0; z-index: 1;\")\n",
       "\n",
       "    var pass_mouse_events = true;\n",
       "\n",
       "    canvas_div.resizable({\n",
       "        start: function(event, ui) {\n",
       "            pass_mouse_events = false;\n",
       "        },\n",
       "        resize: function(event, ui) {\n",
       "            fig.request_resize(ui.size.width, ui.size.height);\n",
       "        },\n",
       "        stop: function(event, ui) {\n",
       "            pass_mouse_events = true;\n",
       "            fig.request_resize(ui.size.width, ui.size.height);\n",
       "        },\n",
       "    });\n",
       "\n",
       "    function mouse_event_fn(event) {\n",
       "        if (pass_mouse_events)\n",
       "            return fig.mouse_event(event, event['data']);\n",
       "    }\n",
       "\n",
       "    rubberband.mousedown('button_press', mouse_event_fn);\n",
       "    rubberband.mouseup('button_release', mouse_event_fn);\n",
       "    // Throttle sequential mouse events to 1 every 20ms.\n",
       "    rubberband.mousemove('motion_notify', mouse_event_fn);\n",
       "\n",
       "    rubberband.mouseenter('figure_enter', mouse_event_fn);\n",
       "    rubberband.mouseleave('figure_leave', mouse_event_fn);\n",
       "\n",
       "    canvas_div.on(\"wheel\", function (event) {\n",
       "        event = event.originalEvent;\n",
       "        event['data'] = 'scroll'\n",
       "        if (event.deltaY < 0) {\n",
       "            event.step = 1;\n",
       "        } else {\n",
       "            event.step = -1;\n",
       "        }\n",
       "        mouse_event_fn(event);\n",
       "    });\n",
       "\n",
       "    canvas_div.append(canvas);\n",
       "    canvas_div.append(rubberband);\n",
       "\n",
       "    this.rubberband = rubberband;\n",
       "    this.rubberband_canvas = rubberband[0];\n",
       "    this.rubberband_context = rubberband[0].getContext(\"2d\");\n",
       "    this.rubberband_context.strokeStyle = \"#000000\";\n",
       "\n",
       "    this._resize_canvas = function(width, height) {\n",
       "        // Keep the size of the canvas, canvas container, and rubber band\n",
       "        // canvas in synch.\n",
       "        canvas_div.css('width', width)\n",
       "        canvas_div.css('height', height)\n",
       "\n",
       "        canvas.attr('width', width * mpl.ratio);\n",
       "        canvas.attr('height', height * mpl.ratio);\n",
       "        canvas.attr('style', 'width: ' + width + 'px; height: ' + height + 'px;');\n",
       "\n",
       "        rubberband.attr('width', width);\n",
       "        rubberband.attr('height', height);\n",
       "    }\n",
       "\n",
       "    // Set the figure to an initial 600x600px, this will subsequently be updated\n",
       "    // upon first draw.\n",
       "    this._resize_canvas(600, 600);\n",
       "\n",
       "    // Disable right mouse context menu.\n",
       "    $(this.rubberband_canvas).bind(\"contextmenu\",function(e){\n",
       "        return false;\n",
       "    });\n",
       "\n",
       "    function set_focus () {\n",
       "        canvas.focus();\n",
       "        canvas_div.focus();\n",
       "    }\n",
       "\n",
       "    window.setTimeout(set_focus, 100);\n",
       "}\n",
       "\n",
       "mpl.figure.prototype._init_toolbar = function() {\n",
       "    var fig = this;\n",
       "\n",
       "    var nav_element = $('<div/>')\n",
       "    nav_element.attr('style', 'width: 100%');\n",
       "    this.root.append(nav_element);\n",
       "\n",
       "    // Define a callback function for later on.\n",
       "    function toolbar_event(event) {\n",
       "        return fig.toolbar_button_onclick(event['data']);\n",
       "    }\n",
       "    function toolbar_mouse_event(event) {\n",
       "        return fig.toolbar_button_onmouseover(event['data']);\n",
       "    }\n",
       "\n",
       "    for(var toolbar_ind in mpl.toolbar_items) {\n",
       "        var name = mpl.toolbar_items[toolbar_ind][0];\n",
       "        var tooltip = mpl.toolbar_items[toolbar_ind][1];\n",
       "        var image = mpl.toolbar_items[toolbar_ind][2];\n",
       "        var method_name = mpl.toolbar_items[toolbar_ind][3];\n",
       "\n",
       "        if (!name) {\n",
       "            // put a spacer in here.\n",
       "            continue;\n",
       "        }\n",
       "        var button = $('<button/>');\n",
       "        button.addClass('ui-button ui-widget ui-state-default ui-corner-all ' +\n",
       "                        'ui-button-icon-only');\n",
       "        button.attr('role', 'button');\n",
       "        button.attr('aria-disabled', 'false');\n",
       "        button.click(method_name, toolbar_event);\n",
       "        button.mouseover(tooltip, toolbar_mouse_event);\n",
       "\n",
       "        var icon_img = $('<span/>');\n",
       "        icon_img.addClass('ui-button-icon-primary ui-icon');\n",
       "        icon_img.addClass(image);\n",
       "        icon_img.addClass('ui-corner-all');\n",
       "\n",
       "        var tooltip_span = $('<span/>');\n",
       "        tooltip_span.addClass('ui-button-text');\n",
       "        tooltip_span.html(tooltip);\n",
       "\n",
       "        button.append(icon_img);\n",
       "        button.append(tooltip_span);\n",
       "\n",
       "        nav_element.append(button);\n",
       "    }\n",
       "\n",
       "    var fmt_picker_span = $('<span/>');\n",
       "\n",
       "    var fmt_picker = $('<select/>');\n",
       "    fmt_picker.addClass('mpl-toolbar-option ui-widget ui-widget-content');\n",
       "    fmt_picker_span.append(fmt_picker);\n",
       "    nav_element.append(fmt_picker_span);\n",
       "    this.format_dropdown = fmt_picker[0];\n",
       "\n",
       "    for (var ind in mpl.extensions) {\n",
       "        var fmt = mpl.extensions[ind];\n",
       "        var option = $(\n",
       "            '<option/>', {selected: fmt === mpl.default_extension}).html(fmt);\n",
       "        fmt_picker.append(option)\n",
       "    }\n",
       "\n",
       "    // Add hover states to the ui-buttons\n",
       "    $( \".ui-button\" ).hover(\n",
       "        function() { $(this).addClass(\"ui-state-hover\");},\n",
       "        function() { $(this).removeClass(\"ui-state-hover\");}\n",
       "    );\n",
       "\n",
       "    var status_bar = $('<span class=\"mpl-message\"/>');\n",
       "    nav_element.append(status_bar);\n",
       "    this.message = status_bar[0];\n",
       "}\n",
       "\n",
       "mpl.figure.prototype.request_resize = function(x_pixels, y_pixels) {\n",
       "    // Request matplotlib to resize the figure. Matplotlib will then trigger a resize in the client,\n",
       "    // which will in turn request a refresh of the image.\n",
       "    this.send_message('resize', {'width': x_pixels, 'height': y_pixels});\n",
       "}\n",
       "\n",
       "mpl.figure.prototype.send_message = function(type, properties) {\n",
       "    properties['type'] = type;\n",
       "    properties['figure_id'] = this.id;\n",
       "    this.ws.send(JSON.stringify(properties));\n",
       "}\n",
       "\n",
       "mpl.figure.prototype.send_draw_message = function() {\n",
       "    if (!this.waiting) {\n",
       "        this.waiting = true;\n",
       "        this.ws.send(JSON.stringify({type: \"draw\", figure_id: this.id}));\n",
       "    }\n",
       "}\n",
       "\n",
       "\n",
       "mpl.figure.prototype.handle_save = function(fig, msg) {\n",
       "    var format_dropdown = fig.format_dropdown;\n",
       "    var format = format_dropdown.options[format_dropdown.selectedIndex].value;\n",
       "    fig.ondownload(fig, format);\n",
       "}\n",
       "\n",
       "\n",
       "mpl.figure.prototype.handle_resize = function(fig, msg) {\n",
       "    var size = msg['size'];\n",
       "    if (size[0] != fig.canvas.width || size[1] != fig.canvas.height) {\n",
       "        fig._resize_canvas(size[0], size[1]);\n",
       "        fig.send_message(\"refresh\", {});\n",
       "    };\n",
       "}\n",
       "\n",
       "mpl.figure.prototype.handle_rubberband = function(fig, msg) {\n",
       "    var x0 = msg['x0'] / mpl.ratio;\n",
       "    var y0 = (fig.canvas.height - msg['y0']) / mpl.ratio;\n",
       "    var x1 = msg['x1'] / mpl.ratio;\n",
       "    var y1 = (fig.canvas.height - msg['y1']) / mpl.ratio;\n",
       "    x0 = Math.floor(x0) + 0.5;\n",
       "    y0 = Math.floor(y0) + 0.5;\n",
       "    x1 = Math.floor(x1) + 0.5;\n",
       "    y1 = Math.floor(y1) + 0.5;\n",
       "    var min_x = Math.min(x0, x1);\n",
       "    var min_y = Math.min(y0, y1);\n",
       "    var width = Math.abs(x1 - x0);\n",
       "    var height = Math.abs(y1 - y0);\n",
       "\n",
       "    fig.rubberband_context.clearRect(\n",
       "        0, 0, fig.canvas.width, fig.canvas.height);\n",
       "\n",
       "    fig.rubberband_context.strokeRect(min_x, min_y, width, height);\n",
       "}\n",
       "\n",
       "mpl.figure.prototype.handle_figure_label = function(fig, msg) {\n",
       "    // Updates the figure title.\n",
       "    fig.header.textContent = msg['label'];\n",
       "}\n",
       "\n",
       "mpl.figure.prototype.handle_cursor = function(fig, msg) {\n",
       "    var cursor = msg['cursor'];\n",
       "    switch(cursor)\n",
       "    {\n",
       "    case 0:\n",
       "        cursor = 'pointer';\n",
       "        break;\n",
       "    case 1:\n",
       "        cursor = 'default';\n",
       "        break;\n",
       "    case 2:\n",
       "        cursor = 'crosshair';\n",
       "        break;\n",
       "    case 3:\n",
       "        cursor = 'move';\n",
       "        break;\n",
       "    }\n",
       "    fig.rubberband_canvas.style.cursor = cursor;\n",
       "}\n",
       "\n",
       "mpl.figure.prototype.handle_message = function(fig, msg) {\n",
       "    fig.message.textContent = msg['message'];\n",
       "}\n",
       "\n",
       "mpl.figure.prototype.handle_draw = function(fig, msg) {\n",
       "    // Request the server to send over a new figure.\n",
       "    fig.send_draw_message();\n",
       "}\n",
       "\n",
       "mpl.figure.prototype.handle_image_mode = function(fig, msg) {\n",
       "    fig.image_mode = msg['mode'];\n",
       "}\n",
       "\n",
       "mpl.figure.prototype.updated_canvas_event = function() {\n",
       "    // Called whenever the canvas gets updated.\n",
       "    this.send_message(\"ack\", {});\n",
       "}\n",
       "\n",
       "// A function to construct a web socket function for onmessage handling.\n",
       "// Called in the figure constructor.\n",
       "mpl.figure.prototype._make_on_message_function = function(fig) {\n",
       "    return function socket_on_message(evt) {\n",
       "        if (evt.data instanceof Blob) {\n",
       "            /* FIXME: We get \"Resource interpreted as Image but\n",
       "             * transferred with MIME type text/plain:\" errors on\n",
       "             * Chrome.  But how to set the MIME type?  It doesn't seem\n",
       "             * to be part of the websocket stream */\n",
       "            evt.data.type = \"image/png\";\n",
       "\n",
       "            /* Free the memory for the previous frames */\n",
       "            if (fig.imageObj.src) {\n",
       "                (window.URL || window.webkitURL).revokeObjectURL(\n",
       "                    fig.imageObj.src);\n",
       "            }\n",
       "\n",
       "            fig.imageObj.src = (window.URL || window.webkitURL).createObjectURL(\n",
       "                evt.data);\n",
       "            fig.updated_canvas_event();\n",
       "            fig.waiting = false;\n",
       "            return;\n",
       "        }\n",
       "        else if (typeof evt.data === 'string' && evt.data.slice(0, 21) == \"data:image/png;base64\") {\n",
       "            fig.imageObj.src = evt.data;\n",
       "            fig.updated_canvas_event();\n",
       "            fig.waiting = false;\n",
       "            return;\n",
       "        }\n",
       "\n",
       "        var msg = JSON.parse(evt.data);\n",
       "        var msg_type = msg['type'];\n",
       "\n",
       "        // Call the  \"handle_{type}\" callback, which takes\n",
       "        // the figure and JSON message as its only arguments.\n",
       "        try {\n",
       "            var callback = fig[\"handle_\" + msg_type];\n",
       "        } catch (e) {\n",
       "            console.log(\"No handler for the '\" + msg_type + \"' message type: \", msg);\n",
       "            return;\n",
       "        }\n",
       "\n",
       "        if (callback) {\n",
       "            try {\n",
       "                // console.log(\"Handling '\" + msg_type + \"' message: \", msg);\n",
       "                callback(fig, msg);\n",
       "            } catch (e) {\n",
       "                console.log(\"Exception inside the 'handler_\" + msg_type + \"' callback:\", e, e.stack, msg);\n",
       "            }\n",
       "        }\n",
       "    };\n",
       "}\n",
       "\n",
       "// from http://stackoverflow.com/questions/1114465/getting-mouse-location-in-canvas\n",
       "mpl.findpos = function(e) {\n",
       "    //this section is from http://www.quirksmode.org/js/events_properties.html\n",
       "    var targ;\n",
       "    if (!e)\n",
       "        e = window.event;\n",
       "    if (e.target)\n",
       "        targ = e.target;\n",
       "    else if (e.srcElement)\n",
       "        targ = e.srcElement;\n",
       "    if (targ.nodeType == 3) // defeat Safari bug\n",
       "        targ = targ.parentNode;\n",
       "\n",
       "    // jQuery normalizes the pageX and pageY\n",
       "    // pageX,Y are the mouse positions relative to the document\n",
       "    // offset() returns the position of the element relative to the document\n",
       "    var x = e.pageX - $(targ).offset().left;\n",
       "    var y = e.pageY - $(targ).offset().top;\n",
       "\n",
       "    return {\"x\": x, \"y\": y};\n",
       "};\n",
       "\n",
       "/*\n",
       " * return a copy of an object with only non-object keys\n",
       " * we need this to avoid circular references\n",
       " * http://stackoverflow.com/a/24161582/3208463\n",
       " */\n",
       "function simpleKeys (original) {\n",
       "  return Object.keys(original).reduce(function (obj, key) {\n",
       "    if (typeof original[key] !== 'object')\n",
       "        obj[key] = original[key]\n",
       "    return obj;\n",
       "  }, {});\n",
       "}\n",
       "\n",
       "mpl.figure.prototype.mouse_event = function(event, name) {\n",
       "    var canvas_pos = mpl.findpos(event)\n",
       "\n",
       "    if (name === 'button_press')\n",
       "    {\n",
       "        this.canvas.focus();\n",
       "        this.canvas_div.focus();\n",
       "    }\n",
       "\n",
       "    var x = canvas_pos.x * mpl.ratio;\n",
       "    var y = canvas_pos.y * mpl.ratio;\n",
       "\n",
       "    this.send_message(name, {x: x, y: y, button: event.button,\n",
       "                             step: event.step,\n",
       "                             guiEvent: simpleKeys(event)});\n",
       "\n",
       "    /* This prevents the web browser from automatically changing to\n",
       "     * the text insertion cursor when the button is pressed.  We want\n",
       "     * to control all of the cursor setting manually through the\n",
       "     * 'cursor' event from matplotlib */\n",
       "    event.preventDefault();\n",
       "    return false;\n",
       "}\n",
       "\n",
       "mpl.figure.prototype._key_event_extra = function(event, name) {\n",
       "    // Handle any extra behaviour associated with a key event\n",
       "}\n",
       "\n",
       "mpl.figure.prototype.key_event = function(event, name) {\n",
       "\n",
       "    // Prevent repeat events\n",
       "    if (name == 'key_press')\n",
       "    {\n",
       "        if (event.which === this._key)\n",
       "            return;\n",
       "        else\n",
       "            this._key = event.which;\n",
       "    }\n",
       "    if (name == 'key_release')\n",
       "        this._key = null;\n",
       "\n",
       "    var value = '';\n",
       "    if (event.ctrlKey && event.which != 17)\n",
       "        value += \"ctrl+\";\n",
       "    if (event.altKey && event.which != 18)\n",
       "        value += \"alt+\";\n",
       "    if (event.shiftKey && event.which != 16)\n",
       "        value += \"shift+\";\n",
       "\n",
       "    value += 'k';\n",
       "    value += event.which.toString();\n",
       "\n",
       "    this._key_event_extra(event, name);\n",
       "\n",
       "    this.send_message(name, {key: value,\n",
       "                             guiEvent: simpleKeys(event)});\n",
       "    return false;\n",
       "}\n",
       "\n",
       "mpl.figure.prototype.toolbar_button_onclick = function(name) {\n",
       "    if (name == 'download') {\n",
       "        this.handle_save(this, null);\n",
       "    } else {\n",
       "        this.send_message(\"toolbar_button\", {name: name});\n",
       "    }\n",
       "};\n",
       "\n",
       "mpl.figure.prototype.toolbar_button_onmouseover = function(tooltip) {\n",
       "    this.message.textContent = tooltip;\n",
       "};\n",
       "mpl.toolbar_items = [[\"Home\", \"Reset original view\", \"fa fa-home icon-home\", \"home\"], [\"Back\", \"Back to  previous view\", \"fa fa-arrow-left icon-arrow-left\", \"back\"], [\"Forward\", \"Forward to next view\", \"fa fa-arrow-right icon-arrow-right\", \"forward\"], [\"\", \"\", \"\", \"\"], [\"Pan\", \"Pan axes with left mouse, zoom with right\", \"fa fa-arrows icon-move\", \"pan\"], [\"Zoom\", \"Zoom to rectangle\", \"fa fa-square-o icon-check-empty\", \"zoom\"], [\"\", \"\", \"\", \"\"], [\"Download\", \"Download plot\", \"fa fa-floppy-o icon-save\", \"download\"]];\n",
       "\n",
       "mpl.extensions = [\"eps\", \"jpeg\", \"pdf\", \"png\", \"ps\", \"raw\", \"svg\", \"tif\"];\n",
       "\n",
       "mpl.default_extension = \"png\";var comm_websocket_adapter = function(comm) {\n",
       "    // Create a \"websocket\"-like object which calls the given IPython comm\n",
       "    // object with the appropriate methods. Currently this is a non binary\n",
       "    // socket, so there is still some room for performance tuning.\n",
       "    var ws = {};\n",
       "\n",
       "    ws.close = function() {\n",
       "        comm.close()\n",
       "    };\n",
       "    ws.send = function(m) {\n",
       "        //console.log('sending', m);\n",
       "        comm.send(m);\n",
       "    };\n",
       "    // Register the callback with on_msg.\n",
       "    comm.on_msg(function(msg) {\n",
       "        //console.log('receiving', msg['content']['data'], msg);\n",
       "        // Pass the mpl event to the overridden (by mpl) onmessage function.\n",
       "        ws.onmessage(msg['content']['data'])\n",
       "    });\n",
       "    return ws;\n",
       "}\n",
       "\n",
       "mpl.mpl_figure_comm = function(comm, msg) {\n",
       "    // This is the function which gets called when the mpl process\n",
       "    // starts-up an IPython Comm through the \"matplotlib\" channel.\n",
       "\n",
       "    var id = msg.content.data.id;\n",
       "    // Get hold of the div created by the display call when the Comm\n",
       "    // socket was opened in Python.\n",
       "    var element = $(\"#\" + id);\n",
       "    var ws_proxy = comm_websocket_adapter(comm)\n",
       "\n",
       "    function ondownload(figure, format) {\n",
       "        window.open(figure.imageObj.src);\n",
       "    }\n",
       "\n",
       "    var fig = new mpl.figure(id, ws_proxy,\n",
       "                           ondownload,\n",
       "                           element.get(0));\n",
       "\n",
       "    // Call onopen now - mpl needs it, as it is assuming we've passed it a real\n",
       "    // web socket which is closed, not our websocket->open comm proxy.\n",
       "    ws_proxy.onopen();\n",
       "\n",
       "    fig.parent_element = element.get(0);\n",
       "    fig.cell_info = mpl.find_output_cell(\"<div id='\" + id + \"'></div>\");\n",
       "    if (!fig.cell_info) {\n",
       "        console.error(\"Failed to find cell for figure\", id, fig);\n",
       "        return;\n",
       "    }\n",
       "\n",
       "    var output_index = fig.cell_info[2]\n",
       "    var cell = fig.cell_info[0];\n",
       "\n",
       "};\n",
       "\n",
       "mpl.figure.prototype.handle_close = function(fig, msg) {\n",
       "    var width = fig.canvas.width/mpl.ratio\n",
       "    fig.root.unbind('remove')\n",
       "\n",
       "    // Update the output cell to use the data from the current canvas.\n",
       "    fig.push_to_output();\n",
       "    var dataURL = fig.canvas.toDataURL();\n",
       "    // Re-enable the keyboard manager in IPython - without this line, in FF,\n",
       "    // the notebook keyboard shortcuts fail.\n",
       "    IPython.keyboard_manager.enable()\n",
       "    $(fig.parent_element).html('<img src=\"' + dataURL + '\" width=\"' + width + '\">');\n",
       "    fig.close_ws(fig, msg);\n",
       "}\n",
       "\n",
       "mpl.figure.prototype.close_ws = function(fig, msg){\n",
       "    fig.send_message('closing', msg);\n",
       "    // fig.ws.close()\n",
       "}\n",
       "\n",
       "mpl.figure.prototype.push_to_output = function(remove_interactive) {\n",
       "    // Turn the data on the canvas into data in the output cell.\n",
       "    var width = this.canvas.width/mpl.ratio\n",
       "    var dataURL = this.canvas.toDataURL();\n",
       "    this.cell_info[1]['text/html'] = '<img src=\"' + dataURL + '\" width=\"' + width + '\">';\n",
       "}\n",
       "\n",
       "mpl.figure.prototype.updated_canvas_event = function() {\n",
       "    // Tell IPython that the notebook contents must change.\n",
       "    IPython.notebook.set_dirty(true);\n",
       "    this.send_message(\"ack\", {});\n",
       "    var fig = this;\n",
       "    // Wait a second, then push the new image to the DOM so\n",
       "    // that it is saved nicely (might be nice to debounce this).\n",
       "    setTimeout(function () { fig.push_to_output() }, 1000);\n",
       "}\n",
       "\n",
       "mpl.figure.prototype._init_toolbar = function() {\n",
       "    var fig = this;\n",
       "\n",
       "    var nav_element = $('<div/>')\n",
       "    nav_element.attr('style', 'width: 100%');\n",
       "    this.root.append(nav_element);\n",
       "\n",
       "    // Define a callback function for later on.\n",
       "    function toolbar_event(event) {\n",
       "        return fig.toolbar_button_onclick(event['data']);\n",
       "    }\n",
       "    function toolbar_mouse_event(event) {\n",
       "        return fig.toolbar_button_onmouseover(event['data']);\n",
       "    }\n",
       "\n",
       "    for(var toolbar_ind in mpl.toolbar_items){\n",
       "        var name = mpl.toolbar_items[toolbar_ind][0];\n",
       "        var tooltip = mpl.toolbar_items[toolbar_ind][1];\n",
       "        var image = mpl.toolbar_items[toolbar_ind][2];\n",
       "        var method_name = mpl.toolbar_items[toolbar_ind][3];\n",
       "\n",
       "        if (!name) { continue; };\n",
       "\n",
       "        var button = $('<button class=\"btn btn-default\" href=\"#\" title=\"' + name + '\"><i class=\"fa ' + image + ' fa-lg\"></i></button>');\n",
       "        button.click(method_name, toolbar_event);\n",
       "        button.mouseover(tooltip, toolbar_mouse_event);\n",
       "        nav_element.append(button);\n",
       "    }\n",
       "\n",
       "    // Add the status bar.\n",
       "    var status_bar = $('<span class=\"mpl-message\" style=\"text-align:right; float: right;\"/>');\n",
       "    nav_element.append(status_bar);\n",
       "    this.message = status_bar[0];\n",
       "\n",
       "    // Add the close button to the window.\n",
       "    var buttongrp = $('<div class=\"btn-group inline pull-right\"></div>');\n",
       "    var button = $('<button class=\"btn btn-mini btn-primary\" href=\"#\" title=\"Stop Interaction\"><i class=\"fa fa-power-off icon-remove icon-large\"></i></button>');\n",
       "    button.click(function (evt) { fig.handle_close(fig, {}); } );\n",
       "    button.mouseover('Stop Interaction', toolbar_mouse_event);\n",
       "    buttongrp.append(button);\n",
       "    var titlebar = this.root.find($('.ui-dialog-titlebar'));\n",
       "    titlebar.prepend(buttongrp);\n",
       "}\n",
       "\n",
       "mpl.figure.prototype._root_extra_style = function(el){\n",
       "    var fig = this\n",
       "    el.on(\"remove\", function(){\n",
       "\tfig.close_ws(fig, {});\n",
       "    });\n",
       "}\n",
       "\n",
       "mpl.figure.prototype._canvas_extra_style = function(el){\n",
       "    // this is important to make the div 'focusable\n",
       "    el.attr('tabindex', 0)\n",
       "    // reach out to IPython and tell the keyboard manager to turn it's self\n",
       "    // off when our div gets focus\n",
       "\n",
       "    // location in version 3\n",
       "    if (IPython.notebook.keyboard_manager) {\n",
       "        IPython.notebook.keyboard_manager.register_events(el);\n",
       "    }\n",
       "    else {\n",
       "        // location in version 2\n",
       "        IPython.keyboard_manager.register_events(el);\n",
       "    }\n",
       "\n",
       "}\n",
       "\n",
       "mpl.figure.prototype._key_event_extra = function(event, name) {\n",
       "    var manager = IPython.notebook.keyboard_manager;\n",
       "    if (!manager)\n",
       "        manager = IPython.keyboard_manager;\n",
       "\n",
       "    // Check for shift+enter\n",
       "    if (event.shiftKey && event.which == 13) {\n",
       "        this.canvas_div.blur();\n",
       "        event.shiftKey = false;\n",
       "        // Send a \"J\" for go to next cell\n",
       "        event.which = 74;\n",
       "        event.keyCode = 74;\n",
       "        manager.command_mode();\n",
       "        manager.handle_keydown(event);\n",
       "    }\n",
       "}\n",
       "\n",
       "mpl.figure.prototype.handle_save = function(fig, msg) {\n",
       "    fig.ondownload(fig, null);\n",
       "}\n",
       "\n",
       "\n",
       "mpl.find_output_cell = function(html_output) {\n",
       "    // Return the cell and output element which can be found *uniquely* in the notebook.\n",
       "    // Note - this is a bit hacky, but it is done because the \"notebook_saving.Notebook\"\n",
       "    // IPython event is triggered only after the cells have been serialised, which for\n",
       "    // our purposes (turning an active figure into a static one), is too late.\n",
       "    var cells = IPython.notebook.get_cells();\n",
       "    var ncells = cells.length;\n",
       "    for (var i=0; i<ncells; i++) {\n",
       "        var cell = cells[i];\n",
       "        if (cell.cell_type === 'code'){\n",
       "            for (var j=0; j<cell.output_area.outputs.length; j++) {\n",
       "                var data = cell.output_area.outputs[j];\n",
       "                if (data.data) {\n",
       "                    // IPython >= 3 moved mimebundle to data attribute of output\n",
       "                    data = data.data;\n",
       "                }\n",
       "                if (data['text/html'] == html_output) {\n",
       "                    return [cell, data, j];\n",
       "                }\n",
       "            }\n",
       "        }\n",
       "    }\n",
       "}\n",
       "\n",
       "// Register the function which deals with the matplotlib target/channel.\n",
       "// The kernel may be null if the page has been refreshed.\n",
       "if (IPython.notebook.kernel != null) {\n",
       "    IPython.notebook.kernel.comm_manager.register_target('matplotlib', mpl.mpl_figure_comm);\n",
       "}\n"
      ],
      "text/plain": [
       "<IPython.core.display.Javascript object>"
      ]
     },
     "metadata": {},
     "output_type": "display_data"
    },
    {
     "data": {
      "text/html": [
       "<img src=\"data:image/png;base64,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\" width=\"800\">"
      ],
      "text/plain": [
       "<IPython.core.display.HTML object>"
      ]
     },
     "metadata": {},
     "output_type": "display_data"
    },
    {
     "data": {
      "application/vnd.jupyter.widget-view+json": {
       "model_id": "9542c7cbc8f24e2f9f386689de872cc0",
       "version_major": 2,
       "version_minor": 0
      },
      "text/html": [
       "<p>Failed to display Jupyter Widget of type <code>VBox</code>.</p>\n",
       "<p>\n",
       "  If you're reading this message in the Jupyter Notebook or JupyterLab Notebook, it may mean\n",
       "  that the widgets JavaScript is still loading. If this message persists, it\n",
       "  likely means that the widgets JavaScript library is either not installed or\n",
       "  not enabled. See the <a href=\"https://ipywidgets.readthedocs.io/en/stable/user_install.html\">Jupyter\n",
       "  Widgets Documentation</a> for setup instructions.\n",
       "</p>\n",
       "<p>\n",
       "  If you're reading this message in another frontend (for example, a static\n",
       "  rendering on GitHub or <a href=\"https://nbviewer.jupyter.org/\">NBViewer</a>),\n",
       "  it may mean that your frontend doesn't currently support widgets.\n",
       "</p>\n"
      ],
      "text/plain": [
       "VBox(children=(ToggleButton(value=False, description='LGBMClassifier', layout=Layout(width='350px')), ToggleButton(value=False, description='StandardScaler-MLPClassifier', layout=Layout(width='350px')), ToggleButton(value=False, description='GradientBoostingClassifier', layout=Layout(width='350px')), ToggleButton(value=False, description='RandomForestClassifier', layout=Layout(width='350px')), ToggleButton(value=False, description='ExtraTreesClassifier', layout=Layout(width='350px')), ToggleButton(value=False, description='StackingEstimator-StackingEstimator-StackingEstimator-DecisionTreeClassifier', layout=Layout(width='350px')), ToggleButton(value=False, description='DecisionTreeClassifier', layout=Layout(width='350px')), ToggleButton(value=False, description='LogisticRegression', layout=Layout(width='350px'))))"
      ]
     },
     "metadata": {},
     "output_type": "display_data"
    }
   ],
   "source": [
    "# show interactive confusion matrix with Gross Profit and ROI\n",
    "display(HTML(\"<h4>Gross Profit and ROI as a function of threshold</h4>\"))\n",
    "\n",
    "\n",
    "def compute_profit_and_roi(model):\n",
    "    \n",
    "    model = mms.get_model(model)\n",
    "    \n",
    "    predict_default_proba = model.predict_proba(X)[:,1]\n",
    "    gross_profit_or_loss = []\n",
    "    gross_roi = []\n",
    "\n",
    "    for Threshold in np.linspace(0.01,.99,98):\n",
    "\n",
    "        predicted_t = np.where( predict_default_proba >= Threshold, 1, 0) \n",
    "\n",
    "        pred_t_s = pd.Series(predicted_t)\n",
    "        pred_t_s.name = 'PRED'\n",
    "        assert len(pred_t_s) == len(raw_df_with_labels)\n",
    "        predictions_and_raw_df = pd.concat((pred_t_s,raw_df_with_labels), axis=1, ignore_index=False).set_index(\"id\")\n",
    "\n",
    "        # bad loan losses\n",
    "        FN_df = predictions_and_raw_df.query(\"PRED==0 & DEFAULT==1\")\n",
    "        bad_loan_loss_with_the_model = (-1 * FN_df.loan_amnt).sum()\n",
    "\n",
    "        # interest earned\n",
    "        TN_df = predictions_and_raw_df.query(\"PRED==0 & DEFAULT==0\")\n",
    "        intrest_earned_with_the_model = (TN_df.loan_amnt * ( 1 + TN_df.int_rate/12 )**TN_df.term - TN_df.loan_amnt).sum()\n",
    "        # gross profit, ROI\n",
    "        gross_profit_with_the_model = intrest_earned_with_the_model + bad_loan_loss_with_the_model\n",
    "        roi_with_the_model = gross_profit_with_the_model/(FN_df.loan_amnt.sum()+TN_df.loan_amnt.sum())\n",
    "\n",
    "        # collect metrics \n",
    "        gross_profit_or_loss.append(gross_profit_with_the_model)\n",
    "        gross_roi.append(roi_with_the_model)\n",
    "\n",
    "    return gross_profit_or_loss, gross_roi\n",
    "\n",
    "\n",
    "def plot_lines(model_list):\n",
    "    \n",
    "    ax1, ax2 = plt.gcf().get_axes()\n",
    "    ax1.cla()\n",
    "    ax2.cla()\n",
    "    \n",
    "    for model in model_list:\n",
    "        gross_profit_or_loss, gross_roi = compute_profit_and_roi(model)\n",
    "        ax1.plot(gross_profit_or_loss, label=model)\n",
    "        ax2.plot(gross_roi, label=model)\n",
    "    \n",
    "    ax1.set_ylabel(\"Gross Profit\")\n",
    "    ax1.grid()\n",
    "    ax2.set_ylabel(\"Gross ROI\")    \n",
    "    ax2.set_xlabel(\"Threshold\")\n",
    "    ax2.grid()\n",
    "    if model_list: ax2.legend()\n",
    "        \n",
    "    return\n",
    "\n",
    "\n",
    "# plot lines\n",
    "# %matplotlib inline\n",
    "%matplotlib notebook\n",
    "# plt.style.use('seaborn-talk')\n",
    "fig, (ax1,ax2) = plt.subplots(2,1,sharex=True, figsize=(8,5))\n",
    "ax1.set_ylabel(\"Gross Profit\")\n",
    "ax2.set_ylabel(\"Gross ROI\")\n",
    "ax2.set_xlabel(\"Threshold\")\n",
    "ax1.grid()\n",
    "ax2.grid()\n",
    "plt.show();\n",
    "\n",
    "    \n",
    "# create and assemble buttons\n",
    "buttons_w = [ToggleButton(description=model_name,layout=Layout(width='350px')) \n",
    "             for model_name in model_df.model_name]\n",
    "# model_list_to_plot keeps models to use for plotting\n",
    "model_list_to_plot = []\n",
    "def toggle_model_plot(d):\n",
    "    if d.name == 'value' and d.new == True:\n",
    "        model_list_to_plot.append(d.owner.description)\n",
    "        plot_lines(model_list_to_plot)\n",
    "    elif d.name == 'value' and d.new == False:\n",
    "        model_list_to_plot.remove(d.owner.description)\n",
    "        plot_lines(model_list_to_plot)\n",
    "# register buttons' call-backs        \n",
    "[btn_w.observe(lambda change_value: toggle_model_plot(change_value)) for btn_w in buttons_w]\n",
    "vbox = VBox(buttons_w)\n",
    "display(vbox)\n"
   ]
  },
  {
   "cell_type": "code",
   "execution_count": 21,
   "metadata": {
    "extensions": {
     "jupyter_dashboards": {
      "version": 1,
      "views": {
       "grid_default": {},
       "report_default": {
        "hidden": false
       }
      }
     }
    }
   },
   "outputs": [
    {
     "data": {
      "application/vnd.jupyter.widget-view+json": {
       "model_id": "98dfad73d2754113b81f75e4db62c138",
       "version_major": 2,
       "version_minor": 0
      },
      "text/html": [
       "<p>Failed to display Jupyter Widget of type <code>HTML</code>.</p>\n",
       "<p>\n",
       "  If you're reading this message in the Jupyter Notebook or JupyterLab Notebook, it may mean\n",
       "  that the widgets JavaScript is still loading. If this message persists, it\n",
       "  likely means that the widgets JavaScript library is either not installed or\n",
       "  not enabled. See the <a href=\"https://ipywidgets.readthedocs.io/en/stable/user_install.html\">Jupyter\n",
       "  Widgets Documentation</a> for setup instructions.\n",
       "</p>\n",
       "<p>\n",
       "  If you're reading this message in another frontend (for example, a static\n",
       "  rendering on GitHub or <a href=\"https://nbviewer.jupyter.org/\">NBViewer</a>),\n",
       "  it may mean that your frontend doesn't currently support widgets.\n",
       "</p>\n"
      ],
      "text/plain": [
       "HTML(value='<h4>And this is the end of the presentation</h4>')"
      ]
     },
     "metadata": {},
     "output_type": "display_data"
    },
    {
     "data": {
      "application/vnd.jupyter.widget-view+json": {
       "model_id": "c4d060dfe8304130bcf33eb590d3fa5b",
       "version_major": 2,
       "version_minor": 0
      },
      "text/html": [
       "<p>Failed to display Jupyter Widget of type <code>HTML</code>.</p>\n",
       "<p>\n",
       "  If you're reading this message in the Jupyter Notebook or JupyterLab Notebook, it may mean\n",
       "  that the widgets JavaScript is still loading. If this message persists, it\n",
       "  likely means that the widgets JavaScript library is either not installed or\n",
       "  not enabled. See the <a href=\"https://ipywidgets.readthedocs.io/en/stable/user_install.html\">Jupyter\n",
       "  Widgets Documentation</a> for setup instructions.\n",
       "</p>\n",
       "<p>\n",
       "  If you're reading this message in another frontend (for example, a static\n",
       "  rendering on GitHub or <a href=\"https://nbviewer.jupyter.org/\">NBViewer</a>),\n",
       "  it may mean that your frontend doesn't currently support widgets.\n",
       "</p>\n"
      ],
      "text/plain": [
       "HTML(value='<h4>..., but not the end of the story</h4>')"
      ]
     },
     "metadata": {},
     "output_type": "display_data"
    },
    {
     "data": {
      "application/vnd.jupyter.widget-view+json": {
       "model_id": "7711bcf701bf4670a3dd9bc7cad9fdc3",
       "version_major": 2,
       "version_minor": 0
      },
      "text/html": [
       "<p>Failed to display Jupyter Widget of type <code>HTML</code>.</p>\n",
       "<p>\n",
       "  If you're reading this message in the Jupyter Notebook or JupyterLab Notebook, it may mean\n",
       "  that the widgets JavaScript is still loading. If this message persists, it\n",
       "  likely means that the widgets JavaScript library is either not installed or\n",
       "  not enabled. See the <a href=\"https://ipywidgets.readthedocs.io/en/stable/user_install.html\">Jupyter\n",
       "  Widgets Documentation</a> for setup instructions.\n",
       "</p>\n",
       "<p>\n",
       "  If you're reading this message in another frontend (for example, a static\n",
       "  rendering on GitHub or <a href=\"https://nbviewer.jupyter.org/\">NBViewer</a>),\n",
       "  it may mean that your frontend doesn't currently support widgets.\n",
       "</p>\n"
      ],
      "text/plain": [
       "HTML(value='<h4>What do you make of it?</h4>')"
      ]
     },
     "metadata": {},
     "output_type": "display_data"
    },
    {
     "data": {
      "application/vnd.jupyter.widget-view+json": {
       "model_id": "a6237670e7514a2a8cd7a75b8bda2437",
       "version_major": 2,
       "version_minor": 0
      },
      "text/html": [
       "<p>Failed to display Jupyter Widget of type <code>HTML</code>.</p>\n",
       "<p>\n",
       "  If you're reading this message in the Jupyter Notebook or JupyterLab Notebook, it may mean\n",
       "  that the widgets JavaScript is still loading. If this message persists, it\n",
       "  likely means that the widgets JavaScript library is either not installed or\n",
       "  not enabled. See the <a href=\"https://ipywidgets.readthedocs.io/en/stable/user_install.html\">Jupyter\n",
       "  Widgets Documentation</a> for setup instructions.\n",
       "</p>\n",
       "<p>\n",
       "  If you're reading this message in another frontend (for example, a static\n",
       "  rendering on GitHub or <a href=\"https://nbviewer.jupyter.org/\">NBViewer</a>),\n",
       "  it may mean that your frontend doesn't currently support widgets.\n",
       "</p>\n"
      ],
      "text/plain": [
       "HTML(value='<h4>Can the predictive models be put to good use?</h4>')"
      ]
     },
     "metadata": {},
     "output_type": "display_data"
    }
   ],
   "source": [
    "display(HTML(\"<h4>And this is the end of the presentation</h4>\"))\n",
    "display(HTML(\"<h4>..., but not the end of the story</h4>\"))\n",
    "display(HTML(\"<h4>What do you make of it?</h4>\"))\n",
    "display(HTML(\"<h4>Can the predictive models be put to good use?</h4>\"))"
   ]
  },
  {
   "cell_type": "markdown",
   "metadata": {
    "extensions": {
     "jupyter_dashboards": {
      "version": 1,
      "views": {
       "grid_default": {},
       "report_default": {
        "hidden": false
       }
      }
     }
    }
   },
   "source": [
    "### THE END"
   ]
  }
 ],
 "metadata": {
  "extensions": {
   "jupyter_dashboards": {
    "activeView": "report_default",
    "version": 1,
    "views": {
     "grid_default": {
      "name": "grid",
      "type": "grid"
     },
     "report_default": {
      "name": "report",
      "type": "report"
     }
    }
   }
  },
  "kernelspec": {
   "display_name": "Python 3",
   "language": "python",
   "name": "python3"
  },
  "language_info": {
   "codemirror_mode": {
    "name": "ipython",
    "version": 3
   },
   "file_extension": ".py",
   "mimetype": "text/x-python",
   "name": "python",
   "nbconvert_exporter": "python",
   "pygments_lexer": "ipython3",
   "version": "3.6.4"
  }
 },
 "nbformat": 4,
 "nbformat_minor": 2
}
