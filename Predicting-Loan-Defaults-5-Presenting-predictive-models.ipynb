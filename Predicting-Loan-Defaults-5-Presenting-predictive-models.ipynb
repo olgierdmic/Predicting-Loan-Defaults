{
 "cells": [
  {
   "cell_type": "code",
   "execution_count": 1,
   "metadata": {
    "extensions": {
     "jupyter_dashboards": {
      "version": 1,
      "views": {
       "grid_default": {},
       "report_default": {
        "hidden": true
       }
      }
     }
    },
    "slideshow": {
     "slide_type": "skip"
    }
   },
   "outputs": [],
   "source": [
    "# to supress Warnings (if you've gotten tired of them) run this cell\n",
    "\n",
    "import warnings\n",
    "warnings.filterwarnings(\"ignore\")"
   ]
  },
  {
   "cell_type": "code",
   "execution_count": 2,
   "metadata": {
    "extensions": {
     "jupyter_dashboards": {
      "version": 1,
      "views": {
       "grid_default": {},
       "report_default": {
        "hidden": true
       }
      }
     }
    },
    "slideshow": {
     "slide_type": "skip"
    }
   },
   "outputs": [],
   "source": [
    "# common settings\n",
    "\n",
    "# adjust settings to show all cols and rows\n",
    "pd.options.display.max_columns = 80\n",
    "pd.options.display.max_rows = 20"
   ]
  },
  {
   "cell_type": "code",
   "execution_count": 3,
   "metadata": {
    "extensions": {
     "jupyter_dashboards": {
      "version": 1,
      "views": {
       "grid_default": {},
       "report_default": {
        "hidden": true
       }
      }
     }
    },
    "slideshow": {
     "slide_type": "skip"
    }
   },
   "outputs": [],
   "source": [
    "# common imports\n",
    "\n",
    "from IPython.display import display, HTML\n",
    "from ipywidgets import *\n",
    "\n",
    "import seaborn as sns\n",
    "\n",
    "from sklearn.metrics import confusion_matrix\n",
    "\n",
    "from LC_MMS import MMS, plot_ROCs, plot_PRCs\n",
    "from LC_data_prep import load_and_prep_data, load_raw_rows\n"
   ]
  },
  {
   "cell_type": "code",
   "execution_count": 4,
   "metadata": {
    "extensions": {
     "jupyter_dashboards": {
      "version": 1,
      "views": {
       "grid_default": {},
       "report_default": {
        "hidden": true
       }
      }
     }
    },
    "slideshow": {
     "slide_type": "skip"
    }
   },
   "outputs": [
    {
     "data": {
      "text/html": [
       "<style>\n",
       "h1, h2, h3, h4 {\n",
       "    font-family:serif;\n",
       "    font-weight:bold;  \n",
       "}\n",
       "</style>"
      ],
      "text/plain": [
       "<IPython.core.display.HTML object>"
      ]
     },
     "metadata": {},
     "output_type": "display_data"
    }
   ],
   "source": [
    "%%html\n",
    "<style>\n",
    "h1, h2, h3, h4 {\n",
    "    font-family:serif;\n",
    "    font-weight:bold;  \n",
    "}\n",
    "</style>"
   ]
  },
  {
   "cell_type": "code",
   "execution_count": 5,
   "metadata": {
    "extensions": {
     "jupyter_dashboards": {
      "version": 1,
      "views": {
       "grid_default": {},
       "report_default": {
        "hidden": false
       }
      }
     }
    },
    "slideshow": {
     "slide_type": "-"
    }
   },
   "outputs": [
    {
     "data": {
      "application/vnd.jupyter.widget-view+json": {
       "model_id": "35ace33e3f6a4a7a82d7e649cea866f2",
       "version_major": 2,
       "version_minor": 0
      },
      "text/html": [
       "<p>Failed to display Jupyter Widget of type <code>HTML</code>.</p>\n",
       "<p>\n",
       "  If you're reading this message in the Jupyter Notebook or JupyterLab Notebook, it may mean\n",
       "  that the widgets JavaScript is still loading. If this message persists, it\n",
       "  likely means that the widgets JavaScript library is either not installed or\n",
       "  not enabled. See the <a href=\"https://ipywidgets.readthedocs.io/en/stable/user_install.html\">Jupyter\n",
       "  Widgets Documentation</a> for setup instructions.\n",
       "</p>\n",
       "<p>\n",
       "  If you're reading this message in another frontend (for example, a static\n",
       "  rendering on GitHub or <a href=\"https://nbviewer.jupyter.org/\">NBViewer</a>),\n",
       "  it may mean that your frontend doesn't currently support widgets.\n",
       "</p>\n"
      ],
      "text/plain": [
       "HTML(value='<h1>LC bad loans and how to reduce them.</h1>')"
      ]
     },
     "metadata": {},
     "output_type": "display_data"
    }
   ],
   "source": [
    "display(HTML(\"<h1>LC bad loans and how to reduce them.</h1>\"))"
   ]
  },
  {
   "cell_type": "code",
   "execution_count": 6,
   "metadata": {
    "extensions": {
     "jupyter_dashboards": {
      "version": 1,
      "views": {
       "grid_default": {},
       "report_default": {
        "hidden": true
       }
      }
     }
    },
    "slideshow": {
     "slide_type": "skip"
    }
   },
   "outputs": [],
   "source": [
    "#load test data\n",
    "test_df = load_and_prep_data(load_test_data=True)\n",
    "X = test_df.iloc[:,1:] # predictor variables\n",
    "y = test_df[\"DEFAULT\"] # response/target variable \n"
   ]
  },
  {
   "cell_type": "code",
   "execution_count": 7,
   "metadata": {
    "extensions": {
     "jupyter_dashboards": {
      "version": 1,
      "views": {
       "grid_default": {},
       "report_default": {
        "hidden": true
       }
      }
     }
    },
    "slideshow": {
     "slide_type": "skip"
    }
   },
   "outputs": [],
   "source": [
    "# compute biz metrics\n",
    "test_bad_vs_good_loans = test_df.DEFAULT.value_counts()\n",
    "\n",
    "raw_df = load_raw_rows(load_test_data=True)\n",
    "enriched_test_df = test_df[[\"DEFAULT\"]].join(raw_df, lsuffix='_test').reset_index()\n",
    "\n",
    "total_loan_num = enriched_test_df.loan_amnt.count()\n",
    "total_loan_amt = enriched_test_df.loan_amnt.sum()\n",
    "\n",
    "bad_loans_df = enriched_test_df.query(\"DEFAULT==1\")\n",
    "bad_loan_loss = bad_loans_df.loan_amnt.sum()\n",
    "\n",
    "good_loans_df = enriched_test_df.query(\"DEFAULT==0\")\n",
    "intrest_earned = (good_loans_df.loan_amnt * ( 1 + good_loans_df.int_rate/12 )**good_loans_df.term \n",
    "                 - good_loans_df.loan_amnt).sum()\n",
    "\n",
    "gross_profit_or_loss = (intrest_earned-bad_loan_loss)\n",
    "gross_roi = gross_profit_or_loss/total_loan_amt"
   ]
  },
  {
   "cell_type": "code",
   "execution_count": 8,
   "metadata": {
    "extensions": {
     "jupyter_dashboards": {
      "version": 1,
      "views": {
       "grid_default": {},
       "report_default": {
        "hidden": false
       }
      }
     }
    },
    "slideshow": {
     "slide_type": "-"
    }
   },
   "outputs": [
    {
     "data": {
      "application/vnd.jupyter.widget-view+json": {
       "model_id": "c39a896f79b7467ca93da7c40d666311",
       "version_major": 2,
       "version_minor": 0
      },
      "text/html": [
       "<p>Failed to display Jupyter Widget of type <code>HTML</code>.</p>\n",
       "<p>\n",
       "  If you're reading this message in the Jupyter Notebook or JupyterLab Notebook, it may mean\n",
       "  that the widgets JavaScript is still loading. If this message persists, it\n",
       "  likely means that the widgets JavaScript library is either not installed or\n",
       "  not enabled. See the <a href=\"https://ipywidgets.readthedocs.io/en/stable/user_install.html\">Jupyter\n",
       "  Widgets Documentation</a> for setup instructions.\n",
       "</p>\n",
       "<p>\n",
       "  If you're reading this message in another frontend (for example, a static\n",
       "  rendering on GitHub or <a href=\"https://nbviewer.jupyter.org/\">NBViewer</a>),\n",
       "  it may mean that your frontend doesn't currently support widgets.\n",
       "</p>\n"
      ],
      "text/plain": [
       "HTML(value='<h4>The number of loans issued <sup>*)</sup></h4> <h6><sup>*)</sup> by a test data set</h6>')"
      ]
     },
     "metadata": {},
     "output_type": "display_data"
    },
    {
     "data": {
      "application/vnd.jupyter.widget-view+json": {
       "model_id": "03f10fa9496348449c4e3dde7574503c",
       "version_major": 2,
       "version_minor": 0
      },
      "text/html": [
       "<p>Failed to display Jupyter Widget of type <code>HTML</code>.</p>\n",
       "<p>\n",
       "  If you're reading this message in the Jupyter Notebook or JupyterLab Notebook, it may mean\n",
       "  that the widgets JavaScript is still loading. If this message persists, it\n",
       "  likely means that the widgets JavaScript library is either not installed or\n",
       "  not enabled. See the <a href=\"https://ipywidgets.readthedocs.io/en/stable/user_install.html\">Jupyter\n",
       "  Widgets Documentation</a> for setup instructions.\n",
       "</p>\n",
       "<p>\n",
       "  If you're reading this message in another frontend (for example, a static\n",
       "  rendering on GitHub or <a href=\"https://nbviewer.jupyter.org/\">NBViewer</a>),\n",
       "  it may mean that your frontend doesn't currently support widgets.\n",
       "</p>\n"
      ],
      "text/plain": [
       "HTML(value='<h5>Total number of loans: <b>266215</b></h5>')"
      ]
     },
     "metadata": {},
     "output_type": "display_data"
    },
    {
     "data": {
      "image/png": "[encoded data removed]",
      "text/plain": [
       "<matplotlib.figure.Figure at 0x7f23d354ef28>"
      ]
     },
     "metadata": {},
     "output_type": "display_data"
    }
   ],
   "source": [
    "# show the present situation\n",
    "display(HTML(\"<h4>The number of loans issued <sup>*)</sup></h4> <h6><sup>*)</sup> by a test data set</h6>\"))\n",
    "display(HTML(\"<h5>Total number of loans: <b>{:d}</b></h5>\"\n",
    "             .format(total_loan_num)))\n",
    "\n",
    "sns.heatmap( test_bad_vs_good_loans[::-1,None],\n",
    "             cbar=False,\n",
    "             cmap='Spectral', \n",
    "             annot=True,\n",
    "             fmt=',.0f',\n",
    "             annot_kws={'size': 15},\n",
    "             yticklabels=['   TRULY BAD LOANS   ','   TRULY GOOD LOANS   '],\n",
    "             xticklabels=[]\n",
    "            );\n",
    "plt.show()\n"
   ]
  },
  {
   "cell_type": "code",
   "execution_count": 9,
   "metadata": {
    "extensions": {
     "jupyter_dashboards": {
      "version": 1,
      "views": {
       "grid_default": {},
       "report_default": {
        "hidden": false
       }
      }
     }
    },
    "slideshow": {
     "slide_type": "subslide"
    }
   },
   "outputs": [
    {
     "data": {
      "application/vnd.jupyter.widget-view+json": {
       "model_id": "6afee98c28f549b9a23012d91cf8c0b1",
       "version_major": 2,
       "version_minor": 0
      },
      "text/html": [
       "<p>Failed to display Jupyter Widget of type <code>HTML</code>.</p>\n",
       "<p>\n",
       "  If you're reading this message in the Jupyter Notebook or JupyterLab Notebook, it may mean\n",
       "  that the widgets JavaScript is still loading. If this message persists, it\n",
       "  likely means that the widgets JavaScript library is either not installed or\n",
       "  not enabled. See the <a href=\"https://ipywidgets.readthedocs.io/en/stable/user_install.html\">Jupyter\n",
       "  Widgets Documentation</a> for setup instructions.\n",
       "</p>\n",
       "<p>\n",
       "  If you're reading this message in another frontend (for example, a static\n",
       "  rendering on GitHub or <a href=\"https://nbviewer.jupyter.org/\">NBViewer</a>),\n",
       "  it may mean that your frontend doesn't currently support widgets.\n",
       "</p>\n"
      ],
      "text/plain": [
       "HTML(value='<h3>In monetary terms</h3>')"
      ]
     },
     "metadata": {},
     "output_type": "display_data"
    },
    {
     "data": {
      "application/vnd.jupyter.widget-view+json": {
       "model_id": "e5dd169b22c7490889be9fe0a918546c",
       "version_major": 2,
       "version_minor": 0
      },
      "text/html": [
       "<p>Failed to display Jupyter Widget of type <code>HTML</code>.</p>\n",
       "<p>\n",
       "  If you're reading this message in the Jupyter Notebook or JupyterLab Notebook, it may mean\n",
       "  that the widgets JavaScript is still loading. If this message persists, it\n",
       "  likely means that the widgets JavaScript library is either not installed or\n",
       "  not enabled. See the <a href=\"https://ipywidgets.readthedocs.io/en/stable/user_install.html\">Jupyter\n",
       "  Widgets Documentation</a> for setup instructions.\n",
       "</p>\n",
       "<p>\n",
       "  If you're reading this message in another frontend (for example, a static\n",
       "  rendering on GitHub or <a href=\"https://nbviewer.jupyter.org/\">NBViewer</a>),\n",
       "  it may mean that your frontend doesn't currently support widgets.\n",
       "</p>\n"
      ],
      "text/plain": [
       "HTML(value='<h5>Loans Issued <b>$3,922,760,850</b><br/>Gross Profit/Loss: <b>\\\\$2,532,124,897</b><br/>Gross ROI: <b>0.645%</b></h5>')"
      ]
     },
     "metadata": {},
     "output_type": "display_data"
    },
    {
     "data": {
      "image/png": "[encoded data removed]",
      "text/plain": [
       "<matplotlib.figure.Figure at 0x7f23d24ff8d0>"
      ]
     },
     "metadata": {},
     "output_type": "display_data"
    }
   ],
   "source": [
    "display(HTML(\"<h3>In monetary terms</h3>\"))\n",
    "display(HTML(\"<h5>Loans Issued <b>${:,.0f}</b><br/>\"\n",
    "             \"Gross Profit/Loss: <b>\\${:,.0f}</b><br/>\"\n",
    "             \"Gross ROI: <b>{:.3f}%</b></h5>\"\n",
    "             .format(total_loan_amt,\n",
    "                     gross_profit_or_loss,\n",
    "                     gross_roi)))\n",
    "\n",
    "sns.heatmap( [[bad_loan_loss],[intrest_earned]],\n",
    "             cbar=False,\n",
    "             cmap='Spectral', \n",
    "             annot=True,\n",
    "             fmt=',.0f',\n",
    "             annot_kws={'size': 15},\n",
    "             yticklabels=['BAD LOANS LOSS','GOOD LOANS INTREST EARNED'],\n",
    "             xticklabels=[],\n",
    "            );\n"
   ]
  },
  {
   "cell_type": "code",
   "execution_count": 10,
   "metadata": {
    "extensions": {
     "jupyter_dashboards": {
      "version": 1,
      "views": {
       "grid_default": {},
       "report_default": {
        "hidden": false
       }
      }
     }
    }
   },
   "outputs": [
    {
     "data": {
      "application/vnd.jupyter.widget-view+json": {
       "model_id": "23043035afcd427b8255f05f7b2b51aa",
       "version_major": 2,
       "version_minor": 0
      },
      "text/html": [
       "<p>Failed to display Jupyter Widget of type <code>HTML</code>.</p>\n",
       "<p>\n",
       "  If you're reading this message in the Jupyter Notebook or JupyterLab Notebook, it may mean\n",
       "  that the widgets JavaScript is still loading. If this message persists, it\n",
       "  likely means that the widgets JavaScript library is either not installed or\n",
       "  not enabled. See the <a href=\"https://ipywidgets.readthedocs.io/en/stable/user_install.html\">Jupyter\n",
       "  Widgets Documentation</a> for setup instructions.\n",
       "</p>\n",
       "<p>\n",
       "  If you're reading this message in another frontend (for example, a static\n",
       "  rendering on GitHub or <a href=\"https://nbviewer.jupyter.org/\">NBViewer</a>),\n",
       "  it may mean that your frontend doesn't currently support widgets.\n",
       "</p>\n"
      ],
      "text/plain": [
       "HTML(value='<h3>Can we reduce the losses?</h3>')"
      ]
     },
     "metadata": {},
     "output_type": "display_data"
    },
    {
     "data": {
      "application/vnd.jupyter.widget-view+json": {
       "model_id": "cb5ae5ff105c4b5aa0bcf653e2121c09",
       "version_major": 2,
       "version_minor": 0
      },
      "text/html": [
       "<p>Failed to display Jupyter Widget of type <code>HTML</code>.</p>\n",
       "<p>\n",
       "  If you're reading this message in the Jupyter Notebook or JupyterLab Notebook, it may mean\n",
       "  that the widgets JavaScript is still loading. If this message persists, it\n",
       "  likely means that the widgets JavaScript library is either not installed or\n",
       "  not enabled. See the <a href=\"https://ipywidgets.readthedocs.io/en/stable/user_install.html\">Jupyter\n",
       "  Widgets Documentation</a> for setup instructions.\n",
       "</p>\n",
       "<p>\n",
       "  If you're reading this message in another frontend (for example, a static\n",
       "  rendering on GitHub or <a href=\"https://nbviewer.jupyter.org/\">NBViewer</a>),\n",
       "  it may mean that your frontend doesn't currently support widgets.\n",
       "</p>\n"
      ],
      "text/plain": [
       "HTML(value='<h4>If only we could predict which ones will wind up bad ...</h4>')"
      ]
     },
     "metadata": {},
     "output_type": "display_data"
    },
    {
     "data": {
      "application/vnd.jupyter.widget-view+json": {
       "model_id": "be5bb3ea70fa4cefa6f7e5e6fc06b36e",
       "version_major": 2,
       "version_minor": 0
      },
      "text/html": [
       "<p>Failed to display Jupyter Widget of type <code>HTML</code>.</p>\n",
       "<p>\n",
       "  If you're reading this message in the Jupyter Notebook or JupyterLab Notebook, it may mean\n",
       "  that the widgets JavaScript is still loading. If this message persists, it\n",
       "  likely means that the widgets JavaScript library is either not installed or\n",
       "  not enabled. See the <a href=\"https://ipywidgets.readthedocs.io/en/stable/user_install.html\">Jupyter\n",
       "  Widgets Documentation</a> for setup instructions.\n",
       "</p>\n",
       "<p>\n",
       "  If you're reading this message in another frontend (for example, a static\n",
       "  rendering on GitHub or <a href=\"https://nbviewer.jupyter.org/\">NBViewer</a>),\n",
       "  it may mean that your frontend doesn't currently support widgets.\n",
       "</p>\n"
      ],
      "text/plain": [
       "HTML(value=\"<h4>Let's use computers to build a predictive model.</h4>\")"
      ]
     },
     "metadata": {},
     "output_type": "display_data"
    }
   ],
   "source": [
    "display(HTML(\"<h3>Can we reduce the losses?</h3>\"))\n",
    "display(HTML(\"<h4>If only we could predict which ones will wind up bad ...</h4>\"))\n",
    "display(HTML(\"<h4>Let's use computers to build a predictive model.</h4>\"))"
   ]
  },
  {
   "cell_type": "code",
   "execution_count": 11,
   "metadata": {
    "extensions": {
     "jupyter_dashboards": {
      "version": 1,
      "views": {
       "grid_default": {},
       "report_default": {
        "hidden": true
       }
      }
     }
    },
    "slideshow": {
     "slide_type": "slide"
    }
   },
   "outputs": [],
   "source": [
    "# load models\n",
    "\n",
    "mms = MMS()\n",
    "\n",
    "best_model_list = mms.list_models()\n",
    "model_df = pd.DataFrame( best_model_list, \n",
    "                        columns=['model_name', 'accuracy', 'precision', 'recall', 'f1', 'neg_log_loss', 'roc_auc'])\n",
    "model_df = model_df.sort_values(by='roc_auc', ascending=False)\n"
   ]
  },
  {
   "cell_type": "code",
   "execution_count": 12,
   "metadata": {
    "extensions": {
     "jupyter_dashboards": {
      "version": 1,
      "views": {
       "grid_default": {},
       "report_default": {
        "hidden": false
       }
      }
     }
    },
    "slideshow": {
     "slide_type": "slide"
    }
   },
   "outputs": [
    {
     "data": {
      "application/vnd.jupyter.widget-view+json": {
       "model_id": "3beaff8df11b4299a37e0e63d0658da4",
       "version_major": 2,
       "version_minor": 0
      },
      "text/html": [
       "<p>Failed to display Jupyter Widget of type <code>HTML</code>.</p>\n",
       "<p>\n",
       "  If you're reading this message in the Jupyter Notebook or JupyterLab Notebook, it may mean\n",
       "  that the widgets JavaScript is still loading. If this message persists, it\n",
       "  likely means that the widgets JavaScript library is either not installed or\n",
       "  not enabled. See the <a href=\"https://ipywidgets.readthedocs.io/en/stable/user_install.html\">Jupyter\n",
       "  Widgets Documentation</a> for setup instructions.\n",
       "</p>\n",
       "<p>\n",
       "  If you're reading this message in another frontend (for example, a static\n",
       "  rendering on GitHub or <a href=\"https://nbviewer.jupyter.org/\">NBViewer</a>),\n",
       "  it may mean that your frontend doesn't currently support widgets.\n",
       "</p>\n"
      ],
      "text/plain": [
       "HTML(value='<h3>Computer models and their test characteristics<sup>*)</sup></h3>')"
      ]
     },
     "metadata": {},
     "output_type": "display_data"
    },
    {
     "data": {
      "application/vnd.jupyter.widget-view+json": {
       "model_id": "60591deaab79489490a2038da8f48920",
       "version_major": 2,
       "version_minor": 0
      },
      "text/html": [
       "<p>Failed to display Jupyter Widget of type <code>HTML</code>.</p>\n",
       "<p>\n",
       "  If you're reading this message in the Jupyter Notebook or JupyterLab Notebook, it may mean\n",
       "  that the widgets JavaScript is still loading. If this message persists, it\n",
       "  likely means that the widgets JavaScript library is either not installed or\n",
       "  not enabled. See the <a href=\"https://ipywidgets.readthedocs.io/en/stable/user_install.html\">Jupyter\n",
       "  Widgets Documentation</a> for setup instructions.\n",
       "</p>\n",
       "<p>\n",
       "  If you're reading this message in another frontend (for example, a static\n",
       "  rendering on GitHub or <a href=\"https://nbviewer.jupyter.org/\">NBViewer</a>),\n",
       "  it may mean that your frontend doesn't currently support widgets.\n",
       "</p>\n"
      ],
      "text/plain": [
       "HTML(value='<h6><sup>*)</sup> developed based on a training data set</h6>')"
      ]
     },
     "metadata": {},
     "output_type": "display_data"
    },
    {
     "data": {
      "text/html": [
       "<div>\n",
       "<style scoped>\n",
       "    .dataframe tbody tr th:only-of-type {\n",
       "        vertical-align: middle;\n",
       "    }\n",
       "\n",
       "    .dataframe tbody tr th {\n",
       "        vertical-align: top;\n",
       "    }\n",
       "\n",
       "    .dataframe thead th {\n",
       "        text-align: right;\n",
       "    }\n",
       "</style>\n",
       "<table border=\"1\" class=\"dataframe\">\n",
       "  <thead>\n",
       "    <tr style=\"text-align: right;\">\n",
       "      <th></th>\n",
       "      <th>model_name</th>\n",
       "      <th>accuracy</th>\n",
       "      <th>precision</th>\n",
       "      <th>recall</th>\n",
       "      <th>f1</th>\n",
       "      <th>neg_log_loss</th>\n",
       "      <th>roc_auc</th>\n",
       "    </tr>\n",
       "  </thead>\n",
       "  <tbody>\n",
       "    <tr>\n",
       "      <th>0</th>\n",
       "      <td>LGBMClassifier</td>\n",
       "      <td>0.987736</td>\n",
       "      <td>0.992940</td>\n",
       "      <td>0.821676</td>\n",
       "      <td>0.899036</td>\n",
       "      <td>-0.047224</td>\n",
       "      <td>0.982045</td>\n",
       "    </tr>\n",
       "    <tr>\n",
       "      <th>1</th>\n",
       "      <td>GradientBoostingClassifier</td>\n",
       "      <td>0.985118</td>\n",
       "      <td>0.995723</td>\n",
       "      <td>0.778319</td>\n",
       "      <td>0.873846</td>\n",
       "      <td>-0.054237</td>\n",
       "      <td>0.979801</td>\n",
       "    </tr>\n",
       "    <tr>\n",
       "      <th>2</th>\n",
       "      <td>StandardScaler-MLPClassifier</td>\n",
       "      <td>0.986757</td>\n",
       "      <td>0.986803</td>\n",
       "      <td>0.818235</td>\n",
       "      <td>0.892330</td>\n",
       "      <td>-0.051510</td>\n",
       "      <td>0.979307</td>\n",
       "    </tr>\n",
       "    <tr>\n",
       "      <th>3</th>\n",
       "      <td>RandomForestClassifier</td>\n",
       "      <td>0.985056</td>\n",
       "      <td>0.999344</td>\n",
       "      <td>0.774950</td>\n",
       "      <td>0.873104</td>\n",
       "      <td>-0.087779</td>\n",
       "      <td>0.971108</td>\n",
       "    </tr>\n",
       "    <tr>\n",
       "      <th>4</th>\n",
       "      <td>ExtraTreesClassifier</td>\n",
       "      <td>0.984391</td>\n",
       "      <td>0.999557</td>\n",
       "      <td>0.764990</td>\n",
       "      <td>0.866770</td>\n",
       "      <td>-0.088790</td>\n",
       "      <td>0.970707</td>\n",
       "    </tr>\n",
       "    <tr>\n",
       "      <th>5</th>\n",
       "      <td>StackingEstimator-StackingEstimator-StackingEs...</td>\n",
       "      <td>0.985255</td>\n",
       "      <td>0.982446</td>\n",
       "      <td>0.787989</td>\n",
       "      <td>0.877260</td>\n",
       "      <td>-0.082770</td>\n",
       "      <td>0.962697</td>\n",
       "    </tr>\n",
       "    <tr>\n",
       "      <th>6</th>\n",
       "      <td>DecisionTreeClassifier</td>\n",
       "      <td>0.984827</td>\n",
       "      <td>0.988603</td>\n",
       "      <td>0.783118</td>\n",
       "      <td>0.872868</td>\n",
       "      <td>-0.076041</td>\n",
       "      <td>0.961619</td>\n",
       "    </tr>\n",
       "    <tr>\n",
       "      <th>7</th>\n",
       "      <td>LogisticRegression</td>\n",
       "      <td>0.953843</td>\n",
       "      <td>0.592212</td>\n",
       "      <td>0.829868</td>\n",
       "      <td>0.675198</td>\n",
       "      <td>-0.208886</td>\n",
       "      <td>0.953524</td>\n",
       "    </tr>\n",
       "  </tbody>\n",
       "</table>\n",
       "</div>"
      ],
      "text/plain": [
       "                                          model_name  accuracy  precision  \\\n",
       "0                                     LGBMClassifier  0.987736   0.992940   \n",
       "1                         GradientBoostingClassifier  0.985118   0.995723   \n",
       "2                       StandardScaler-MLPClassifier  0.986757   0.986803   \n",
       "3                             RandomForestClassifier  0.985056   0.999344   \n",
       "4                               ExtraTreesClassifier  0.984391   0.999557   \n",
       "5  StackingEstimator-StackingEstimator-StackingEs...  0.985255   0.982446   \n",
       "6                             DecisionTreeClassifier  0.984827   0.988603   \n",
       "7                                 LogisticRegression  0.953843   0.592212   \n",
       "\n",
       "     recall        f1  neg_log_loss   roc_auc  \n",
       "0  0.821676  0.899036     -0.047224  0.982045  \n",
       "1  0.778319  0.873846     -0.054237  0.979801  \n",
       "2  0.818235  0.892330     -0.051510  0.979307  \n",
       "3  0.774950  0.873104     -0.087779  0.971108  \n",
       "4  0.764990  0.866770     -0.088790  0.970707  \n",
       "5  0.787989  0.877260     -0.082770  0.962697  \n",
       "6  0.783118  0.872868     -0.076041  0.961619  \n",
       "7  0.829868  0.675198     -0.208886  0.953524  "
      ]
     },
     "metadata": {},
     "output_type": "display_data"
    }
   ],
   "source": [
    "display(HTML(\"<h3>Computer models and their test characteristics<sup>*)</sup></h3>\"))\n",
    "display(HTML(\"<h6><sup>*)</sup> developed based on a training data set</h6>\"))\n",
    "\n",
    "display(model_df)"
   ]
  },
  {
   "cell_type": "code",
   "execution_count": 13,
   "metadata": {
    "extensions": {
     "jupyter_dashboards": {
      "version": 1,
      "views": {
       "grid_default": {},
       "report_default": {
        "hidden": false
       }
      }
     }
    }
   },
   "outputs": [
    {
     "data": {
      "application/vnd.jupyter.widget-view+json": {
       "model_id": "04705069069a4eb483558c821f8dc918",
       "version_major": 2,
       "version_minor": 0
      },
      "text/html": [
       "<p>Failed to display Jupyter Widget of type <code>HTML</code>.</p>\n",
       "<p>\n",
       "  If you're reading this message in the Jupyter Notebook or JupyterLab Notebook, it may mean\n",
       "  that the widgets JavaScript is still loading. If this message persists, it\n",
       "  likely means that the widgets JavaScript library is either not installed or\n",
       "  not enabled. See the <a href=\"https://ipywidgets.readthedocs.io/en/stable/user_install.html\">Jupyter\n",
       "  Widgets Documentation</a> for setup instructions.\n",
       "</p>\n",
       "<p>\n",
       "  If you're reading this message in another frontend (for example, a static\n",
       "  rendering on GitHub or <a href=\"https://nbviewer.jupyter.org/\">NBViewer</a>),\n",
       "  it may mean that your frontend doesn't currently support widgets.\n",
       "</p>\n"
      ],
      "text/plain": [
       "HTML(value=\"<h4>Let's put the best model to the test</h4>\")"
      ]
     },
     "metadata": {},
     "output_type": "display_data"
    },
    {
     "ename": "ValueError",
     "evalue": "Number of features of the model must match the input. Model n_features_ is 36 and input n_features is 35 ",
     "output_type": "error",
     "traceback": [
      "\u001b[0;31m---------------------------------------------------------------------------\u001b[0m",
      "\u001b[0;31mValueError\u001b[0m                                Traceback (most recent call last)",
      "\u001b[0;32m<ipython-input-13-e91706bbe600>\u001b[0m in \u001b[0;36m<module>\u001b[0;34m()\u001b[0m\n\u001b[1;32m      7\u001b[0m \u001b[0mthe_best\u001b[0m \u001b[0;34m=\u001b[0m \u001b[0mmms\u001b[0m\u001b[0;34m.\u001b[0m\u001b[0mget_model\u001b[0m\u001b[0;34m(\u001b[0m\u001b[0mby_best_score\u001b[0m\u001b[0;34m=\u001b[0m\u001b[0;34m'roc_auc'\u001b[0m\u001b[0;34m)\u001b[0m\u001b[0;34m\u001b[0m\u001b[0m\n\u001b[1;32m      8\u001b[0m \u001b[0;34m\u001b[0m\u001b[0m\n\u001b[0;32m----> 9\u001b[0;31m \u001b[0mpredicted\u001b[0m \u001b[0;34m=\u001b[0m \u001b[0mthe_best\u001b[0m\u001b[0;34m.\u001b[0m\u001b[0mpredict\u001b[0m\u001b[0;34m(\u001b[0m\u001b[0mX\u001b[0m\u001b[0;34m)\u001b[0m\u001b[0;34m\u001b[0m\u001b[0m\n\u001b[0m\u001b[1;32m     10\u001b[0m \u001b[0mexpected\u001b[0m \u001b[0;34m=\u001b[0m \u001b[0my\u001b[0m\u001b[0;34m\u001b[0m\u001b[0m\n\u001b[1;32m     11\u001b[0m \u001b[0;34m\u001b[0m\u001b[0m\n",
      "\u001b[0;32m~/anaconda3/lib/python3.6/site-packages/lightgbm/sklearn.py\u001b[0m in \u001b[0;36mpredict\u001b[0;34m(self, X, raw_score, num_iteration)\u001b[0m\n\u001b[1;32m    674\u001b[0m \u001b[0;34m\u001b[0m\u001b[0m\n\u001b[1;32m    675\u001b[0m     \u001b[0;32mdef\u001b[0m \u001b[0mpredict\u001b[0m\u001b[0;34m(\u001b[0m\u001b[0mself\u001b[0m\u001b[0;34m,\u001b[0m \u001b[0mX\u001b[0m\u001b[0;34m,\u001b[0m \u001b[0mraw_score\u001b[0m\u001b[0;34m=\u001b[0m\u001b[0;32mFalse\u001b[0m\u001b[0;34m,\u001b[0m \u001b[0mnum_iteration\u001b[0m\u001b[0;34m=\u001b[0m\u001b[0;36m0\u001b[0m\u001b[0;34m)\u001b[0m\u001b[0;34m:\u001b[0m\u001b[0;34m\u001b[0m\u001b[0m\n\u001b[0;32m--> 676\u001b[0;31m         \u001b[0mclass_probs\u001b[0m \u001b[0;34m=\u001b[0m \u001b[0mself\u001b[0m\u001b[0;34m.\u001b[0m\u001b[0mpredict_proba\u001b[0m\u001b[0;34m(\u001b[0m\u001b[0mX\u001b[0m\u001b[0;34m,\u001b[0m \u001b[0mraw_score\u001b[0m\u001b[0;34m,\u001b[0m \u001b[0mnum_iteration\u001b[0m\u001b[0;34m)\u001b[0m\u001b[0;34m\u001b[0m\u001b[0m\n\u001b[0m\u001b[1;32m    677\u001b[0m         \u001b[0mclass_index\u001b[0m \u001b[0;34m=\u001b[0m \u001b[0mnp\u001b[0m\u001b[0;34m.\u001b[0m\u001b[0margmax\u001b[0m\u001b[0;34m(\u001b[0m\u001b[0mclass_probs\u001b[0m\u001b[0;34m,\u001b[0m \u001b[0maxis\u001b[0m\u001b[0;34m=\u001b[0m\u001b[0;36m1\u001b[0m\u001b[0;34m)\u001b[0m\u001b[0;34m\u001b[0m\u001b[0m\n\u001b[1;32m    678\u001b[0m         \u001b[0;32mreturn\u001b[0m \u001b[0mself\u001b[0m\u001b[0;34m.\u001b[0m\u001b[0m_le\u001b[0m\u001b[0;34m.\u001b[0m\u001b[0minverse_transform\u001b[0m\u001b[0;34m(\u001b[0m\u001b[0mclass_index\u001b[0m\u001b[0;34m)\u001b[0m\u001b[0;34m\u001b[0m\u001b[0m\n",
      "\u001b[0;32m~/anaconda3/lib/python3.6/site-packages/lightgbm/sklearn.py\u001b[0m in \u001b[0;36mpredict_proba\u001b[0;34m(self, X, raw_score, num_iteration)\u001b[0m\n\u001b[1;32m    704\u001b[0m                              \u001b[0;34m\"match the input. Model n_features_ is %s and \"\u001b[0m\u001b[0;34m\u001b[0m\u001b[0m\n\u001b[1;32m    705\u001b[0m                              \u001b[0;34m\"input n_features is %s \"\u001b[0m\u001b[0;34m\u001b[0m\u001b[0m\n\u001b[0;32m--> 706\u001b[0;31m                              % (self._n_features, n_features))\n\u001b[0m\u001b[1;32m    707\u001b[0m         \u001b[0mclass_probs\u001b[0m \u001b[0;34m=\u001b[0m \u001b[0mself\u001b[0m\u001b[0;34m.\u001b[0m\u001b[0mbooster_\u001b[0m\u001b[0;34m.\u001b[0m\u001b[0mpredict\u001b[0m\u001b[0;34m(\u001b[0m\u001b[0mX\u001b[0m\u001b[0;34m,\u001b[0m \u001b[0mraw_score\u001b[0m\u001b[0;34m=\u001b[0m\u001b[0mraw_score\u001b[0m\u001b[0;34m,\u001b[0m \u001b[0mnum_iteration\u001b[0m\u001b[0;34m=\u001b[0m\u001b[0mnum_iteration\u001b[0m\u001b[0;34m)\u001b[0m\u001b[0;34m\u001b[0m\u001b[0m\n\u001b[1;32m    708\u001b[0m         \u001b[0;32mif\u001b[0m \u001b[0mself\u001b[0m\u001b[0;34m.\u001b[0m\u001b[0m_n_classes\u001b[0m \u001b[0;34m>\u001b[0m \u001b[0;36m2\u001b[0m\u001b[0;34m:\u001b[0m\u001b[0;34m\u001b[0m\u001b[0m\n",
      "\u001b[0;31mValueError\u001b[0m: Number of features of the model must match the input. Model n_features_ is 36 and input n_features is 35 "
     ]
    }
   ],
   "source": [
    "display(HTML(\"<h4>Let's put the best model to the test</h4>\"))\n",
    "\n",
    "import warnings\n",
    "warnings.filterwarnings(\"ignore\")\n",
    "\n",
    "# get the best and predict outcomes\n",
    "the_best = mms.get_model(by_best_score='roc_auc')\n",
    "\n",
    "predicted = the_best.predict(X)\n",
    "expected = y\n",
    "\n",
    "display(HTML(\"<h5>The best model by 'ROC AUC' is {:s}</h5>\".format(the_best.__class__.__name__)))"
   ]
  },
  {
   "cell_type": "code",
   "execution_count": null,
   "metadata": {
    "extensions": {
     "jupyter_dashboards": {
      "version": 1,
      "views": {
       "grid_default": {},
       "report_default": {
        "hidden": false
       }
      }
     }
    }
   },
   "outputs": [],
   "source": [
    "# show in numbers\n",
    "display(HTML(\"<h4>In mumbers</h6>\"))\n",
    "\n",
    "cm = confusion_matrix(expected, predicted)\n",
    "cm = cm[::-1,::-1] # reversed because of habit\n",
    "sns.heatmap( cm,\n",
    "             cbar=False,\n",
    "             cmap='Spectral', \n",
    "             annot=True,\n",
    "             square=True,\n",
    "             fmt=',d',\n",
    "             annot_kws={'size': 15},\n",
    "             yticklabels=['   TRULY DEFAULT   ','   TRULY GOOD LOAN   '],\n",
    "             xticklabels=['PRED DEFAULT', 'PRED GOOD LOAN']\n",
    "            );"
   ]
  },
  {
   "cell_type": "code",
   "execution_count": null,
   "metadata": {
    "extensions": {
     "jupyter_dashboards": {
      "version": 1,
      "views": {
       "grid_default": {},
       "report_default": {
        "hidden": true
       }
      }
     }
    }
   },
   "outputs": [],
   "source": [
    "# compute the figures in $$$\n",
    "\n",
    "f = pd.DataFrame( np.c_[expected,pd.Series(predicted)], columns=['e','p'] )\n",
    "\n",
    "P = f[ f.e == 1 ].e.count()\n",
    "N = f[ f.e == 0 ].e.count()\n",
    "TP = f [ (f.e == 1) & (f.p == 1) ].p.count()\n",
    "FP = f [ (f.e == 0) & (f.p == 1) ].p.count()\n",
    "FN = f [ (f.e == 1) & (f.p == 0) ].p.count()\n",
    "TN = f [ (f.e == 0) & (f.p == 0) ].p.count()\n",
    "\n",
    "pred_s = pd.Series(predicted)\n",
    "pred_s.name = 'PRED'\n",
    "assert len(pred_s) == len(enriched_test_df)\n",
    "\n",
    "pred_n_test_df = pd.concat((pred_s,enriched_test_df), axis=1, ignore_index=False).set_index(\"id\")\n",
    "total_loan_amt = pred_n_test_df.loan_amnt.sum()\n",
    "\n",
    "P_df = pred_n_test_df.query(\"DEFAULT==1\")\n",
    "bad_loan_loss = -1 * P_df.loan_amnt.sum()\n",
    "\n",
    "N_df = pred_n_test_df.query(\"DEFAULT==0\")\n",
    "good_loan_intrest_earned = (N_df.loan_amnt * ( 1 + N_df.int_rate/12 )**N_df.term - N_df.loan_amnt).sum()\n",
    "\n",
    "Pred_N_df = pred_n_test_df.query(\"PRED==0\")\n",
    "pred_good_loan_amt = Pred_N_df.loan_amnt.sum()\n",
    "working_capital_increase = total_loan_amt - pred_good_loan_amt\n",
    "\n",
    "TP_df = pred_n_test_df.query(\"PRED==1 & DEFAULT==1\")\n",
    "bad_loan_loss_avoided_due_to_TP = (-1 * TP_df.loan_amnt).sum()\n",
    "\n",
    "FP_df = pred_n_test_df.query(\"PRED==1 & DEFAULT==0\")\n",
    "good_loan_intrest_forfeited_due_to_FP = (FP_df.loan_amnt * ( 1 + FP_df.int_rate/12 )**FP_df.term - FP_df.loan_amnt).sum()\n",
    "\n",
    "FN_df = pred_n_test_df.query(\"PRED==0 & DEFAULT==1\")\n",
    "bad_loan_loss_due_to_FN = (-1 * FN_df.loan_amnt).sum()\n",
    "\n",
    "TN_df = pred_n_test_df.query(\"PRED==0 & DEFAULT==0\")\n",
    "good_loan_intrest_earned_due_to_TN = (TN_df.loan_amnt * ( 1 + TN_df.int_rate/12 )**TN_df.term - TN_df.loan_amnt).sum()\n",
    "\n",
    "gross_profit = intrest_earned + bad_loan_loss\n",
    "gross_profit_with_the_pred_model = good_loan_intrest_earned_due_to_TN + bad_loan_loss_due_to_FN\n",
    "gross_profit_increase = gross_profit_with_the_pred_model - gross_profit\n",
    "\n",
    "gross_roi = gross_profit/pred_n_test_df.loan_amnt.sum()\n",
    "gross_roi_with_the_pred_model = gross_profit_with_the_pred_model/(FN_df.loan_amnt.sum()+TN_df.loan_amnt.sum())\n",
    "gross_roi_lift = gross_roi_with_the_pred_model - gross_roi"
   ]
  },
  {
   "cell_type": "code",
   "execution_count": null,
   "metadata": {
    "extensions": {
     "jupyter_dashboards": {
      "version": 1,
      "views": {
       "grid_default": {},
       "report_default": {
        "hidden": false
       }
      }
     }
    }
   },
   "outputs": [],
   "source": [
    "# show me the $$$\n",
    "display(HTML(\"<h4>In monetary terms</h4>\"))\n",
    "display(HTML(\"<h5>Total Loans Issued <b>${:,.0f}</b> (Working Capital Increase: <b>\\${:,.0f}</b>)<br/>\"\n",
    "             \"Gross Profit with the model: <b>\\${:,.0f}</b> (Gross Profit Increase: <b>\\${:,.0f}</b>)<br/>\"\n",
    "             \"Gross ROI with the model: <b>{:.3f}%</b> (Lift:<b>{:.3f}%</b>) </h5>\"\n",
    "             .format(pred_good_loan_amt, working_capital_increase,\n",
    "                     gross_profit_with_the_pred_model, gross_profit_increase,\n",
    "                     gross_roi_with_the_pred_model, gross_roi_lift)))\n",
    "\n",
    "cm = [\n",
    "    [bad_loan_loss_avoided_due_to_TP,       bad_loan_loss_due_to_FN],\n",
    "    [good_loan_intrest_forfeited_due_to_FP, good_loan_intrest_earned_due_to_TN]\n",
    "]\n",
    "sns.heatmap( cm,\n",
    "             cbar=False,\n",
    "             cmap='Spectral', \n",
    "             annot=True,\n",
    "             fmt=',.0f',\n",
    "             annot_kws={'size': 15},\n",
    "             yticklabels=['   TRULY DEFAULT   ','   TRULY GOOD LOAN   '],\n",
    "             xticklabels=['PRED DEFAULT*)', 'PRED GOOD LOAN**)']\n",
    "            )\n",
    "\n",
    "display(HTML(\"<h6><sup>*)</sup> the figures represent the avoided losses and opportunity cost</h6>\"\n",
    "             \"<h6><sup>**)</sup> the figures represent the bad loan losses and good loan interest earned</h6>\"))"
   ]
  },
  {
   "cell_type": "code",
   "execution_count": null,
   "metadata": {
    "extensions": {
     "jupyter_dashboards": {
      "version": 1,
      "views": {
       "grid_default": {},
       "report_default": {
        "hidden": false
       }
      }
     }
    }
   },
   "outputs": [],
   "source": [
    "display(HTML(\"<h4>Can we do better?</h4>\"))\n",
    "display(HTML(\"<h4>What if we can change the probability threshold for accepting/denying loans?</h4>\"))"
   ]
  },
  {
   "cell_type": "code",
   "execution_count": null,
   "metadata": {
    "extensions": {
     "jupyter_dashboards": {
      "version": 1,
      "views": {
       "grid_default": {},
       "report_default": {
        "hidden": false
       }
      }
     }
    }
   },
   "outputs": [],
   "source": [
    "# show interactive confucion matrix\n",
    "display(HTML(\"<h4>Interactive confusion matrix as a function of threshold</h4>\"))\n",
    "\n",
    "raw_df = load_raw_rows(load_test_data=True)\n",
    "expected = y\n",
    "enriched_test_df = pd.DataFrame(expected).join(raw_df, lsuffix='_test').reset_index()\n",
    "\n",
    "predict_default_proba = the_best.predict_proba(X)[:,1]\n",
    "\n",
    "\n",
    "@interact(Threshold=FloatSlider(value=.5,min=0,max=1,step=0.01),\n",
    "          Pct=Checkbox(value=False,description='Cross tab data as %'))\n",
    "def plot_confusion_matrix(Threshold,Pct):\n",
    "    \n",
    "    if Threshold == 1:\n",
    "        predicted_t = np.zeros( len(predict_default_proba) )\n",
    "    elif Threshold == 0:\n",
    "        predicted_t = np.ones( len(predict_default_proba) )\n",
    "    else:\n",
    "        predicted_t = np.where( predict_default_proba >= Threshold, 1, 0) \n",
    "\n",
    "    ct = pd.crosstab( expected, predicted_t, rownames=['Expected'], colnames=['Predicted'], margins=True, normalize=Pct)\n",
    "    ct = ct.reindex(index=(1,0,'All'),columns=(1,0,'All'))\n",
    "    ct.fillna(0,inplace=True)\n",
    "    \n",
    "    if Pct:\n",
    "        ct = ct.applymap( lambda v: '{:.2f}%'.format(100*v) )\n",
    "\n",
    "    ct.index = ['Truly Bad Loan', 'Truly Good Loan', 'Pred All']\n",
    "    ct.columns = ['Pred Bad Loan', 'Pred Good Loan', 'Truly All']\n",
    "    \n",
    "    pred_t_s = pd.Series(predicted_t)\n",
    "    pred_t_s.name = 'PRED'\n",
    "    assert len(pred_t_s) == len(enriched_test_df)\n",
    "    pred_n_test_df = pd.concat((pred_t_s,enriched_test_df), axis=1, ignore_index=False).set_index(\"id\")\n",
    "    \n",
    "    # bad loan losses\n",
    "    FN_df = pred_n_test_df.query(\"PRED==0 & DEFAULT==1\")\n",
    "    bad_loan_loss_with_the_model = -1 * FN_df.loan_amnt.sum()\n",
    "    print(\"The threshold for probability of default above which loans are denied: {:d}%\".format(int(100*Threshold)))\n",
    "    print(\"Bad Loan Losses: {:,.2f}\".format(bad_loan_loss_with_the_model))\n",
    "    \n",
    "    # interest earned\n",
    "    TN_df = pred_n_test_df.query(\"PRED==0 & DEFAULT==0\")\n",
    "    intrest_earned_with_the_model_s = TN_df.loan_amnt * ( 1 + TN_df.int_rate/12 )**TN_df.term - TN_df.loan_amnt\n",
    "    intrest_earned_with_the_model = intrest_earned_with_the_model_s.sum()\n",
    "    print(\"Interest Earned: {:,.2f}\".format(intrest_earned_with_the_model))\n",
    "    \n",
    "    # gross profit, ROI\n",
    "    gross_profit_with_the_model = intrest_earned_with_the_model + bad_loan_loss_with_the_model\n",
    "    roi_with_the_model = gross_profit_with_the_model/(FN_df.loan_amnt.sum()+TN_df.loan_amnt.sum())\n",
    "    print(\"Gross Profit/Loss: {:,.2f}\".format(gross_profit_with_the_model))\n",
    "    print(\"Gross ROI: {:,.3f}%\".format(roi_with_the_model))\n",
    "    \n",
    "    return ct\n",
    "\n"
   ]
  },
  {
   "cell_type": "code",
   "execution_count": null,
   "metadata": {
    "extensions": {
     "jupyter_dashboards": {
      "version": 1,
      "views": {
       "grid_default": {},
       "report_default": {
        "hidden": false
       }
      }
     }
    }
   },
   "outputs": [],
   "source": [
    "display(HTML(\"<h4>Can we somehow automate the selection of the optimal threshold?</h4>\"))\n",
    "display(HTML(\"<h4>Let's try</h4>\"))"
   ]
  },
  {
   "cell_type": "code",
   "execution_count": null,
   "metadata": {
    "extensions": {
     "jupyter_dashboards": {
      "version": 1,
      "views": {
       "grid_default": {},
       "report_default": {
        "hidden": false
       }
      }
     }
    },
    "scrolled": false
   },
   "outputs": [],
   "source": [
    "# show interactive confusion matrix with Gross Profit and ROI\n",
    "display(HTML(\"<h4>Gross Profit and ROI as a function of threshold</h4>\"))\n",
    "\n",
    "\n",
    "def compute_profit_and_roi(model):\n",
    "    \n",
    "    model = mms.get_model(model)\n",
    "    \n",
    "    predict_default_proba = model.predict_proba(X)[:,1]\n",
    "    gross_profit_or_loss = []\n",
    "    gross_roi = []\n",
    "\n",
    "    for Threshold in np.linspace(0.01,.99,98):\n",
    "\n",
    "        predicted_t = np.where( predict_default_proba >= Threshold, 1, 0) \n",
    "\n",
    "        pred_t_s = pd.Series(predicted_t)\n",
    "        pred_t_s.name = 'PRED'\n",
    "        assert len(pred_t_s) == len(enriched_test_df)\n",
    "\n",
    "        pred_n_test_df = pd.concat((pred_t_s,enriched_test_df), axis=1, ignore_index=False).set_index(\"id\")\n",
    "\n",
    "        # bad loan losses\n",
    "        FN_df = pred_n_test_df.query(\"PRED==0 & DEFAULT==1\")\n",
    "        bad_loan_loss_with_the_model = (-1 * FN_df.loan_amnt).sum()\n",
    "\n",
    "        # interest earned\n",
    "        TN_df = pred_n_test_df.query(\"PRED==0 & DEFAULT==0\")\n",
    "        intrest_earned_with_the_model = (TN_df.loan_amnt * ( 1 + TN_df.int_rate/12 )**TN_df.term - TN_df.loan_amnt).sum()\n",
    "        # gross profit, ROI\n",
    "        gross_profit_with_the_model = intrest_earned_with_the_model + bad_loan_loss_with_the_model\n",
    "        roi_with_the_model = gross_profit_with_the_model/(FN_df.loan_amnt.sum()+TN_df.loan_amnt.sum())\n",
    "\n",
    "        # collect metrics \n",
    "        gross_profit_or_loss.append(gross_profit_with_the_model)\n",
    "        gross_roi.append(roi_with_the_model)\n",
    "\n",
    "    return gross_profit_or_loss, gross_roi\n",
    "\n",
    "\n",
    "def plot_lines(model_list):\n",
    "    \n",
    "    ax1, ax2 = plt.gcf().get_axes()\n",
    "    ax1.cla()\n",
    "    ax2.cla()\n",
    "    \n",
    "    for model in model_list:\n",
    "        gross_profit_or_loss, gross_roi = compute_profit_and_roi(model)\n",
    "        ax1.plot(gross_profit_or_loss, label=model)\n",
    "        ax2.plot(gross_roi, label=model)\n",
    "    \n",
    "    ax1.set_ylabel(\"Gross Profit\")\n",
    "    ax1.grid()\n",
    "    ax2.set_ylabel(\"Gross ROI\")    \n",
    "    ax2.set_xlabel(\"Threshold\")\n",
    "    ax2.grid()\n",
    "    if model_list: ax2.legend()\n",
    "        \n",
    "    return\n",
    "\n",
    "\n",
    "# plot lines\n",
    "# %matplotlib inline\n",
    "%matplotlib notebook\n",
    "# plt.style.use('seaborn-talk')\n",
    "fig, (ax1,ax2) = plt.subplots(2,1,sharex=True, figsize=(8,5))\n",
    "ax1.set_ylabel(\"Gross Profit\")\n",
    "ax2.set_ylabel(\"Gross ROI\")\n",
    "ax2.set_xlabel(\"Threshold\")\n",
    "ax1.grid()\n",
    "ax2.grid()\n",
    "plt.show();\n",
    "\n",
    "    \n",
    "# create and assemble buttons\n",
    "buttons_w = [ToggleButton(description=model_name,layout=Layout(width='350px')) \n",
    "             for model_name in model_df.model_name]\n",
    "# model_list_to_plot keeps models to use for plotting\n",
    "model_list_to_plot = []\n",
    "def toggle_model_plot(d):\n",
    "    if d.name == 'value' and d.new == True:\n",
    "        model_list_to_plot.append(d.owner.description)\n",
    "        plot_lines(model_list_to_plot)\n",
    "    elif d.name == 'value' and d.new == False:\n",
    "        model_list_to_plot.remove(d.owner.description)\n",
    "        plot_lines(model_list_to_plot)\n",
    "# register buttons' call-backs        \n",
    "[btn_w.observe(lambda change_value: toggle_model_plot(change_value)) for btn_w in buttons_w]\n",
    "vbox = VBox(buttons_w)\n",
    "display(vbox)\n"
   ]
  },
  {
   "cell_type": "code",
   "execution_count": null,
   "metadata": {
    "extensions": {
     "jupyter_dashboards": {
      "version": 1,
      "views": {
       "grid_default": {},
       "report_default": {
        "hidden": false
       }
      }
     }
    }
   },
   "outputs": [],
   "source": [
    "display(HTML(\"<h4>And this is the end of the presentation</h4>\"))\n",
    "display(HTML(\"<h4>..., but not the end of the story</h4>\"))\n",
    "display(HTML(\"<h4>What do you make of it?</h4>\"))\n",
    "display(HTML(\"<h4>Can the predictive models be put to good use?</h4>\"))"
   ]
  },
  {
   "cell_type": "markdown",
   "metadata": {
    "extensions": {
     "jupyter_dashboards": {
      "version": 1,
      "views": {
       "grid_default": {},
       "report_default": {
        "hidden": false
       }
      }
     }
    }
   },
   "source": [
    "### THE END"
   ]
  }
 ],
 "metadata": {
  "extensions": {
   "jupyter_dashboards": {
    "activeView": "report_default",
    "version": 1,
    "views": {
     "grid_default": {
      "name": "grid",
      "type": "grid"
     },
     "report_default": {
      "name": "report",
      "type": "report"
     }
    }
   }
  },
  "kernelspec": {
   "display_name": "Python 3",
   "language": "python",
   "name": "python3"
  },
  "language_info": {
   "codemirror_mode": {
    "name": "ipython",
    "version": 3
   },
   "file_extension": ".py",
   "mimetype": "text/x-python",
   "name": "python",
   "nbconvert_exporter": "python",
   "pygments_lexer": "ipython3",
   "version": "3.6.4"
  }
 },
 "nbformat": 4,
 "nbformat_minor": 2
}
