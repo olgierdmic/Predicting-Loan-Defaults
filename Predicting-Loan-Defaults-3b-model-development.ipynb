{
 "cells": [
  {
   "cell_type": "markdown",
   "metadata": {},
   "source": [
    "### Notes\n",
    "\n",
    "TODO: in this notebook\n",
    "- let's try some other libraries, like:\n",
    "    - statsmodels and glmnet\n",
    "    - xgboost and lightgbm\n",
    "    - keras, neon, and mxnet\n",
    "- let's use automatic ML with TPOT and autosklearn to choose find the best hyerparameters\n",
    "- let's counter-balance the predicting class high bias of good vs. bad loans (ca 93% vs. 7%):\n",
    "    - optimize the model using the 'recall' score ~75% (ie much worse than 'precision' ~99%)\n",
    "    - resample the bad loans (warning: this may lead to overfitting)\n",
    "    - try sythetizing new \"bad samples\" with SMOTE\n",
    "- let's experiment with clustering which might reveal some new ideas\n",
    "- eventually, we'll need to choose the model that seems the best"
   ]
  },
  {
   "cell_type": "markdown",
   "metadata": {},
   "source": [
    "### Table of Contents"
   ]
  },
  {
   "cell_type": "markdown",
   "metadata": {},
   "source": [
    "- [Initialize MMS](#Initialize-MMS)\n",
    "- [Load the data](#Load-the-data)\n",
    "- [Some other popular ML libraries](#Some-other-popular-ML-libraries)\n",
    "    - [GLM](#GLM)\n",
    "    - [GBM](#GBM)\n",
    "    - [DNN](#DNN)\n",
    "- [Automatic ML](#Automatic-ML)\n",
    "    - [TPOT](#TPOT)\n",
    "    - [autosklearn](#autosklearn)\n",
    "- [Counter-balancing the imbalanced cases](#Counter-balancing-the-imbalanced-cases)\n",
    "    - [SMOTe](#SMOTe)\n",
    "    - [Outlier detection](#Outlier-detection)\n",
    "- [Clustering in search for new insights](#Clustering-in-search-for-new-insights)\n",
    "- [And the best model is ...](#And-the-best-model-is-...)"
   ]
  },
  {
   "cell_type": "code",
   "execution_count": 1,
   "metadata": {},
   "outputs": [],
   "source": [
    "# common imports\n",
    "\n",
    "from sklearn.preprocessing import StandardScaler\n",
    "from sklearn.pipeline import make_pipeline\n",
    "from sklearn.model_selection import train_test_split, StratifiedKFold, cross_val_score\n",
    "from sklearn.metrics import classification_report\n",
    "\n",
    "from LC_MMS import MMS     "
   ]
  },
  {
   "cell_type": "code",
   "execution_count": 2,
   "metadata": {},
   "outputs": [],
   "source": [
    "# adjust settings to show all cols and rows\n",
    "pd.options.display.max_columns = 80\n",
    "pd.options.display.max_rows = 20"
   ]
  },
  {
   "cell_type": "code",
   "execution_count": 3,
   "metadata": {},
   "outputs": [],
   "source": [
    "# to supress Warnings (if you've gotten tired of them) run this cell\n",
    "import warnings\n",
    "warnings.filterwarnings(\"ignore\")"
   ]
  },
  {
   "cell_type": "markdown",
   "metadata": {},
   "source": [
    "### Initialize MMS"
   ]
  },
  {
   "cell_type": "code",
   "execution_count": 4,
   "metadata": {},
   "outputs": [],
   "source": [
    "# initialize the MMS service (this load the pretrained models from disk) \n",
    "# and evaluate new models, fit them and save their best fitted/pre-trained versions\n",
    "mms = MMS()"
   ]
  },
  {
   "cell_type": "markdown",
   "metadata": {},
   "source": [
    "### Load the data"
   ]
  },
  {
   "cell_type": "code",
   "execution_count": 5,
   "metadata": {},
   "outputs": [],
   "source": [
    "from LC_data_prep import load_and_prep_data"
   ]
  },
  {
   "cell_type": "code",
   "execution_count": 6,
   "metadata": {},
   "outputs": [
    {
     "data": {
      "text/plain": [
       "(621167, 38)"
      ]
     },
     "execution_count": 6,
     "metadata": {},
     "output_type": "execute_result"
    }
   ],
   "source": [
    "df = load_and_prep_data()\n",
    "df.shape"
   ]
  },
  {
   "cell_type": "code",
   "execution_count": 7,
   "metadata": {},
   "outputs": [],
   "source": [
    "# set X and y\n",
    "X = df.iloc[:,1:] # predictor variables\n",
    "y = df[\"DEFAULT\"] # response/target variable "
   ]
  },
  {
   "cell_type": "code",
   "execution_count": 8,
   "metadata": {},
   "outputs": [
    {
     "data": {
      "text/plain": [
       "[(465875, 37), (155292, 37), (465875,), (155292,)]"
      ]
     },
     "execution_count": 8,
     "metadata": {},
     "output_type": "execute_result"
    }
   ],
   "source": [
    "X_train, X_test, y_train, y_test = train_test_split(X, y)\n",
    "[_.shape for _ in (X_train, X_test, y_train, y_test)]"
   ]
  },
  {
   "cell_type": "markdown",
   "metadata": {},
   "source": [
    "### Some other popular ML libraries"
   ]
  },
  {
   "cell_type": "markdown",
   "metadata": {},
   "source": [
    "#### GLM"
   ]
  },
  {
   "cell_type": "raw",
   "metadata": {},
   "source": [
    "from statsmodels.api import Logit"
   ]
  },
  {
   "cell_type": "raw",
   "metadata": {},
   "source": [
    "from glmnet import glmnet\n",
    "from glmnetPlot import glmnetPlot"
   ]
  },
  {
   "cell_type": "code",
   "execution_count": 9,
   "metadata": {},
   "outputs": [],
   "source": [
    "# TODO: implement the examples with statsmodels and glmnet"
   ]
  },
  {
   "cell_type": "markdown",
   "metadata": {},
   "source": [
    "#### GBM"
   ]
  },
  {
   "cell_type": "code",
   "execution_count": 10,
   "metadata": {},
   "outputs": [],
   "source": [
    "# SKL-GradientBoostingClassifier was one of the best algorithms in SKL (please see the prev notebook 3a)\n",
    "# so how about trying diffrent implementaions of GBM, like xgboost and lightgbm"
   ]
  },
  {
   "cell_type": "code",
   "execution_count": 11,
   "metadata": {},
   "outputs": [],
   "source": [
    "from xgboost import XGBClassifier"
   ]
  },
  {
   "cell_type": "code",
   "execution_count": 12,
   "metadata": {},
   "outputs": [],
   "source": [
    "# TODO: implement the example with  xgboost"
   ]
  },
  {
   "cell_type": "code",
   "execution_count": 13,
   "metadata": {},
   "outputs": [],
   "source": [
    "from lightgbm import LGBMClassifier, plot_importance"
   ]
  },
  {
   "cell_type": "code",
   "execution_count": 14,
   "metadata": {},
   "outputs": [
    {
     "name": "stdout",
     "output_type": "stream",
     "text": [
      "             precision    recall  f1-score   support\n",
      "\n",
      "          0       0.99      1.00      0.99    145039\n",
      "          1       0.99      0.83      0.90     10253\n",
      "\n",
      "avg / total       0.99      0.99      0.99    155292\n",
      "\n"
     ]
    }
   ],
   "source": [
    "gbm = LGBMClassifier (boosting_type='gbdt', num_leaves=31, max_depth=-1, learning_rate=0.1, n_estimators=200, \n",
    "                      max_bin=255, subsample_for_bin=50000, objective='binary', min_split_gain=0.0, \n",
    "                      min_child_weight=5, min_child_samples=10, subsample=1.0, subsample_freq=1, \n",
    "                      colsample_bytree=1.0, reg_alpha=0.0, reg_lambda=0.0, random_state=0, \n",
    "                      n_jobs=-1, silent=True)\n",
    "\n",
    "gbm.fit(X_train, y_train,\n",
    "        eval_set=[(X_test, y_test)],\n",
    "        eval_metric='auc',\n",
    "        early_stopping_rounds=5,\n",
    "        verbose=False)\n",
    "\n",
    "predicted = gbm.predict(X_test)\n",
    "expected = y_test\n",
    "print(classification_report(expected, predicted))"
   ]
  },
  {
   "cell_type": "code",
   "execution_count": 15,
   "metadata": {},
   "outputs": [
    {
     "name": "stdout",
     "output_type": "stream",
     "text": [
      "Scoring model LGBMClassifier by ['accuracy', 'precision', 'recall', 'f1', 'neg_log_loss', 'roc_auc']\n",
      "accuracy: 0.988 (std: 0.000)\n",
      "precision: 0.994 (std: 0.000)\n",
      "recall: 0.828 (std: 0.004)\n",
      "f1: 0.904 (std: 0.002)\n",
      "neg_log_loss: -0.045 (std: 0.000)\n",
      "roc_auc: 0.983 (std: 0.001)\n",
      "Fitting the model\n"
     ]
    },
    {
     "data": {
      "text/plain": [
       "[0.9883590074354002,\n",
       " 0.9940169931637581,\n",
       " 0.8278373686976385,\n",
       " 0.9035118154879799,\n",
       " -0.045308210752733835,\n",
       " 0.982907716444909]"
      ]
     },
     "execution_count": 15,
     "metadata": {},
     "output_type": "execute_result"
    }
   ],
   "source": [
    "mms.score_model(gbm,X,y)"
   ]
  },
  {
   "cell_type": "code",
   "execution_count": 16,
   "metadata": {},
   "outputs": [
    {
     "name": "stdout",
     "output_type": "stream",
     "text": [
      "\"LC_MMS_predictive_models.pkl\" dumped.\n"
     ]
    }
   ],
   "source": [
    "mms.save_models()"
   ]
  },
  {
   "cell_type": "code",
   "execution_count": 17,
   "metadata": {},
   "outputs": [
    {
     "data": {
      "image/png": "[encoded data removed]",
      "text/plain": [
       "<Figure size 720x720 with 1 Axes>"
      ]
     },
     "metadata": {},
     "output_type": "display_data"
    }
   ],
   "source": [
    "# LGBMClassifier gives plot_importances for free :)\n",
    "f, ax = plt.subplots(figsize=(10,10))\n",
    "plot_importance(gbm, ax=ax);"
   ]
  },
  {
   "cell_type": "markdown",
   "metadata": {},
   "source": [
    "#### DNN"
   ]
  },
  {
   "cell_type": "code",
   "execution_count": 18,
   "metadata": {},
   "outputs": [],
   "source": [
    "# And how about Deep Neural Nets? \n",
    "# this one is implemented in Keras with Tensorflow under the hood"
   ]
  },
  {
   "cell_type": "code",
   "execution_count": 19,
   "metadata": {
    "scrolled": false
   },
   "outputs": [
    {
     "name": "stderr",
     "output_type": "stream",
     "text": [
      "Using TensorFlow backend.\n"
     ]
    }
   ],
   "source": [
    "import keras\n",
    "from keras.models import Sequential\n",
    "from keras.layers import Dense, Dropout\n",
    "from keras.wrappers.scikit_learn import KerasClassifier"
   ]
  },
  {
   "cell_type": "code",
   "execution_count": 20,
   "metadata": {},
   "outputs": [],
   "source": [
    "# derive BinaryKerasClassifier from KerasClassifier\n",
    "# there are a lot of options to experiment with including \n",
    "# different layers, initializers, optimizers, activators, and so forth\n",
    "\n",
    "class BinaryKerasClassifier(KerasClassifier):\n",
    "    \n",
    "    def __init__(self, *args, **kwargs):\n",
    "        super(BinaryKerasClassifier,self).__init__(*args,**kwargs)\n",
    "        return\n",
    "        \n",
    "    def __call__(self, N):\n",
    "        # Create NN topology\n",
    "        \n",
    "        # model type\n",
    "        net = Sequential()\n",
    "        # input layer\n",
    "        net.add(Dense(N, input_dim=N, kernel_initializer='normal', activation='relu')) # try tanh\n",
    "        # for regularization\n",
    "        net.add(Dropout(0.1))\n",
    "        # hidden layer\n",
    "        net.add(Dense(N, kernel_initializer='normal', activation='relu'))\n",
    "        # for regularization\n",
    "        net.add(Dropout(0.1))\n",
    "        # output layer\n",
    "        net.add(Dense(1, kernel_initializer='normal', activation='sigmoid'))\n",
    "        # compilation\n",
    "        net.compile(loss='binary_crossentropy', optimizer='adam', metrics=['accuracy']) # try RMSprop(lr=0.001)\n",
    "        # et voila\n",
    "        return net\n",
    "    \n",
    "    def save_model(self):\n",
    "        raise NotImplemented(\"TODO: implement BinaryKerasClassifier.save_model()\")\n"
   ]
  },
  {
   "cell_type": "code",
   "execution_count": 21,
   "metadata": {},
   "outputs": [
    {
     "name": "stdout",
     "output_type": "stream",
     "text": [
      "             precision    recall  f1-score   support\n",
      "\n",
      "          0       0.99      1.00      0.99    145039\n",
      "          1       0.99      0.84      0.91     10253\n",
      "\n",
      "avg / total       0.99      0.99      0.99    155292\n",
      "\n"
     ]
    }
   ],
   "source": [
    "# intitialize the model\n",
    "dnn = BinaryKerasClassifier(N=X_train.shape[1], \n",
    "                       epochs=300, \n",
    "                       batch_size=10000, \n",
    "                       verbose=0)\n",
    "# NN usually require standardized data\n",
    "ss_dnn = make_pipeline(StandardScaler(), dnn)\n",
    "# train it\n",
    "ss_dnn.fit(X_train, y_train)\n",
    "\n",
    "predicted = ss_dnn.predict(X_test)\n",
    "expected = y_test\n",
    "print(classification_report(expected, predicted))"
   ]
  },
  {
   "cell_type": "code",
   "execution_count": null,
   "metadata": {},
   "outputs": [],
   "source": [
    "mms.score_model(ss_dnn, X_train, y_train)"
   ]
  },
  {
   "cell_type": "raw",
   "metadata": {},
   "source": [
    "# WARNING! \n",
    "# running this code obliterates the pickled models, so implement keras.save_model() first\n",
    "# mms.save_models()"
   ]
  },
  {
   "cell_type": "markdown",
   "metadata": {},
   "source": [
    "### Automatic ML"
   ]
  },
  {
   "cell_type": "markdown",
   "metadata": {},
   "source": [
    "#### TPOT"
   ]
  },
  {
   "cell_type": "code",
   "execution_count": 13,
   "metadata": {},
   "outputs": [],
   "source": [
    "from tpot import TPOTClassifier"
   ]
  },
  {
   "cell_type": "code",
   "execution_count": 14,
   "metadata": {},
   "outputs": [
    {
     "name": "stderr",
     "output_type": "stream",
     "text": [
      "Exception ignored in: <bound method DMatrix.__del__ of <xgboost.core.DMatrix object at 0x7fa1d0820a20>>\n",
      "Traceback (most recent call last):\n",
      "  File \"/home/omi/anaconda3/lib/python3.6/site-packages/xgboost/core.py\", line 368, in __del__\n",
      "    if self.handle is not None:\n",
      "AttributeError: 'DMatrix' object has no attribute 'handle'\n"
     ]
    },
    {
     "name": "stdout",
     "output_type": "stream",
     "text": [
      "Best pipeline: DecisionTreeClassifier(DecisionTreeClassifier(DecisionTreeClassifier(DecisionTreeClassifier(input_matrix, criterion=gini, max_depth=7, min_samples_leaf=14, min_samples_split=3), criterion=gini, max_depth=8, min_samples_leaf=15, min_samples_split=5), criterion=entropy, max_depth=8, min_samples_leaf=10, min_samples_split=14), criterion=entropy, max_depth=10, min_samples_leaf=18, min_samples_split=11)\n",
      "0.966095712766335\n"
     ]
    },
    {
     "data": {
      "text/plain": [
       "True"
      ]
     },
     "execution_count": 14,
     "metadata": {},
     "output_type": "execute_result"
    }
   ],
   "source": [
    "# CAVEAT: this stuff takes a long time to run!\n",
    "\n",
    "tpot = TPOTClassifier(scoring='roc_auc', generations=50, population_size=20, n_jobs=-1, verbosity=1)\n",
    "tpot.fit(X_train, y_train)\n",
    "\n",
    "print(tpot.score(X_test, y_test))\n",
    "tpot.export('tpot-pipeline.py')"
   ]
  },
  {
   "cell_type": "code",
   "execution_count": null,
   "metadata": {},
   "outputs": [],
   "source": [
    "# %load tpot-pipeline.py\n",
    "import numpy as np\n",
    "import pandas as pd\n",
    "from sklearn.model_selection import train_test_split\n",
    "from sklearn.pipeline import make_pipeline, make_union\n",
    "from sklearn.tree import DecisionTreeClassifier\n",
    "from tpot.builtins import StackingEstimator\n",
    "\n",
    "# NOTE: Make sure that the class is labeled 'target' in the data file\n",
    "tpot_data = pd.read_csv('PATH/TO/DATA/FILE', sep='COLUMN_SEPARATOR', dtype=np.float64)\n",
    "features = tpot_data.drop('target', axis=1).values\n",
    "training_features, testing_features, training_target, testing_target = \\\n",
    "            train_test_split(features, tpot_data['target'].values, random_state=42)\n",
    "\n",
    "# Score on the training set was:0.9642429287568592\n",
    "exported_pipeline = make_pipeline(\n",
    "    StackingEstimator(estimator=DecisionTreeClassifier(criterion=\"gini\", max_depth=7, min_samples_leaf=14, min_samples_split=3)),\n",
    "    StackingEstimator(estimator=DecisionTreeClassifier(criterion=\"gini\", max_depth=8, min_samples_leaf=15, min_samples_split=5)),\n",
    "    StackingEstimator(estimator=DecisionTreeClassifier(criterion=\"entropy\", max_depth=8, min_samples_leaf=10, min_samples_split=14)),\n",
    "    DecisionTreeClassifier(criterion=\"entropy\", max_depth=10, min_samples_leaf=18, min_samples_split=11)\n",
    ")\n",
    "\n",
    "exported_pipeline.fit(training_features, training_target)\n",
    "results = exported_pipeline.predict(testing_features)\n"
   ]
  },
  {
   "cell_type": "code",
   "execution_count": 51,
   "metadata": {},
   "outputs": [
    {
     "name": "stdout",
     "output_type": "stream",
     "text": [
      "             precision    recall  f1-score   support\n",
      "\n",
      "          0       0.99      1.00      0.99    144921\n",
      "          1       0.99      0.80      0.88     10371\n",
      "\n",
      "avg / total       0.99      0.99      0.98    155292\n",
      "\n",
      "Scoring model StackingEstimator-StackingEstimator-StackingEstimator-DecisionTreeClassifier by ['accuracy', 'precision', 'recall', 'f1', 'neg_log_loss', 'roc_auc']\n",
      "accuracy: 0.985 (std: 0.000)\n",
      "precision: 0.982 (std: 0.002)\n",
      "recall: 0.788 (std: 0.004)\n",
      "f1: 0.877 (std: 0.002)\n",
      "neg_log_loss: -0.083 (std: 0.004)\n",
      "roc_auc: 0.963 (std: 0.000)\n",
      "Fitting the model\n"
     ]
    }
   ],
   "source": [
    "# this is the result from running the above\n",
    "\n",
    "from sklearn.tree import DecisionTreeClassifier\n",
    "from tpot.builtins import StackingEstimator\n",
    "\n",
    "tpot_exported_pipeline = make_pipeline(\n",
    "    StackingEstimator(estimator=DecisionTreeClassifier(criterion=\"gini\", max_depth=7, min_samples_leaf=14, min_samples_split=3)),\n",
    "    StackingEstimator(estimator=DecisionTreeClassifier(criterion=\"gini\", max_depth=8, min_samples_leaf=15, min_samples_split=5)),\n",
    "    StackingEstimator(estimator=DecisionTreeClassifier(criterion=\"entropy\", max_depth=8, min_samples_leaf=10, min_samples_split=14)),\n",
    "    DecisionTreeClassifier(criterion=\"entropy\", max_depth=10, min_samples_leaf=18, min_samples_split=11)\n",
    ")\n",
    "\n",
    "tpot_exported_pipeline.fit(X_train, y_train)\n",
    "\n",
    "predicted = tpot_exported_pipeline.predict(X_test)\n",
    "expected = y_test\n",
    "print(classification_report(expected, predicted))\n",
    "\n",
    "mms.score_model(tpot_exported_pipeline,X,y)"
   ]
  },
  {
   "cell_type": "markdown",
   "metadata": {},
   "source": [
    "#### autosklearn"
   ]
  },
  {
   "cell_type": "code",
   "execution_count": null,
   "metadata": {},
   "outputs": [],
   "source": [
    "# let's find out how good at finding the optimal model hyperparameters autosklearn is "
   ]
  },
  {
   "cell_type": "raw",
   "metadata": {},
   "source": [
    "import autosklearn.classification\n",
    "\n",
    "automl = autosklearn.classification.AutoSklearnClassifier()\n",
    "automl.fit(X_train, y_train)\n",
    "\n",
    "y_hat = automl.predict(X_test)\n",
    "print(\"Accuracy score\", sklearn.metrics.accuracy_score(y_test, y_hat))"
   ]
  },
  {
   "cell_type": "code",
   "execution_count": 16,
   "metadata": {},
   "outputs": [],
   "source": [
    "# TODO: use autosklearn to find the optimal hyperparameters"
   ]
  },
  {
   "cell_type": "markdown",
   "metadata": {},
   "source": [
    "### Counter-balancing the imbalanced cases"
   ]
  },
  {
   "cell_type": "markdown",
   "metadata": {},
   "source": [
    "#### SMOTe"
   ]
  },
  {
   "cell_type": "raw",
   "metadata": {},
   "source": [
    "SMOT, or Synthetic Minority Over-sampling Technique, creates new instances of the minority class thru synthesis of original neighboring instances. However, this might lead to overfitting. Generally, SMOT improves recall, but degrades precision and specificity. Notwithstanding, some algos are pretty robust, like SVM that relies only on a small number of points close to the support lines. Others, like logistic regression may require extra scaling in the data pipeline to minimize the effect."
   ]
  },
  {
   "cell_type": "code",
   "execution_count": 2,
   "metadata": {},
   "outputs": [],
   "source": [
    "from imblearn.over_sampling import SMOTE"
   ]
  },
  {
   "cell_type": "raw",
   "metadata": {},
   "source": [
    "index_split = int(.7*len(X))\n",
    "\n",
    "X_train, y_train = SMOTE().fit_sample(X_train, y_train)\n",
    "\n",
    "# do it with SVC "
   ]
  },
  {
   "cell_type": "code",
   "execution_count": 26,
   "metadata": {},
   "outputs": [],
   "source": [
    "# TODO: implement sythethic sample generation with the use of SMOTe"
   ]
  },
  {
   "cell_type": "markdown",
   "metadata": {},
   "source": [
    "#### Outlier detection"
   ]
  },
  {
   "cell_type": "code",
   "execution_count": null,
   "metadata": {},
   "outputs": [],
   "source": [
    "# we got unbalanced classes (ca 93% good loans to 7% bad loans)\n",
    "# so for the bad loans we may try outlier detection"
   ]
  },
  {
   "cell_type": "raw",
   "metadata": {},
   "source": [
    "from sklearn.ensemble import IsolationForest"
   ]
  },
  {
   "cell_type": "raw",
   "metadata": {},
   "source": [
    "outliers_fraction = 0.07\n",
    "ife = IsolationForest(contamination=outliers_fraction)\n",
    "\n",
    "ife.fit(X)\n",
    "\n",
    "scores_pred = ife.decision_function(X)\n",
    "predicted = ife.predict(X)\n",
    "expected = y_test\n",
    "print(classification_report(expected, predicted))"
   ]
  },
  {
   "cell_type": "code",
   "execution_count": 26,
   "metadata": {},
   "outputs": [],
   "source": [
    "# TODO: implement outlier detection with IsolationForest"
   ]
  },
  {
   "cell_type": "raw",
   "metadata": {},
   "source": [
    "from sklearn.neighbors import LocalOutlierFactor"
   ]
  },
  {
   "cell_type": "raw",
   "metadata": {},
   "source": [
    "outliers_fraction = 0.07\n",
    "lof = LocalOutlierFactor(contamination=outliers_fraction)\n",
    "\n",
    "scores_pred = lof.negative_outlier_factor_\n",
    "predicted = lof.fit_predict(X_train, y_train)\n",
    "expected = y_test\n",
    "print(classification_report(expected, predicted))"
   ]
  },
  {
   "cell_type": "code",
   "execution_count": 26,
   "metadata": {},
   "outputs": [],
   "source": [
    "# TODO: implement outlier detection with LocalOutlierFactor"
   ]
  },
  {
   "cell_type": "markdown",
   "metadata": {},
   "source": [
    "### Clustering in search for new insights"
   ]
  },
  {
   "cell_type": "code",
   "execution_count": null,
   "metadata": {},
   "outputs": [],
   "source": [
    "# Clustering might reveal something interesting"
   ]
  },
  {
   "cell_type": "raw",
   "metadata": {},
   "source": [
    "from sklearn.cluster import DBSCAN"
   ]
  },
  {
   "cell_type": "raw",
   "metadata": {},
   "source": [
    "db = DBSCAN(eps=0.3, min_samples=10).fit(X)\n",
    "core_samples_mask = np.zeros_like(db.labels_, dtype=bool)\n",
    "core_samples_mask[db.core_sample_indices_] = True\n",
    "labels = db.labels_    \n",
    "\n",
    "\n",
    "# Number of clusters in labels, ignoring noise if present.\n",
    "n_clusters_ = len(set(labels)) - (1 if -1 in labels else 0)\n",
    "\n",
    "print('Estimated number of clusters: %d' % n_clusters_)\n",
    "print(\"Homogeneity: %0.3f\" % metrics.homogeneity_score(labels_true, labels))\n",
    "print(\"Completeness: %0.3f\" % metrics.completeness_score(labels_true, labels))\n",
    "print(\"V-measure: %0.3f\" % metrics.v_measure_score(labels_true, labels))\n",
    "print(\"Adjusted Rand Index: %0.3f\"\n",
    "      % metrics.adjusted_rand_score(labels_true, labels))\n",
    "print(\"Adjusted Mutual Information: %0.3f\"\n",
    "      % metrics.adjusted_mutual_info_score(labels_true, labels))\n",
    "print(\"Silhouette Coefficient: %0.3f\"\n",
    "      % metrics.silhouette_score(X, labels))\n",
    "\n",
    "unique_labels = set(labels)"
   ]
  },
  {
   "cell_type": "code",
   "execution_count": null,
   "metadata": {},
   "outputs": [],
   "source": [
    "# TODO: implement outlier detection with DBSCAN"
   ]
  },
  {
   "cell_type": "raw",
   "metadata": {},
   "source": [
    "from sklearn.cluster import AffinityPropagation"
   ]
  },
  {
   "cell_type": "raw",
   "metadata": {},
   "source": [
    "af = AffinityPropagation(preference=-50).fit(X)\n",
    "cluster_centers_indices = af.cluster_centers_indices_\n",
    "labels = af.labels_\n",
    "\n",
    "n_clusters_ = len(cluster_centers_indices)\n",
    "\n",
    "print('Estimated number of clusters: %d' % n_clusters_)\n",
    "print(\"Homogeneity: %0.3f\" % metrics.homogeneity_score(labels_true, labels))\n",
    "print(\"Completeness: %0.3f\" % metrics.completeness_score(labels_true, labels))\n",
    "print(\"V-measure: %0.3f\" % metrics.v_measure_score(labels_true, labels))\n",
    "print(\"Adjusted Rand Index: %0.3f\"\n",
    "      % metrics.adjusted_rand_score(labels_true, labels))\n",
    "print(\"Adjusted Mutual Information: %0.3f\"\n",
    "      % metrics.adjusted_mutual_info_score(labels_true, labels))\n",
    "print(\"Silhouette Coefficient: %0.3f\"\n",
    "      % metrics.silhouette_score(X, labels, metric='sqeuclidean'))"
   ]
  },
  {
   "cell_type": "code",
   "execution_count": null,
   "metadata": {},
   "outputs": [],
   "source": [
    "# TODO: implement outlier detection with AffinityPropagation"
   ]
  },
  {
   "cell_type": "markdown",
   "metadata": {},
   "source": [
    "### And the best model is ..."
   ]
  },
  {
   "cell_type": "code",
   "execution_count": 9,
   "metadata": {},
   "outputs": [
    {
     "data": {
      "text/html": [
       "<div>\n",
       "<style scoped>\n",
       "    .dataframe tbody tr th:only-of-type {\n",
       "        vertical-align: middle;\n",
       "    }\n",
       "\n",
       "    .dataframe tbody tr th {\n",
       "        vertical-align: top;\n",
       "    }\n",
       "\n",
       "    .dataframe thead th {\n",
       "        text-align: right;\n",
       "    }\n",
       "</style>\n",
       "<table border=\"1\" class=\"dataframe\">\n",
       "  <thead>\n",
       "    <tr style=\"text-align: right;\">\n",
       "      <th></th>\n",
       "      <th>model_name</th>\n",
       "      <th>accuracy</th>\n",
       "      <th>precision</th>\n",
       "      <th>recall</th>\n",
       "      <th>f1</th>\n",
       "      <th>neg_log_loss</th>\n",
       "      <th>roc_auc</th>\n",
       "    </tr>\n",
       "  </thead>\n",
       "  <tbody>\n",
       "    <tr>\n",
       "      <th>0</th>\n",
       "      <td>LGBMClassifier</td>\n",
       "      <td>0.988359</td>\n",
       "      <td>0.994017</td>\n",
       "      <td>0.827837</td>\n",
       "      <td>0.903512</td>\n",
       "      <td>-0.045308</td>\n",
       "      <td>0.982908</td>\n",
       "    </tr>\n",
       "    <tr>\n",
       "      <th>1</th>\n",
       "      <td>StandardScaler-MLPClassifier</td>\n",
       "      <td>0.987412</td>\n",
       "      <td>0.972324</td>\n",
       "      <td>0.828082</td>\n",
       "      <td>0.901095</td>\n",
       "      <td>-0.047627</td>\n",
       "      <td>0.980949</td>\n",
       "    </tr>\n",
       "    <tr>\n",
       "      <th>2</th>\n",
       "      <td>GradientBoostingClassifier</td>\n",
       "      <td>0.985423</td>\n",
       "      <td>0.996757</td>\n",
       "      <td>0.780977</td>\n",
       "      <td>0.876857</td>\n",
       "      <td>-0.052836</td>\n",
       "      <td>0.980631</td>\n",
       "    </tr>\n",
       "    <tr>\n",
       "      <th>3</th>\n",
       "      <td>RandomForestClassifier</td>\n",
       "      <td>0.985271</td>\n",
       "      <td>0.999245</td>\n",
       "      <td>0.776871</td>\n",
       "      <td>0.873857</td>\n",
       "      <td>-0.084361</td>\n",
       "      <td>0.973064</td>\n",
       "    </tr>\n",
       "    <tr>\n",
       "      <th>4</th>\n",
       "      <td>ExtraTreesClassifier</td>\n",
       "      <td>0.984587</td>\n",
       "      <td>0.999299</td>\n",
       "      <td>0.766922</td>\n",
       "      <td>0.867720</td>\n",
       "      <td>-0.089022</td>\n",
       "      <td>0.971741</td>\n",
       "    </tr>\n",
       "    <tr>\n",
       "      <th>5</th>\n",
       "      <td>StackingEstimator-StackingEstimator-StackingEs...</td>\n",
       "      <td>0.985255</td>\n",
       "      <td>0.982446</td>\n",
       "      <td>0.787989</td>\n",
       "      <td>0.877260</td>\n",
       "      <td>-0.082770</td>\n",
       "      <td>0.962697</td>\n",
       "    </tr>\n",
       "    <tr>\n",
       "      <th>6</th>\n",
       "      <td>DecisionTreeClassifier</td>\n",
       "      <td>0.984827</td>\n",
       "      <td>0.988603</td>\n",
       "      <td>0.783118</td>\n",
       "      <td>0.872868</td>\n",
       "      <td>-0.076041</td>\n",
       "      <td>0.961619</td>\n",
       "    </tr>\n",
       "    <tr>\n",
       "      <th>7</th>\n",
       "      <td>LogisticRegression</td>\n",
       "      <td>0.959241</td>\n",
       "      <td>0.596396</td>\n",
       "      <td>0.815029</td>\n",
       "      <td>0.727060</td>\n",
       "      <td>-0.219045</td>\n",
       "      <td>0.952416</td>\n",
       "    </tr>\n",
       "  </tbody>\n",
       "</table>\n",
       "</div>"
      ],
      "text/plain": [
       "                                          model_name  accuracy  precision  \\\n",
       "0                                     LGBMClassifier  0.988359   0.994017   \n",
       "1                       StandardScaler-MLPClassifier  0.987412   0.972324   \n",
       "2                         GradientBoostingClassifier  0.985423   0.996757   \n",
       "3                             RandomForestClassifier  0.985271   0.999245   \n",
       "4                               ExtraTreesClassifier  0.984587   0.999299   \n",
       "5  StackingEstimator-StackingEstimator-StackingEs...  0.985255   0.982446   \n",
       "6                             DecisionTreeClassifier  0.984827   0.988603   \n",
       "7                                 LogisticRegression  0.959241   0.596396   \n",
       "\n",
       "     recall        f1  neg_log_loss   roc_auc  \n",
       "0  0.827837  0.903512     -0.045308  0.982908  \n",
       "1  0.828082  0.901095     -0.047627  0.980949  \n",
       "2  0.780977  0.876857     -0.052836  0.980631  \n",
       "3  0.776871  0.873857     -0.084361  0.973064  \n",
       "4  0.766922  0.867720     -0.089022  0.971741  \n",
       "5  0.787989  0.877260     -0.082770  0.962697  \n",
       "6  0.783118  0.872868     -0.076041  0.961619  \n",
       "7  0.815029  0.727060     -0.219045  0.952416  "
      ]
     },
     "execution_count": 9,
     "metadata": {},
     "output_type": "execute_result"
    }
   ],
   "source": [
    "# select the best model\n",
    "\n",
    "best_model_list = mms.list_models()\n",
    "\n",
    "models_df = pd.DataFrame(best_model_list, \n",
    "                         columns=['model_name', 'accuracy', 'precision', 'recall', 'f1', 'neg_log_loss', 'roc_auc'])\n",
    "models_df.sort_values(by='roc_auc', ascending=False, inplace=True)\n",
    "models_df"
   ]
  },
  {
   "cell_type": "code",
   "execution_count": 10,
   "metadata": {},
   "outputs": [],
   "source": [
    "# but ... how are you gonna decide?\n",
    "\n",
    "# 'roc_auc' or 'neg_log_loss' seem good choices\n",
    "# but perhaps the choice should rather be based on some objective business criteria \n",
    "# like NPV, IRR, or some Expected Value of a monetary measure\n",
    "\n",
    "from sklearn.metrics import make_scorer\n",
    "\n",
    "# an example how to implement the func that calculates such EV\n",
    "def biz_specific_scoring_func(expected, predicted):\n",
    "        # here calculate some ExpectedValue(some_biz_metric)\n",
    "        # eg score = E(NPV)\n",
    "        score = 0\n",
    "        return score\n",
    "\n",
    "score = make_scorer(biz_specific_scoring_func, greater_is_better=True)"
   ]
  },
  {
   "cell_type": "code",
   "execution_count": 11,
   "metadata": {},
   "outputs": [
    {
     "data": {
      "text/plain": [
       "LGBMClassifier(boosting_type='gbdt', colsample_bytree=1.0, learning_rate=0.1,\n",
       "        max_bin=255, max_depth=-1, min_child_samples=10,\n",
       "        min_child_weight=5, min_split_gain=0.0, n_estimators=200,\n",
       "        n_jobs=-1, num_leaves=31, objective='binary', random_state=0,\n",
       "        reg_alpha=0.0, reg_lambda=0.0, silent=True, subsample=1.0,\n",
       "        subsample_for_bin=50000, subsample_freq=1)"
      ]
     },
     "execution_count": 11,
     "metadata": {},
     "output_type": "execute_result"
    }
   ],
   "source": [
    "# for now though, let's stick to roc_auc\n",
    "\n",
    "model = mms.get_model(by_best_score='roc_auc')\n",
    "model"
   ]
  },
  {
   "cell_type": "markdown",
   "metadata": {},
   "source": [
    "###### [Next: *4. model evaluation*](Predicting-Loan-Defaults-4-model-evaluation.ipynb)"
   ]
  }
 ],
 "metadata": {
  "kernelspec": {
   "display_name": "Python 3",
   "language": "python",
   "name": "python3"
  },
  "language_info": {
   "codemirror_mode": {
    "name": "ipython",
    "version": 3
   },
   "file_extension": ".py",
   "mimetype": "text/x-python",
   "name": "python",
   "nbconvert_exporter": "python",
   "pygments_lexer": "ipython3",
   "version": "3.6.4"
  }
 },
 "nbformat": 4,
 "nbformat_minor": 2
}
