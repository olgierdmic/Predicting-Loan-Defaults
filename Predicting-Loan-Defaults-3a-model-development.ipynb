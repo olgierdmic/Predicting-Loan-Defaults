{
 "cells": [
  {
   "cell_type": "markdown",
   "metadata": {},
   "source": [
    "### Table of Contents"
   ]
  },
  {
   "cell_type": "markdown",
   "metadata": {},
   "source": [
    "- [Load And Split Data](#Load-And-Split-Data)\n",
    "- [Train Predictive Modes](#Train-Predictive-Modes)\n",
    "    - [Logistic Regression](#Logistic-Regression)\n",
    "    - [Decision Tree Classifier](#Decision-Tree-Classifier)\n",
    "    - [Random Forest](#Random-Forest)\n",
    "    - [Extra Trees](#Extra-Trees)\n",
    "    - [Gradient Boosting Machine](#Gradient-Boosting-Machine)\n",
    "    - [Multi-Layer Perceptron](#Multi-Layer-Perceptron)\n",
    "- [Plot ROC And PRC Curves](#Plot-ROC-And-PRC-Curves)\n",
    "- [Build MMS - Model Scoring Service](#Build-MMS---Model-Scoring-Service)\n",
    "- [Tune Hyperparameters](#Tune-Hyperparameters)\n",
    "    - [Semi-Automatic Search Through Hyperspaces](#Semi-Automatic-Search-Through-Hyperspaces)\n",
    "    - [Validation Curves](#Validation-Curves)"
   ]
  },
  {
   "cell_type": "code",
   "execution_count": 1,
   "metadata": {},
   "outputs": [],
   "source": [
    "# common imports\n",
    "\n",
    "import seaborn as sns\n",
    "\n",
    "from sklearn.preprocessing import StandardScaler\n",
    "from sklearn.pipeline import make_pipeline, Pipeline\n",
    "\n",
    "from sklearn.model_selection import (KFold, StratifiedKFold,\n",
    "                                     train_test_split, \n",
    "                                     GridSearchCV,\n",
    "                                     RandomizedSearchCV,\n",
    "                                     cross_val_score, \n",
    "                                     validation_curve)\n",
    "\n",
    "from sklearn.linear_model import LogisticRegression\n",
    "from sklearn.tree import DecisionTreeClassifier\n",
    "from sklearn.ensemble import RandomForestClassifier, ExtraTreesClassifier, GradientBoostingClassifier\n",
    "from sklearn.neural_network import MLPClassifier\n",
    "\n",
    "from sklearn.metrics import (accuracy_score,\n",
    "                             precision_score, \n",
    "                             recall_score, \n",
    "                             f1_score,\n",
    "                             average_precision_score,\n",
    "                             roc_curve, \n",
    "                             auc, \n",
    "                             roc_auc_score,\n",
    "                             precision_recall_curve,\n",
    "                             jaccard_similarity_score,\n",
    "                             hamming_loss,\n",
    "                             confusion_matrix, \n",
    "                             classification_report)\n"
   ]
  },
  {
   "cell_type": "code",
   "execution_count": 2,
   "metadata": {},
   "outputs": [],
   "source": [
    "# adjust settings to show all cols and rows\n",
    "pd.options.display.max_columns = 80\n",
    "pd.options.display.max_rows = 20"
   ]
  },
  {
   "cell_type": "code",
   "execution_count": 3,
   "metadata": {},
   "outputs": [],
   "source": [
    "# sometimes during execution (especially when searching thru hyperspace) a slew of Warnings erupts\n",
    "# to supress them (if you've gotten tired of them) run this cell\n",
    "import warnings\n",
    "warnings.filterwarnings(\"ignore\")"
   ]
  },
  {
   "cell_type": "markdown",
   "metadata": {},
   "source": [
    "### Load And Split Data"
   ]
  },
  {
   "cell_type": "code",
   "execution_count": 4,
   "metadata": {},
   "outputs": [],
   "source": [
    "from LC_data_prep import load_and_prep_data"
   ]
  },
  {
   "cell_type": "code",
   "execution_count": 5,
   "metadata": {},
   "outputs": [
    {
     "data": {
      "text/plain": [
       "(621167, 38)"
      ]
     },
     "execution_count": 5,
     "metadata": {},
     "output_type": "execute_result"
    }
   ],
   "source": [
    "# load the training data set\n",
    "df = load_and_prep_data()\n",
    "df.shape"
   ]
  },
  {
   "cell_type": "code",
   "execution_count": 6,
   "metadata": {},
   "outputs": [],
   "source": [
    "# set X and y\n",
    "X = df.iloc[:,1:] # predictor variables\n",
    "y = df.iloc[:,0] # response/target variable "
   ]
  },
  {
   "cell_type": "code",
   "execution_count": 7,
   "metadata": {},
   "outputs": [
    {
     "data": {
      "text/plain": [
       "[(465875, 37), (155292, 37), (465875,), (155292,)]"
      ]
     },
     "execution_count": 7,
     "metadata": {},
     "output_type": "execute_result"
    }
   ],
   "source": [
    "X_train, X_test, y_train, y_test = train_test_split(X, y)\n",
    "[_.shape for _ in (X_train, X_test, y_train, y_test)]"
   ]
  },
  {
   "cell_type": "markdown",
   "metadata": {},
   "source": [
    "### Train Predictive Modes"
   ]
  },
  {
   "cell_type": "markdown",
   "metadata": {},
   "source": [
    "#### Logistic Regression"
   ]
  },
  {
   "cell_type": "code",
   "execution_count": 8,
   "metadata": {},
   "outputs": [
    {
     "name": "stdout",
     "output_type": "stream",
     "text": [
      "             precision    recall  f1-score   support\n",
      "\n",
      "          0       0.99      0.96      0.97    145061\n",
      "          1       0.60      0.83      0.70     10231\n",
      "\n",
      "avg / total       0.96      0.95      0.96    155292\n",
      "\n"
     ]
    }
   ],
   "source": [
    "# instantiate logistic regression model\n",
    "lrc = LogisticRegression(class_weight='balanced', # since the data is biased use class_weight='balanced'!\n",
    "                        C=0.1, \n",
    "                        fit_intercept=True, \n",
    "                        intercept_scaling=1, \n",
    "                        max_iter=100,\n",
    "                        penalty='l2',\n",
    "                        solver='liblinear', \n",
    "                        tol=0.0001,\n",
    "                        n_jobs=-1)\n",
    "\n",
    "# fit it to the data\n",
    "lrc.fit(X_train, y_train)\n",
    "\n",
    "# show the classification report\n",
    "predicted = lrc.predict(X_test)\n",
    "expected = y_test\n",
    "print(classification_report(expected, predicted))"
   ]
  },
  {
   "cell_type": "markdown",
   "metadata": {},
   "source": [
    "#### Decision Tree Classifier"
   ]
  },
  {
   "cell_type": "code",
   "execution_count": 9,
   "metadata": {},
   "outputs": [
    {
     "name": "stdout",
     "output_type": "stream",
     "text": [
      "             precision    recall  f1-score   support\n",
      "\n",
      "          0       0.99      1.00      0.99    145061\n",
      "          1       0.99      0.79      0.88     10231\n",
      "\n",
      "avg / total       0.99      0.99      0.98    155292\n",
      "\n"
     ]
    }
   ],
   "source": [
    "# Decision Tree Classifier\n",
    "dtc = DecisionTreeClassifier(criterion=\"entropy\", \n",
    "                             max_depth=10, \n",
    "                             min_samples_leaf=14, \n",
    "                             min_samples_split=15)\n",
    "\n",
    "dtc.fit(X_train, y_train)\n",
    "\n",
    "predicted = dtc.predict(X_test)\n",
    "expected = y_test\n",
    "print(classification_report(expected, predicted))"
   ]
  },
  {
   "cell_type": "markdown",
   "metadata": {},
   "source": [
    "#### Random Forest"
   ]
  },
  {
   "cell_type": "code",
   "execution_count": 10,
   "metadata": {},
   "outputs": [
    {
     "name": "stdout",
     "output_type": "stream",
     "text": [
      "             precision    recall  f1-score   support\n",
      "\n",
      "          0       0.98      1.00      0.99    145061\n",
      "          1       1.00      0.78      0.88     10231\n",
      "\n",
      "avg / total       0.99      0.99      0.98    155292\n",
      "\n"
     ]
    }
   ],
   "source": [
    "# Random Forest\n",
    "rfc = RandomForestClassifier(class_weight='balanced', \n",
    "                             bootstrap=True,\n",
    "                             criterion='gini', \n",
    "                             max_depth=None, \n",
    "                             max_features='auto',\n",
    "                             min_samples_split=2,\n",
    "                             n_estimators=100,\n",
    "                             n_jobs=-1)\n",
    "\n",
    "rfc.fit(X_train, y_train)\n",
    "\n",
    "predicted = rfc.predict(X_test)\n",
    "expected = y_test\n",
    "print(classification_report(expected, predicted))"
   ]
  },
  {
   "cell_type": "markdown",
   "metadata": {},
   "source": [
    "#### Extra Trees"
   ]
  },
  {
   "cell_type": "code",
   "execution_count": 11,
   "metadata": {},
   "outputs": [
    {
     "name": "stdout",
     "output_type": "stream",
     "text": [
      "             precision    recall  f1-score   support\n",
      "\n",
      "          0       0.98      1.00      0.99    145061\n",
      "          1       1.00      0.78      0.87     10231\n",
      "\n",
      "avg / total       0.99      0.99      0.98    155292\n",
      "\n"
     ]
    }
   ],
   "source": [
    "# Extra Trees Classifier\n",
    "etc = ExtraTreesClassifier(class_weight='balanced', \n",
    "                           bootstrap=False, \n",
    "                           criterion='gini', \n",
    "                           max_depth=None, \n",
    "                           max_features='auto',\n",
    "                           max_leaf_nodes=None, \n",
    "                           min_impurity_decrease=0.0,\n",
    "                           min_impurity_split=None, \n",
    "                           min_samples_leaf=1,\n",
    "                           min_samples_split=2, \n",
    "                           min_weight_fraction_leaf=0.0,\n",
    "                           n_estimators=100, \n",
    "                           n_jobs=-1)\n",
    "\n",
    "etc.fit(X_train, y_train)\n",
    "\n",
    "predicted = etc.predict(X_test)\n",
    "expected = y_test\n",
    "print(classification_report(expected, predicted))"
   ]
  },
  {
   "cell_type": "markdown",
   "metadata": {},
   "source": [
    "#### Gradient Boosting Machine"
   ]
  },
  {
   "cell_type": "code",
   "execution_count": 12,
   "metadata": {},
   "outputs": [
    {
     "name": "stdout",
     "output_type": "stream",
     "text": [
      "             precision    recall  f1-score   support\n",
      "\n",
      "          0       0.99      1.00      0.99    145061\n",
      "          1       1.00      0.79      0.88     10231\n",
      "\n",
      "avg / total       0.99      0.99      0.99    155292\n",
      "\n"
     ]
    }
   ],
   "source": [
    "# Gradient Boosting Classifier\n",
    "gbc = GradientBoostingClassifier( # This GBM does not have class_weight='balanced' to balance biased class count\n",
    "                                  criterion='friedman_mse',\n",
    "                                  learning_rate=0.1, \n",
    "                                  loss='exponential', \n",
    "                                  max_depth=5, \n",
    "                                  min_samples_leaf=1, \n",
    "                                  min_samples_split=2,\n",
    "                                  min_weight_fraction_leaf=0.0, \n",
    "                                  n_estimators=200,\n",
    "                                  presort='auto', \n",
    "                                  subsample=1 )\n",
    "\n",
    "gbc.fit(X_train, y_train)\n",
    "\n",
    "predicted = gbc.predict(X_test)\n",
    "expected = y_test\n",
    "print(classification_report(expected, predicted))"
   ]
  },
  {
   "cell_type": "markdown",
   "metadata": {},
   "source": [
    "#### Multi-Layer Perceptron"
   ]
  },
  {
   "cell_type": "code",
   "execution_count": 13,
   "metadata": {},
   "outputs": [
    {
     "name": "stdout",
     "output_type": "stream",
     "text": [
      "             precision    recall  f1-score   support\n",
      "\n",
      "          0       0.99      1.00      0.99    145061\n",
      "          1       0.98      0.85      0.91     10231\n",
      "\n",
      "avg / total       0.99      0.99      0.99    155292\n",
      "\n"
     ]
    }
   ],
   "source": [
    "# Multi-layer Perceptron, ie Neural Net\n",
    "N = df.shape[1]\n",
    "\n",
    "mlp = MLPClassifier( hidden_layer_sizes=(N, N, 1),  # ditto, no class_weight='balanced'\n",
    "                     solver='adam', \n",
    "                     activation='tanh', # activation='relu',\n",
    "                     alpha=1e-05,\n",
    "                     batch_size='auto', \n",
    "                     beta_1=0.9, \n",
    "                     beta_2=0.999, \n",
    "                     learning_rate='adaptive', \n",
    "                     validation_fraction=0.1,\n",
    "                     tol=0.0001,\n",
    "                     early_stopping=True,\n",
    "                     epsilon=1e-08,\n",
    "                     learning_rate_init=0.001, \n",
    "                     max_iter=300, \n",
    "                     momentum=0.9,\n",
    "                     nesterovs_momentum=True, \n",
    "                     power_t=0.5, \n",
    "                     shuffle=True, \n",
    "                    )\n",
    "# MLP is sensitive to feature scaling, so you'd better scale the data\n",
    "ss_mlp = make_pipeline(StandardScaler(), mlp)\n",
    "ss_mlp.fit(X_train, y_train)\n",
    "\n",
    "predicted = ss_mlp.predict(X_test)\n",
    "expected = y_test\n",
    "print(classification_report(expected, predicted))"
   ]
  },
  {
   "cell_type": "code",
   "execution_count": 14,
   "metadata": {},
   "outputs": [],
   "source": [
    "# hold onto the models\n",
    "models_list = [lrc, dtc, rfc, etc, gbc, ss_mlp]"
   ]
  },
  {
   "cell_type": "markdown",
   "metadata": {},
   "source": [
    "### Plot ROC And PRC Curves"
   ]
  },
  {
   "cell_type": "markdown",
   "metadata": {},
   "source": [
    "Let's create a module where we'll define some utility functions that can be used in this and later notebooks."
   ]
  },
  {
   "cell_type": "code",
   "execution_count": 15,
   "metadata": {},
   "outputs": [
    {
     "name": "stdout",
     "output_type": "stream",
     "text": [
      "Overwriting LC_MMS.py\n"
     ]
    }
   ],
   "source": [
    "%%writefile LC_MMS.py\n",
    "    \n",
    "#\n",
    "# LC_MMS module defines:\n",
    "# - the MMS class, ie Model Scoring Service to keep track of the pre-trained models\n",
    "# - the plot_ROC() and plot_PRC() for plotting\n",
    "#\n",
    "     \n",
    "import os\n",
    "from operator import itemgetter\n",
    "\n",
    "# cloudpickle supports pickling for lambda expressions, functions and classes \n",
    "# defined interactively in the __main__ module\n",
    "try:\n",
    "    import cloudpickle as pickle\n",
    "except ImportError:\n",
    "    import pickle\n",
    "\n",
    "import matplotlib.pyplot as plt\n",
    "\n",
    "from sklearn.preprocessing import StandardScaler\n",
    "from sklearn.pipeline import make_pipeline, Pipeline\n",
    "\n",
    "from sklearn.model_selection import (KFold, StratifiedKFold,\n",
    "                                     train_test_split, \n",
    "                                     GridSearchCV,\n",
    "                                     RandomizedSearchCV,\n",
    "                                     cross_val_score, \n",
    "                                     validation_curve)\n",
    "\n",
    "from sklearn.metrics import (accuracy_score,\n",
    "                             precision_score, \n",
    "                             recall_score, \n",
    "                             f1_score,\n",
    "                             average_precision_score,\n",
    "                             roc_curve, \n",
    "                             auc, \n",
    "                             roc_auc_score,\n",
    "                             precision_recall_curve,\n",
    "                             jaccard_similarity_score,\n",
    "                             hamming_loss,\n",
    "                             confusion_matrix, \n",
    "                             classification_report)\n",
    "\n",
    "from sklearn.linear_model import LogisticRegression\n",
    "from sklearn.ensemble import GradientBoostingClassifier\n",
    "from sklearn.neural_network import MLPClassifier\n",
    "    "
   ]
  },
  {
   "cell_type": "code",
   "execution_count": 16,
   "metadata": {},
   "outputs": [
    {
     "name": "stdout",
     "output_type": "stream",
     "text": [
      "Appending to LC_MMS.py\n"
     ]
    }
   ],
   "source": [
    "%%writefile -a LC_MMS.py\n",
    "    \n",
    "#\n",
    "# define the func to plot ROC curves\n",
    "#\n",
    "def plot_ROCs(clfs, X, y, use_predict_proba=True, ax=None):\n",
    "    \"\"\"\n",
    "    Plot ROC Curves for the passed classifiers.\n",
    "    \n",
    "    Parameters\n",
    "    -----------\n",
    "    clfs : iterator of classifiers\n",
    "    X    : predictor variables\n",
    "    y    : response variable\n",
    "    use_decision_function : either decision_function() or predict_proba()\n",
    "    \n",
    "    Returns\n",
    "    --------\n",
    "    pyplot axes\n",
    "    \"\"\"\n",
    "    \n",
    "    if ax is None:\n",
    "        fig = plt.figure()\n",
    "        ax = fig.add_subplot(111)\n",
    "        \n",
    "    ax.set_xlim([-.02, 1.02])\n",
    "    ax.set_ylim([-.02, 1.02])\n",
    "    ax.set_xlabel('False Positive Rate')\n",
    "    ax.set_ylabel('True Positive Rate')\n",
    "    ax.plot([0, 1], [0, 1], 'k--', alpha=.5, lw=2, label=\"Random Chance\")\n",
    "    \n",
    "    # shuffle and split training and test sets\n",
    "    X_train, X_test, y_train, y_test = train_test_split(X, y)\n",
    "\n",
    "    \n",
    "    for clf in clfs:   \n",
    "        \n",
    "        # compute scores\n",
    "        clf.fit(X_train, y_train)\n",
    "        \n",
    "        if use_predict_proba:\n",
    "            y_score = clf.predict_proba(X_test)[:,1]\n",
    "        else:\n",
    "            y_score = clf.decision_function(X_test)\n",
    "            \n",
    "        # compute ROC curve and AUC\n",
    "        fpr, tpr, _ = roc_curve(y_test, y_score)\n",
    "        roc_auc = auc(fpr, tpr)\n",
    "        \n",
    "        # extract the clf's name\n",
    "        clf_name = clf.__class__.__name__\n",
    "        if isinstance( clf, Pipeline):\n",
    "            clf_name = clf.steps[-1][1].__class__.__name__\n",
    "            \n",
    "        # plot ROC curves\n",
    "        ax.plot(fpr, tpr, ls=':', lw=3, label= '{clf} (AUC = {roc_auc:0.2f})'.format(clf=clf_name, roc_auc=roc_auc),)\n",
    "\n",
    "        \n",
    "    ax.legend(loc=\"lower right\", framealpha=.5)\n",
    "    ax.set_title('ROC Curves')\n",
    "    \n",
    "    return ax\n",
    "    "
   ]
  },
  {
   "cell_type": "code",
   "execution_count": 17,
   "metadata": {},
   "outputs": [
    {
     "name": "stdout",
     "output_type": "stream",
     "text": [
      "Appending to LC_MMS.py\n"
     ]
    }
   ],
   "source": [
    "%%writefile -a LC_MMS.py\n",
    "    \n",
    "#\n",
    "# define func to plot PRC \n",
    "#\n",
    "def plot_PRCs(clfs, X, y, use_predict_proba=True, ax=None):\n",
    "    \"\"\"\n",
    "    Plot PR Curves for the passed classifiers.\n",
    "    \n",
    "    Parameters\n",
    "    -----------\n",
    "    clfs : iterator of classifiers\n",
    "    X    : predictor variables\n",
    "    y    : response variable\n",
    "    predict_proba : whether to use predict_proba or decision_function\n",
    "    \n",
    "    Returns\n",
    "    --------\n",
    "    pyplot axes\n",
    "    \"\"\"\n",
    "    \n",
    "    if ax is None:\n",
    "        fig = plt.figure()\n",
    "        ax = fig.add_subplot(111)    \n",
    "\n",
    "    ax.set_xlim([-.02, 1.02])\n",
    "    ax.set_ylim([-.02, 1.02])\n",
    "    ax.set_xlabel('Recall')\n",
    "    ax.set_ylabel('Precision')\n",
    "    \n",
    "    # shuffle and split training and test sets\n",
    "    X_train, X_test, y_train, y_test = train_test_split(X, y)\n",
    "    \n",
    "    p, n = y_test.value_counts().sort_index(ascending=False)\n",
    "    baseline = p/(p+n)\n",
    "    ax.plot([0, 1], [baseline, baseline], 'k--', alpha=.5, lw=2, label=\"Random Chance\")\n",
    "\n",
    "    \n",
    "    for clf in clfs:\n",
    "        \n",
    "        # compute scores\n",
    "        clf.fit(X_train, y_train)\n",
    "        \n",
    "        if use_predict_proba:\n",
    "            y_score = clf.predict_proba(X_test)[:,1]\n",
    "        else:\n",
    "            y_score = clf.decision_function(X_test)\n",
    "            \n",
    "        # compute P, R and precision\n",
    "        precision, recall, thresholds = precision_recall_curve(y_test, y_score)\n",
    "        average_precision = average_precision_score(y_test, y_score)\n",
    "        \n",
    "        # extract the clf's name\n",
    "        clf_name = clf.__class__.__name__\n",
    "        if isinstance( clf, Pipeline):\n",
    "            clf_name = clf.steps[-1][1].__class__.__name__\n",
    "            \n",
    "        # plot PRC\n",
    "        ax.plot(recall, precision, ls=':', lw=3, label='{clf} (AP = {ap:0.2f})'.format(clf=clf_name, ap=average_precision))\n",
    "\n",
    "    ax.legend(loc='center left', framealpha=.5)\n",
    "    ax.set_title('PR Curves')\n",
    "    \n",
    "    return ax\n"
   ]
  },
  {
   "cell_type": "raw",
   "metadata": {},
   "source": [
    "# MLPClassifier does not have decision_function() implemented\n",
    "# The decision_function() is needed for roc_curve() and precision_recall_curve() to plot the curves\n",
    "# On way to overcome this is to subclass MLPClassifier and implement the decision_function()\n",
    "# the following is quick-n-dirty hack \n",
    "\n",
    "class MLPClassifierWithDFunc(MLPClassifier):\n",
    "    \n",
    "    def decision_function(self, X):\n",
    "        probas = self.predict_proba(X)[:,1]\n",
    "        return probas\n",
    "    \n",
    "    \n",
    "dnnWithDF = MLPClassifierWithDFunc(  hidden_layer_sizes=(df.shape[1], 30, 2), \n",
    "                                     solver='adam', \n",
    "                                     learning_rate='adaptive', \n",
    "                                     early_stopping=True,\n",
    "                                   )\n",
    "ss_dnn = make_pipeline(StandardScaler(), dnnWithDF)    \n",
    "\n",
    "# Alas, decision_function() returns confidence scores whereas predict_proba() proba estimates\n",
    "# and these two are different! \n",
    "# So for now we'll use predict_proba() for all"
   ]
  },
  {
   "cell_type": "code",
   "execution_count": 18,
   "metadata": {},
   "outputs": [],
   "source": [
    "from LC_MMS import plot_ROCs, plot_PRCs"
   ]
  },
  {
   "cell_type": "code",
   "execution_count": 19,
   "metadata": {},
   "outputs": [
    {
     "data": {
      "image/png": "[encoded data removed]",
      "text/plain": [
       "<Figure size 1080x360 with 2 Axes>"
      ]
     },
     "metadata": {},
     "output_type": "display_data"
    }
   ],
   "source": [
    "# since MLPClassifier does not have decision_function() implemented\n",
    "# then let's use predict_probas() when plotting ROC and PRC\n",
    "\n",
    "fig, (ax1, ax2) = plt.subplots(1,2, figsize=(15,5))\n",
    "\n",
    "plot_ROCs(models_list, X_test, y_test, use_predict_proba=True, ax=ax1)\n",
    "plot_PRCs(models_list, X_test, y_test, use_predict_proba=True, ax=ax2);"
   ]
  },
  {
   "cell_type": "markdown",
   "metadata": {},
   "source": [
    "### Build MMS - Model Scoring Service"
   ]
  },
  {
   "cell_type": "markdown",
   "metadata": {},
   "source": [
    "Before we tune the models' hyperparameters, let's create MMS (Model Management Service).\n",
    "The service will manage the pre-trained and readily available predictive models.\n",
    "\n",
    "The intitial ideas for the MMS's interface are:\n",
    "- score_model('model_name', est, X, y)\n",
    "- list_models()\n",
    "- save_models()\n",
    "- load_models()\n",
    "- get_model('model_name')"
   ]
  },
  {
   "cell_type": "code",
   "execution_count": 20,
   "metadata": {},
   "outputs": [
    {
     "name": "stdout",
     "output_type": "stream",
     "text": [
      "Appending to LC_MMS.py\n"
     ]
    }
   ],
   "source": [
    "%%writefile -a LC_MMS.py\n",
    "    \n",
    "    \n",
    "#\n",
    "# define MMS Model Management Service\n",
    "#\n",
    "class MMS:\n",
    "    \"\"\"\n",
    "    Model Management Service\n",
    "    - scores the model classifiers\n",
    "    - keeps track of the scored and ready-to-use models\n",
    "    - pickles and unpickles them\n",
    "    - loads models based on a best score\n",
    "    \"\"\"\n",
    "    \n",
    "    # available scoring criteria\n",
    "    scoring_criteria_list = ['accuracy', 'precision', 'recall', 'f1', 'neg_log_loss', 'roc_auc']\n",
    "\n",
    "    \n",
    "    def __init__(self,file_name=\"LC_MMS_predictive_models.pkl\"):\n",
    "        \n",
    "        self.LC_predictive_models_file_name = file_name\n",
    "        \n",
    "        self._model_list = [] # this keeps all the predictive models\n",
    "        \n",
    "        if os.path.isfile(self.LC_predictive_models_file_name):\n",
    "            self.load_models()\n",
    "        \n",
    "        return\n",
    "    \n",
    "    \n",
    "    def score_model(self, model, X, y, fit_and_add=True): \n",
    "        \"\"\"\n",
    "        Score the estimator on a number of scoring criteria, \n",
    "        then fit the best one and hold onto it in the intenal _model_list.\n",
    "        \n",
    "        Parameters\n",
    "        -----------\n",
    "        model : the classifier to be scored (can be a pipeline)\n",
    "        X : the predictive variables\n",
    "        y : the response variable\n",
    "        \"\"\"\n",
    "        \n",
    "        model_name = \"\"\n",
    "        if isinstance(model, Pipeline):\n",
    "            \n",
    "            # !! these imports are only needed here; so remove them when keras.save_model() is implemented\n",
    "            # KerasClassifier run in a pipeline (with scaler)\n",
    "            import keras\n",
    "            from keras.wrappers.scikit_learn import KerasClassifier\n",
    "            if isinstance(model.steps[-1][1].__class__, KerasClassifier):                \n",
    "                    raise  NotImplementedError(\"score_model()/save() not implemented for Keras/Tensorflow\")\n",
    "            \n",
    "            \n",
    "            for step in model.steps:\n",
    "                model_name += \"-\" + step[1].__class__.__name__\n",
    "                model \n",
    "            model_name = model_name.lstrip('-')    \n",
    "\n",
    "        else:\n",
    "            model_name = model.__class__.__name__\n",
    "            \n",
    "\n",
    "        print('Scoring model', model_name,'by %s' % (self.scoring_criteria_list))\n",
    "        scores = []\n",
    "        \n",
    "        for score_name in self.scoring_criteria_list:\n",
    "            \n",
    "            results = cross_val_score(model, X, y, cv=StratifiedKFold(n_splits=3, shuffle=True), scoring=score_name)\n",
    "            score_mean, score_std = results.mean(), results.std()\n",
    "            \n",
    "            print( (\"{score_name}: {score_mean:.3f} (std: {score_std:.3f})\"\n",
    "                    .format(score_name=score_name,score_mean=score_mean, score_std=score_std) ) )\n",
    "            scores.append(score_mean)\n",
    "            \n",
    "        if fit_and_add:\n",
    "            print(\"Fitting the model\")\n",
    "            # this is necessary as cross_val_score does not leave the model pretrained\n",
    "            model.fit(X,y) \n",
    "            # _model_list keeps the list of model-binaries, model-name, and scores\n",
    "            self._model_list.append( [model, model_name] + scores )\n",
    "            \n",
    "        \n",
    "        return scores\n",
    "        \n",
    "        \n",
    "    def save_models(self):\n",
    "        \"\"\"\n",
    "        Save all the models kept in memory\n",
    "        \"\"\"\n",
    "        \n",
    "        # if the file already exists back it up\n",
    "        if os.path.isfile(self.LC_predictive_models_file_name):\n",
    "            os.rename(self.LC_predictive_models_file_name, self.LC_predictive_models_file_name+'-bkp')\n",
    "\n",
    "        with open(self.LC_predictive_models_file_name , \"wb\" ) as fh:\n",
    "            pickle.dump(self._model_list, fh )   \n",
    "            \n",
    "        print('\"%s\" dumped.' % (self.LC_predictive_models_file_name))\n",
    "            \n",
    "        return\n",
    "    \n",
    "    \n",
    "    def load_models(self):\n",
    "        \"\"\"\n",
    "        Loads all the models kept on disk\n",
    "        \"\"\"\n",
    "\n",
    "        with open(self.LC_predictive_models_file_name, \"rb\" ) as fh:\n",
    "            self._model_list = pickle.load(fh)\n",
    "            \n",
    "        # print('\"%s\" loaded.' % (self.LC_predictive_models_file_name))\n",
    "        \n",
    "        return\n",
    "    \n",
    "    \n",
    "    def list_models(self, by_best_score='roc_auc', model_bins_too=False):\n",
    "        \"\"\"\n",
    "        Lists all the models kept in memory\n",
    "        \n",
    "        Parameters\n",
    "        ----------\n",
    "        by_best_score : one of ...\n",
    "        \n",
    "        Returns\n",
    "        -------\n",
    "        [list] : list of sorted models\n",
    "        \"\"\"\n",
    "    \n",
    "        if self._model_list is None:\n",
    "            self.load_models()\n",
    "        \n",
    "        if by_best_score:\n",
    "            assert by_best_score in self.scoring_criteria_list, \"by_best_score='%s' not one of %s\" % (by_best_score, self.scoring_criteria_list)\n",
    "            idx = 2 + self.scoring_criteria_list.index(by_best_score) # skip  1st model binary and 2nd model name\n",
    "            sorted_model_list = sorted(self._model_list, key=itemgetter(idx), reverse=True)\n",
    "        else:\n",
    "            sorted_model_list = sorted(self._model_list, key=itemgetter(1)) # sort by name\n",
    "            \n",
    "        if not model_bins_too:\n",
    "            # discard the model binary from the list\n",
    "            sorted_model_list = [ rest for bin, *rest in sorted_model_list]\n",
    "            \n",
    "        return sorted_model_list\n",
    "\n",
    "    \n",
    "    \n",
    "    def get_model(self, model_name=None, by_best_score='roc_auc'):\n",
    "        \"\"\"\n",
    "        Loads the best model based on the name or a best score\n",
    "        \n",
    "        Parameters\n",
    "        ----------\n",
    "        model_name :\n",
    "        by_best_score : \n",
    "        \n",
    "        Returns\n",
    "        -------\n",
    "        model : the model\n",
    "        \"\"\"        \n",
    "        \n",
    "        if model_name:\n",
    "            model_bin = [model_bin for model_bin, name, *rest in self._model_list if name == model_name][0]\n",
    "            return model_bin\n",
    "        \n",
    "        # else return the best model based on by_best_score criterium\n",
    "        assert by_best_score in self.scoring_criteria_list, \"by_best_score='%s' not one of %s\" % (by_best_score, self.scoring_criteria_list)\n",
    "        model_row = self.list_models(by_best_score=by_best_score, model_bins_too=True)[0] # get the top one from the list\n",
    "        model_bin = model_row[0] # model binary is the first\n",
    "        \n",
    "        return model_bin\n",
    "    \n",
    "    \n",
    "    def del_model(self, model_name):\n",
    "        \"\"\"\n",
    "        Delets a model from the internal _model_list\n",
    "        \n",
    "        Parameters\n",
    "        ----------\n",
    "        model_name : the model to delete\n",
    "        \n",
    "        Returns\n",
    "        -------\n",
    "        the popped model\n",
    "        \"\"\"\n",
    "        idx = [i for i, row in enumerate(self._model_list) if row[1] == model_name][0]\n",
    "        model = self._model_list.pop(idx)\n",
    "        \n",
    "        return model\n",
    "    \n",
    "\n",
    "    \n",
    "### THE END of LC_MMS ###"
   ]
  },
  {
   "cell_type": "code",
   "execution_count": 21,
   "metadata": {},
   "outputs": [],
   "source": [
    "# reload needed as LC_MMS was imported earlier\n",
    "from importlib import reload\n",
    "import LC_MMS\n",
    "reload(LC_MMS)\n",
    "from LC_MMS import MMS\n",
    "\n",
    "mms = MMS()"
   ]
  },
  {
   "cell_type": "code",
   "execution_count": 22,
   "metadata": {
    "scrolled": false
   },
   "outputs": [
    {
     "name": "stdout",
     "output_type": "stream",
     "text": [
      "Updating MMS with LogisticRegression(C=0.1, class_weight='balanced', dual=False,\n",
      "          fit_intercept=True, intercept_scaling=1, max_iter=100,\n",
      "          multi_class='ovr', n_jobs=-1, penalty='l2', random_state=None,\n",
      "          solver='liblinear', tol=0.0001, verbose=0, warm_start=False)\n",
      "\n",
      "Scoring model LogisticRegression by ['accuracy', 'precision', 'recall', 'f1', 'neg_log_loss', 'roc_auc']\n",
      "accuracy: 0.959 (std: 0.001)\n",
      "precision: 0.596 (std: 0.027)\n",
      "recall: 0.815 (std: 0.014)\n",
      "f1: 0.727 (std: 0.011)\n",
      "neg_log_loss: -0.219 (std: 0.009)\n",
      "roc_auc: 0.952 (std: 0.002)\n",
      "Fitting the model\n",
      "\n",
      "Updating MMS with DecisionTreeClassifier(class_weight=None, criterion='entropy', max_depth=10,\n",
      "            max_features=None, max_leaf_nodes=None,\n",
      "            min_impurity_decrease=0.0, min_impurity_split=None,\n",
      "            min_samples_leaf=14, min_samples_split=15,\n",
      "            min_weight_fraction_leaf=0.0, presort=False, random_state=None,\n",
      "            splitter='best')\n",
      "\n",
      "Scoring model DecisionTreeClassifier by ['accuracy', 'precision', 'recall', 'f1', 'neg_log_loss', 'roc_auc']\n",
      "accuracy: 0.985 (std: 0.000)\n",
      "precision: 0.991 (std: 0.003)\n",
      "recall: 0.781 (std: 0.001)\n",
      "f1: 0.873 (std: 0.000)\n",
      "neg_log_loss: -0.074 (std: 0.001)\n",
      "roc_auc: 0.962 (std: 0.001)\n",
      "Fitting the model\n",
      "\n",
      "Updating MMS with RandomForestClassifier(bootstrap=True, class_weight='balanced',\n",
      "            criterion='gini', max_depth=None, max_features='auto',\n",
      "            max_leaf_nodes=None, min_impurity_decrease=0.0,\n",
      "            min_impurity_split=None, min_samples_leaf=1,\n",
      "            min_samples_split=2, min_weight_fraction_leaf=0.0,\n",
      "            n_estimators=100, n_jobs=-1, oob_score=False,\n",
      "            random_state=None, verbose=0, warm_start=False)\n",
      "\n",
      "Scoring model RandomForestClassifier by ['accuracy', 'precision', 'recall', 'f1', 'neg_log_loss', 'roc_auc']\n",
      "accuracy: 0.985 (std: 0.000)\n",
      "precision: 0.999 (std: 0.000)\n",
      "recall: 0.777 (std: 0.001)\n",
      "f1: 0.874 (std: 0.001)\n",
      "neg_log_loss: -0.084 (std: 0.002)\n",
      "roc_auc: 0.973 (std: 0.001)\n",
      "Fitting the model\n",
      "\n",
      "Updating MMS with ExtraTreesClassifier(bootstrap=False, class_weight='balanced',\n",
      "           criterion='gini', max_depth=None, max_features='auto',\n",
      "           max_leaf_nodes=None, min_impurity_decrease=0.0,\n",
      "           min_impurity_split=None, min_samples_leaf=1,\n",
      "           min_samples_split=2, min_weight_fraction_leaf=0.0,\n",
      "           n_estimators=100, n_jobs=-1, oob_score=False, random_state=None,\n",
      "           verbose=0, warm_start=False)\n",
      "\n",
      "Scoring model ExtraTreesClassifier by ['accuracy', 'precision', 'recall', 'f1', 'neg_log_loss', 'roc_auc']\n",
      "accuracy: 0.985 (std: 0.000)\n",
      "precision: 0.999 (std: 0.000)\n",
      "recall: 0.767 (std: 0.001)\n",
      "f1: 0.868 (std: 0.001)\n",
      "neg_log_loss: -0.089 (std: 0.002)\n",
      "roc_auc: 0.972 (std: 0.000)\n",
      "Fitting the model\n",
      "\n",
      "Updating MMS with GradientBoostingClassifier(criterion='friedman_mse', init=None,\n",
      "              learning_rate=0.1, loss='exponential', max_depth=5,\n",
      "              max_features=None, max_leaf_nodes=None,\n",
      "              min_impurity_decrease=0.0, min_impurity_split=None,\n",
      "              min_samples_leaf=1, min_samples_split=2,\n",
      "              min_weight_fraction_leaf=0.0, n_estimators=200,\n",
      "              presort='auto', random_state=None, subsample=1, verbose=0,\n",
      "              warm_start=False)\n",
      "\n",
      "Scoring model GradientBoostingClassifier by ['accuracy', 'precision', 'recall', 'f1', 'neg_log_loss', 'roc_auc']\n",
      "accuracy: 0.985 (std: 0.000)\n",
      "precision: 0.997 (std: 0.000)\n",
      "recall: 0.781 (std: 0.001)\n",
      "f1: 0.877 (std: 0.003)\n",
      "neg_log_loss: -0.053 (std: 0.001)\n",
      "roc_auc: 0.981 (std: 0.000)\n",
      "Fitting the model\n",
      "\n",
      "Updating MMS with Pipeline(memory=None,\n",
      "     steps=[('standardscaler', StandardScaler(copy=True, with_mean=True, with_std=True)), ('mlpclassifier', MLPClassifier(activation='tanh', alpha=1e-05, batch_size='auto', beta_1=0.9,\n",
      "       beta_2=0.999, early_stopping=True, epsilon=1e-08,\n",
      "       hidden_layer_sizes=(38, 38, 1), learning_rate='adaptive'...=True, solver='adam', tol=0.0001, validation_fraction=0.1,\n",
      "       verbose=False, warm_start=False))])\n",
      "\n"
     ]
    },
    {
     "name": "stderr",
     "output_type": "stream",
     "text": [
      "Using TensorFlow backend.\n"
     ]
    },
    {
     "name": "stdout",
     "output_type": "stream",
     "text": [
      "Scoring model StandardScaler-MLPClassifier by ['accuracy', 'precision', 'recall', 'f1', 'neg_log_loss', 'roc_auc']\n",
      "accuracy: 0.987 (std: 0.000)\n",
      "precision: 0.972 (std: 0.007)\n",
      "recall: 0.828 (std: 0.005)\n",
      "f1: 0.901 (std: 0.002)\n",
      "neg_log_loss: -0.048 (std: 0.001)\n",
      "roc_auc: 0.981 (std: 0.001)\n",
      "Fitting the model\n",
      "\n",
      "\"LC_MMS_predictive_models.pkl\" dumped.\n"
     ]
    }
   ],
   "source": [
    "# evaluate these models with optimized hyperparameters and add them to the MMS service\n",
    "for model in models_list:\n",
    "    print('Updating MMS with', model)\n",
    "    print()\n",
    "    mms.score_model(model,X,y)\n",
    "    print()"
   ]
  },
  {
   "cell_type": "code",
   "execution_count": null,
   "metadata": {},
   "outputs": [],
   "source": [
    "mms.save_models()"
   ]
  },
  {
   "cell_type": "markdown",
   "metadata": {},
   "source": [
    "### Tune Hyperparameters"
   ]
  },
  {
   "cell_type": "markdown",
   "metadata": {},
   "source": [
    "#### Semi-Automatic Search Through Hyperspaces"
   ]
  },
  {
   "cell_type": "markdown",
   "metadata": {},
   "source": [
    "Let's automate the search for the best hyperparams so that we can do it for multiple algos in one fell swoop"
   ]
  },
  {
   "cell_type": "code",
   "execution_count": 26,
   "metadata": {},
   "outputs": [],
   "source": [
    "# define helper func to run either GridSearchCV or RandomizedSearchCV \n",
    "# depending on the number of hyper-parameters passed\n",
    "\n",
    "def search_best_hyperparams (est, hyper_params, X, y, scoring='neg_log_loss', n_iter=10):\n",
    "    \"\"\"\n",
    "    Searche the hyperparam space for the best params using either GridSearchCV or RandomizedSearchCV.\n",
    "    \n",
    "    Parameters\n",
    "    ----------\n",
    "    est : estimator\n",
    "    hyper_params : dict of hyper-params for the estimator\n",
    "    X   : predictor variables\n",
    "    y   : response variable\n",
    "    n_iter : number of iterations\n",
    "    scoring : loss or gain func used for scoring\n",
    "    \n",
    "    Returns\n",
    "    -------\n",
    "    est : the estimator with best hyperparams\n",
    "    \"\"\"\n",
    "    \n",
    "    from operator import mul\n",
    "    from functools import reduce\n",
    "    num_params2check = reduce(mul, [len(hyper_params[_]) for _ in hyper_params.keys()], 1)\n",
    "\n",
    "    if num_params2check < n_iter: # depending on the number of hyperparams to check\n",
    "        # run Hyperparameter Grid Search\n",
    "        est_hp = GridSearchCV(est, hyper_params, scoring=scoring, n_jobs=-1)\n",
    "    else:\n",
    "        # or run Random Hyperparameter Grid Search\n",
    "        est_hp = RandomizedSearchCV(est, hyper_params, n_iter=n_iter, scoring=scoring, n_jobs=-1)\n",
    "\n",
    "    est_hp.fit(X, y)\n",
    "    \n",
    "    # print out the info for the best est\n",
    "    print(\"\\nBest Score: %.3f\" % est_hp.best_score_ )\n",
    "    print(\"\\nBest Hyper-Params: %s\" % est_hp.best_params_ )   \n",
    "    print(\"\\nBest Estimator: %s\" % est_hp.best_estimator_ ) \n",
    "\n",
    "    est = est_hp.best_estimator_\n",
    "    \n",
    "    return est\n"
   ]
  },
  {
   "cell_type": "code",
   "execution_count": 27,
   "metadata": {},
   "outputs": [],
   "source": [
    "# hyperspaces_to_search holds the estimators, together with their hyperparam spaces\n",
    "\n",
    "N = df.shape[1] # this is num of features from df which is passed as parameter to build a neural net \n",
    "\n",
    "hyperspaces_to_search = {\n",
    "    \n",
    "    'LogisticRegression': {\n",
    "        'class_weight':['balanced'],\n",
    "        'solver':['sag','saga'], # 'sag' can do only 'l2'\n",
    "        'penalty':['l2'], # 'l1'\n",
    "        'tol': np.logspace(-4,-3,2),\n",
    "        'C': np.logspace(-1,1,3),\n",
    "        'max_iter': [100,200,300],  \n",
    "        'n_jobs':[-1],\n",
    "    },\n",
    "    \n",
    "    'DecisionTreeClassifier': {\n",
    "        'max_depth': [None,3,5],\n",
    "        'min_samples_split': [2,5,8],\n",
    "        'min_samples_leaf': [1,2,3],\n",
    "        'max_features': [None,\"sqrt\",\"log2\"],\n",
    "    },\n",
    "    \n",
    "    'RandomForestClassifier': {\n",
    "        'n_estimators': [10,30,50],\n",
    "        'max_features': [None,\"sqrt\",\"log2\"],\n",
    "        'max_depth': [None,3,5],\n",
    "        'min_samples_leaf': [1,2,3],\n",
    "        'n_jobs': [-1],\n",
    "    },\n",
    "    \n",
    "    'ExtraTreesClassifier': {\n",
    "        'n_estimators': [10,30,50],\n",
    "        'max_features': [None,\"sqrt\",\"log2\"],\n",
    "        'max_depth': [None,3,5],\n",
    "        'min_samples_leaf': [1,2,3],\n",
    "        'n_jobs': [-1],\n",
    "    },\n",
    "    \n",
    "    'GradientBoostingClassifier': {\n",
    "        'loss': ['deviance','exponential'],\n",
    "        'learning_rate': [0.05,0.1],\n",
    "        'n_estimators': [100,200,300],\n",
    "        'max_depth': [3,5],\n",
    "        'max_features': [None,'sqrt'],            \n",
    "        'subsample': [1,.8,.5],\n",
    "    },\n",
    "    \n",
    "    'MLPClassifier': {\n",
    "        'hidden_layer_sizes': [(N,N,1),(N,N,int(N/2),1)],\n",
    "        'activation': ['tanh','relu'], \n",
    "        'solver': ['adam','sgd'], \n",
    "        'alpha': np.logspace(-5,-3,3), \n",
    "        'learning_rate': ['invscaling','adaptive'], \n",
    "        'max_iter': [100,300,500],\n",
    "        'tol': [0.0001,0.001], \n",
    "        'early_stopping': [True], \n",
    "    },\n",
    "    \n",
    "}"
   ]
  },
  {
   "cell_type": "raw",
   "metadata": {},
   "source": [
    "# you can also try these\n",
    "\n",
    "    'SGDClassifier' : {  \n",
    "    },\n",
    "    \n",
    "    'SVC' : {    \n",
    "    },    \n",
    "    \n",
    "    'ElasticNet' : {\n",
    "    },    \n",
    "    \n",
    "    'QuadraticDiscriminantAnalysis' : {\n",
    "    },\n",
    "    \n",
    "    'GaussianProcessClassifier' : {\n",
    "    },\n",
    "    \n",
    "    'GaussianNB' : {\n",
    "    },    "
   ]
  },
  {
   "cell_type": "code",
   "execution_count": 28,
   "metadata": {
    "scrolled": false
   },
   "outputs": [
    {
     "name": "stdout",
     "output_type": "stream",
     "text": [
      "Searching hyperspace for: LogisticRegression\n",
      "\n",
      "Best Score: 0.905\n",
      "\n",
      "Best Hyper-Params: {'tol': 0.0001, 'solver': 'saga', 'penalty': 'l2', 'n_jobs': -1, 'max_iter': 300, 'class_weight': 'balanced', 'C': 10.0}\n",
      "\n",
      "Best Estimator: LogisticRegression(C=10.0, class_weight='balanced', dual=False,\n",
      "          fit_intercept=True, intercept_scaling=1, max_iter=300,\n",
      "          multi_class='ovr', n_jobs=-1, penalty='l2', random_state=None,\n",
      "          solver='saga', tol=0.0001, verbose=0, warm_start=False)\n",
      "\n",
      "Searching hyperspace for: DecisionTreeClassifier\n",
      "\n",
      "Best Score: 0.827\n",
      "\n",
      "Best Hyper-Params: {'min_samples_split': 5, 'min_samples_leaf': 3, 'max_features': 'sqrt', 'max_depth': 3}\n",
      "\n",
      "Best Estimator: DecisionTreeClassifier(class_weight=None, criterion='gini', max_depth=3,\n",
      "            max_features='sqrt', max_leaf_nodes=None,\n",
      "            min_impurity_decrease=0.0, min_impurity_split=None,\n",
      "            min_samples_leaf=3, min_samples_split=5,\n",
      "            min_weight_fraction_leaf=0.0, presort=False, random_state=None,\n",
      "            splitter='best')\n",
      "\n",
      "Searching hyperspace for: RandomForestClassifier\n",
      "\n",
      "Best Score: 0.902\n",
      "\n",
      "Best Hyper-Params: {'n_jobs': -1, 'n_estimators': 30, 'min_samples_leaf': 3, 'max_features': 'log2', 'max_depth': 3}\n",
      "\n",
      "Best Estimator: RandomForestClassifier(bootstrap=True, class_weight=None, criterion='gini',\n",
      "            max_depth=3, max_features='log2', max_leaf_nodes=None,\n",
      "            min_impurity_decrease=0.0, min_impurity_split=None,\n",
      "            min_samples_leaf=3, min_samples_split=2,\n",
      "            min_weight_fraction_leaf=0.0, n_estimators=30, n_jobs=-1,\n",
      "            oob_score=False, random_state=None, verbose=0,\n",
      "            warm_start=False)\n",
      "\n",
      "Searching hyperspace for: ExtraTreesClassifier\n",
      "\n",
      "Best Score: 0.961\n",
      "\n",
      "Best Hyper-Params: {'n_jobs': -1, 'n_estimators': 30, 'min_samples_leaf': 1, 'max_features': 'log2', 'max_depth': None}\n",
      "\n",
      "Best Estimator: ExtraTreesClassifier(bootstrap=False, class_weight=None, criterion='gini',\n",
      "           max_depth=None, max_features='log2', max_leaf_nodes=None,\n",
      "           min_impurity_decrease=0.0, min_impurity_split=None,\n",
      "           min_samples_leaf=1, min_samples_split=2,\n",
      "           min_weight_fraction_leaf=0.0, n_estimators=30, n_jobs=-1,\n",
      "           oob_score=False, random_state=None, verbose=0, warm_start=False)\n",
      "\n",
      "Searching hyperspace for: GradientBoostingClassifier\n",
      "\n",
      "Best Score: 0.972\n",
      "\n",
      "Best Hyper-Params: {'subsample': 0.5, 'n_estimators': 200, 'max_features': None, 'max_depth': 3, 'loss': 'exponential', 'learning_rate': 0.1}\n",
      "\n",
      "Best Estimator: GradientBoostingClassifier(criterion='friedman_mse', init=None,\n",
      "              learning_rate=0.1, loss='exponential', max_depth=3,\n",
      "              max_features=None, max_leaf_nodes=None,\n",
      "              min_impurity_decrease=0.0, min_impurity_split=None,\n",
      "              min_samples_leaf=1, min_samples_split=2,\n",
      "              min_weight_fraction_leaf=0.0, n_estimators=200,\n",
      "              presort='auto', random_state=None, subsample=0.5, verbose=0,\n",
      "              warm_start=False)\n",
      "\n",
      "Searching hyperspace for: MLPClassifier\n",
      "\n",
      "Best Score: 0.500\n",
      "\n",
      "Best Hyper-Params: {'tol': 0.0001, 'solver': 'adam', 'max_iter': 300, 'learning_rate': 'invscaling', 'hidden_layer_sizes': (38, 38, 1), 'early_stopping': True, 'alpha': 0.0001, 'activation': 'relu'}\n",
      "\n",
      "Best Estimator: MLPClassifier(activation='relu', alpha=0.0001, batch_size='auto', beta_1=0.9,\n",
      "       beta_2=0.999, early_stopping=True, epsilon=1e-08,\n",
      "       hidden_layer_sizes=(38, 38, 1), learning_rate='invscaling',\n",
      "       learning_rate_init=0.001, max_iter=300, momentum=0.9,\n",
      "       nesterovs_momentum=True, power_t=0.5, random_state=None,\n",
      "       shuffle=True, solver='adam', tol=0.0001, validation_fraction=0.1,\n",
      "       verbose=False, warm_start=False)\n",
      "\n"
     ]
    }
   ],
   "source": [
    "# WARNING: this stuff takes a long time to run!\n",
    "\n",
    "# to hold onto the best models\n",
    "hyperoptimized_models = []\n",
    "\n",
    "# search for the best hyperparameters\n",
    "for est_str in hyperspaces_to_search:\n",
    "    \n",
    "    print('Searching hyperspace for:', est_str)\n",
    "    \n",
    "    best_est = search_best_hyperparams( eval(est_str+'()' ), \n",
    "                                        hyperspaces_to_search[est_str], X, y, \n",
    "                                        scoring='roc_auc',\n",
    "                                        n_iter = 1 # for testing, for meaningful search use n_iter = 50 or more\n",
    "                                      )\n",
    "    \n",
    "    hyperoptimized_models.append(best_est)\n",
    "    \n",
    "    print()\n"
   ]
  },
  {
   "cell_type": "code",
   "execution_count": null,
   "metadata": {},
   "outputs": [],
   "source": [
    "# evaluate these models with optimized hyperparameters and add them to the MMS service\n",
    "for model in hyperoptimized_models:\n",
    "    print('Updating MMS with', model)\n",
    "    print()\n",
    "    mms.score_model(model,X,y)\n",
    "    print()"
   ]
  },
  {
   "cell_type": "code",
   "execution_count": null,
   "metadata": {},
   "outputs": [],
   "source": [
    "mms.save_models()"
   ]
  },
  {
   "cell_type": "markdown",
   "metadata": {},
   "source": [
    "#### Validation Curves"
   ]
  },
  {
   "cell_type": "code",
   "execution_count": 30,
   "metadata": {},
   "outputs": [],
   "source": [
    "# def func to plot validation curves for the param passed\n",
    "def plot_validation_curve (est, X, y, param_name, param_range, scoring='roc_auc', semilogx=True, n_jobs=-1):\n",
    "    \"\"\"\n",
    "    Plot validation curve, i.e. the scores for a param's range.\n",
    "        \n",
    "    Parameters\n",
    "    -----------\n",
    "    est  : estimator\n",
    "    X    : predictor variables\n",
    "    y    : response variable\n",
    "    param_name : name of the parameter to use\n",
    "    param_range : range of parameters to run through\n",
    "    scoring : the scoring criterium\n",
    "    cv   : number of cross-validated folds    \n",
    "    semilogx : whether to use semi-log scale for x-axis\n",
    "    n_jobs : number of parallel jobs\n",
    "    \n",
    "    Returns:\n",
    "    --------\n",
    "    None\n",
    "    \"\"\"\n",
    "    \n",
    "    scoring_list = ['accuracy', 'precision', 'recall', 'f1', 'roc_auc']\n",
    "    assert scoring in scoring_list, \"scoring='%s' can only be one of %s\" % (scoring, scoring_list)\n",
    "           \n",
    "    \n",
    "    train_scores, test_scores = validation_curve(est, X, y, \n",
    "                                                 param_name=param_name, param_range=param_range,\n",
    "                                                 scoring=scoring,                                    \n",
    "                                                 n_jobs=n_jobs)\n",
    "    \n",
    "    train_scores_mean = np.mean(train_scores, axis=1)\n",
    "    train_scores_std = np.std(train_scores, axis=1)\n",
    "    test_scores_mean = np.mean(test_scores, axis=1)\n",
    "    test_scores_std = np.std(test_scores, axis=1)\n",
    "    \n",
    "    # plot the validation lines\n",
    "    if semilogx:\n",
    "        plt.semilogx(param_range, train_scores_mean, label=\"Training score\", color=\"b\")\n",
    "        plt.semilogx(param_range, test_scores_mean, label=\"Cross-validation score\", color=\"g\")\n",
    "    else:\n",
    "        plt.plot(param_range, train_scores_mean, label=\"Training score\", color=\"b\")\n",
    "        plt.plot(param_range, test_scores_mean, label=\"Cross-validation score\", color=\"g\")\n",
    "    \n",
    "    # highlight the area of +/- 1 std\n",
    "    \n",
    "    plt.fill_between(param_range, \n",
    "                     train_scores_mean - train_scores_std, train_scores_mean + train_scores_std, \n",
    "                     alpha=0.3, color=\"b\")\n",
    "                     \n",
    "    plt.fill_between(param_range, \n",
    "                     test_scores_mean - test_scores_std, test_scores_mean + test_scores_std, \n",
    "                     alpha=0.3, color=\"g\")\n",
    "\n",
    "    plt.ylim(-.02,1.02)\n",
    "    plt.grid(b=True, axis='both')\n",
    "    \n",
    "    plt.xlabel(param_name)\n",
    "    plt.ylabel(\"Score\")\n",
    "    plt.legend(loc=\"best\",framealpha=0.3)\n",
    "    plt.title(\"Validation Curve\")\n",
    "    \n",
    "    return"
   ]
  },
  {
   "cell_type": "code",
   "execution_count": 31,
   "metadata": {
    "scrolled": false
   },
   "outputs": [
    {
     "data": {
      "image/png": "[encoded data removed]",
      "text/plain": [
       "<Figure size 432x288 with 1 Axes>"
      ]
     },
     "metadata": {},
     "output_type": "display_data"
    }
   ],
   "source": [
    "from sklearn.linear_model import SGDClassifier\n",
    "\n",
    "est = SGDClassifier(loss = 'hinge', # equivalent to a linear SVM\n",
    "                    l1_ratio=0.0,   # Elastic Net mixing parameter; 0 corresponds to L2 penalty, l1_ratio=1 to L1\n",
    "                    class_weight='balanced',\n",
    "                    max_iter=100,\n",
    "                    )\n",
    "\n",
    "plot_validation_curve(est, X_train, y_train, \n",
    "                      param_name='l1_ratio', \n",
    "                      param_range=np.linspace(0,1,10), \n",
    "                      scoring='f1', # f1 is the harmonic mean of Precision and Recall\n",
    "                      semilogx=False)"
   ]
  },
  {
   "cell_type": "markdown",
   "metadata": {},
   "source": [
    "###### [Next: *3b. model development*](Predicting-Loan-Defaults-3b-model-development.ipynb)"
   ]
  }
 ],
 "metadata": {
  "kernelspec": {
   "display_name": "Python 3",
   "language": "python",
   "name": "python3"
  },
  "language_info": {
   "codemirror_mode": {
    "name": "ipython",
    "version": 3
   },
   "file_extension": ".py",
   "mimetype": "text/x-python",
   "name": "python",
   "nbconvert_exporter": "python",
   "pygments_lexer": "ipython3",
   "version": "3.6.4"
  }
 },
 "nbformat": 4,
 "nbformat_minor": 2
}
